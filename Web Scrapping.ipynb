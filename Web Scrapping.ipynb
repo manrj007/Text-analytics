{
 "cells": [
  {
   "cell_type": "code",
   "execution_count": 1,
   "metadata": {},
   "outputs": [],
   "source": [
    "import pandas as pd\n",
    "import numpy as np\n",
    "import matplotlib.pyplot as plt\n",
    "import seaborn as sns\n",
    "from bs4 import BeautifulSoup\n",
    "import nltk\n",
    "import requests\n",
    "\n",
    "%matplotlib inline"
   ]
  },
  {
   "cell_type": "code",
   "execution_count": 12,
   "metadata": {},
   "outputs": [],
   "source": [
    "from urllib.request import urlopen"
   ]
  },
  {
   "cell_type": "code",
   "execution_count": 35,
   "metadata": {},
   "outputs": [
    {
     "name": "stdout",
     "output_type": "stream",
     "text": [
      "Wall time: 3.83 s\n"
     ]
    }
   ],
   "source": [
    "%%time\n",
    "\n",
    "page = 'https://www.yahoo.com/entertainment/movies/'\n",
    "url = urlopen(page).read()\n",
    "soup = BeautifulSoup(url,'html.parser')\n",
    "soup.title.text"
   ]
  },
  {
   "cell_type": "code",
   "execution_count": 36,
   "metadata": {},
   "outputs": [
    {
     "data": {
      "text/plain": [
       "'Movies | Yahoo Entertainment'"
      ]
     },
     "execution_count": 36,
     "metadata": {},
     "output_type": "execute_result"
    }
   ],
   "source": [
    "soup.title.text"
   ]
  },
  {
   "cell_type": "code",
   "execution_count": 37,
   "metadata": {},
   "outputs": [],
   "source": [
    "reviews = soup.findAll('div',{'class':'tdv2-applet-stream Bdc(#e2e2e6)'})"
   ]
  },
  {
   "cell_type": "code",
   "execution_count": 41,
   "metadata": {
    "scrolled": true
   },
   "outputs": [
    {
     "name": "stdout",
     "output_type": "stream",
     "text": [
      "Why just watch your favorite movies when you can wear them? Hot Topic is your destination for affordable film-inspired footwear.\n",
      "Zac Efron has signed on to voice Fred Jones while Amanda Seyfried will voice Daphne Blake in Warner Bros.' animated Scooby-Doo feature film \"Scoob.\" It was revealed earlier this month that Will Forte had been set to voice Norville \"Shaggy\" Rogers, while Gina Rodriguez would be voicing Velma Dinkley. The mystery-solving teens and their talking […]\n",
      "All About the Elizabeth Holmes Movie Starring Jennifer Lawrence\n",
      "37 theories about Jordan Peele's new horror hit \"Us.\"\n",
      "The first trailer for Unicorn Store, Brie Larson’s directorial debut, which also just so happens to star Captain Marvel herself, has been released ahead of its release on Netflix.  Written by Samantha McIntyre, Unicorn Store sees Larson play a whimsical painter who is kicked out of art school and has to take a dull office job as well as move back in with her parents.\n",
      "Some want an MCU buddy film starring the female supers, while others are looking to ship the popular characters.\n",
      "It'll be hard to get your hands on, but totally worth it.\n",
      "\"> Jordan Peele out here literally dressed as Jack Torrance\n",
      "Fans anxious for a sequel to \"Call Me by Your Name\" can take solace in thefact that a follow-up is, in fact, happening ― at least in book form\n",
      "The film, which centers around the friendship between Rogers and journalist Tom Junod, will premiere later this year.\n",
      "Superhero star explains why he stood up for Brie Larson, says there's no rivalry between Marvel blockbuster and upcoming DC release.\n",
      "The Oscar-nominated actress who played Scout addresses the film's legacy, why she left Hollywood, and Aaron Sorkin's hit Broadway update.\n",
      "Chad Stahelski's third entry in his stylish action franchise opens the summer movie season with a bang — or a thousand.\n",
      "Dora the Explorer live-action movie posters explore Lost City of Gold\n",
      "Noah Centineo is in talks to play the lead role of He-Man in Sony Pictures and Mattel Films “Masters of the Universe,” an individual with knowledge of the project exclusively tells TheWrap.Aaron and Adam Nee are set to direct from a script rewritten by “Iron Man” screenwriters Matt Holloway and Art Marcum.  The Nee Brothers also have screenwriting credit.The project was previously written by David S. Goyer, who is also an executive producer.Also Read: 10 Major Takeaways From That Super Exciting New 'Avengers: Endgame' TrailerBased on Mattel’s hugely successful 1980s toy line, “Masters of the Universe” follows Prince Adam, heir to the throne of planet Eternia, who uses the magical Power Sword to transform into the heroic warrior He-Man. With the help of his allies Teela, Man-at-Arms, Orko and The Sorceress, He-Man defends the kingdom from the evil wizard Skeletor (so-named because his face is an exposed skull), who seeks to gain control of Castle Grayskull, source of He-Man’s powers.Launched in 1982, the toy line was notable for an ever-expanding roster of colorful characters with weird gimmicks — like “Mekaneck,” whose neck extends, or “Man-E-Faces,” who transforms his head from human to robot to monster — and for minicomics included with every toy that explained and expanded the line’s lore. The line’s popularity was boosted by “He-Man and the Masters of the Universe,” an animated series produced by Filmation from 1983-1985. That show spawned a feature animated film “He-Man and She-Ra: The Secret of the Sword,” and the for-television “He-Man & She-Ra: A Christmas Special,” launching the successor “She-Ra: Princess of Power” cartoon and line of toys.Also Read: 'Iron Man' Scribes in Talks to Rewrite 'Masters of the Universe' For Mattel Films“Masters of the Universe” was previously adapted as a live-action film in 1987, with Dolph Lundgren as He-Man and Frank Langella as Skeletor, and featuring Courtney Cox in one of her first film roles.The new film is being produced by Escape Artists principals Todd Black, Jason Blumenthal and Steve Tisch.Hot off the success of Netflix’s “To All The Boys I’ve Loved Before” and “Sierra Burgess Is A Loser,” Centineo just began production on “To All The Boys 2” and will be seen in “Charlie’s Angels” later this year.Centineo is repped by Definition Entertainment, CAA and Myman Greenspan.Sony had no comment.Read original story Noah Centineo in Talks to Play He-Man in Sony and Mattel Films ‘Masters of the Universe’ (Exclusive) At TheWrap\n",
      "EXCLUSIVE: With directing gigs on Big 4 shows like Whiskey Cavalier and The Red Line, Matthew A. Cherry has a pretty full dance card this year, but the BlacKkKlansman executive producer is heading into some new territory also. Animation, to be precise. Coming off a record breaking Kickstarter campaign two years ago to raise funds for Hair Love, Cherry has now partnered with Sony Pictures Animation on the short film, I've learned. \"In the past year, it has been very clear…\n",
      "Reeves and co-star Alex Winter say that after years of trying, their threequel is totally in production.\n",
      "Disney could incorporate Wolverine and the Fantastic Four into the Marvel Cinematic Universe, or reboot the franchises entirely.\n",
      "What does the Disney-Fox merger mean for Marvel movies?\n",
      "The two actors join John David Washington in Warner Bros.' upcoming Nolan tentpole.\n",
      "Robert Downey Jr. mustache Twitter a very important question. The Iron Man himself assembled an elite force of very opinionated Twitter users when he put his fellow Avengers co-stars on blast. With some throwback photos, he called upon the forces of the internet, asking them to settle the debate once and for all -- who wore it best? > Ok this time it's real--Who wore it best, @ChrisEvans @MarkRuffalo? pic.twitter.com/EyrKGKVfem> > -- Robert Downey Jr (@RobertDowneyJr) March 20, 2019Some fans immediately jumped into their extremely valid (and slightly thirst-driven) opinions. > My vote is for Mark ❤ pic.twitter.com/xDVXXcKDXR> > -- Brucenat ♡ (@brucesnat) March 20, 2019> i gotta go with @chrishemsworth pic.twitter.com/ttKxnb4xFD> > -- anshe | 36 (@valkyrieIoki) March 20, 2019> and according to this magazine,, Evans did  pic.twitter.com/36URqt8I1P> > -- ale | 29 (@HisDuckling) March 20, 2019> You forgot to include the best one  pic.twitter.com/BTMvSEssrw> > -- Ivana (@IvanaIvLukic) March 20, 2019> @Renner4Real sorry not sorry pic.twitter.com/aWaEBc6qMI> > -- conno  (@thababes) March 20, 2019> This one pic.twitter.com/POnItKgjdu> > -- Kat (@Katl0204) March 20, 2019For others, though, the competition was getting a little too hairy. So, naturally, the memes started rolling in.> Well... pic.twitter.com/qQZqzY9Uqq> > -- Alex  the sky's the limit,your sky,your limit (@_DieGrinsekatze) March 20, 2019> Ikr pic.twitter.com/6HdtSOPV2M> > -- beth || CAROL OWNS MY ASS (@vanelloki) March 20, 2019> None of the above  @GwynethPaltrow >>>>>>>> pic.twitter.com/F2QIyXyhFw> > -- pepperonyforever⚡ (@Yoshy7Ma) March 20, 2019> this pic.twitter.com/7cHrKGVsNa> > -- petering bad | tony yi oldurmeyin (@hllndstark) March 20, 2019Personally, I think Twitter has got this ALL wrong. You want to know who wore it best out of everyone in the entire MCU? Have you forgotten about cameo legend, Stan Lee? > he wore it better than y'all pic.twitter.com/t1Vxp7XJqD> > -- su ama lokabrenna (@polaristrange) March 20, 2019> pic.twitter.com/MFHqiYCrz0> > -- Suravy (@blaugrana_su) March 20, 2019You heard the man. \"'Nuff said.\"  WATCH: Disney reaches out to terminally ill Avengers fan\n",
      "See Tom Hanks Embody Mr. Rogers in A Beautiful Day in the Neighborhood\n",
      "\"Us,\" Jordan Peele's follow-up to \"Get Out,\" will once again scare you and make you think in equal measure.\n",
      "The filmmaker offers a sneak peek at his upcoming retro epic, which explores 1969 Tinseltown amid the backdrop of the Manson murders.\n",
      "Trust Deadpool to troll his brand new bosses\n"
     ]
    }
   ],
   "source": [
    "for i in soup.findAll('p'):\n",
    "    print(i.text)"
   ]
  },
  {
   "cell_type": "code",
   "execution_count": null,
   "metadata": {},
   "outputs": [],
   "source": [
    "reviews.find('')"
   ]
  }
 ],
 "metadata": {
  "kernelspec": {
   "display_name": "Python 3",
   "language": "python",
   "name": "python3"
  },
  "language_info": {
   "codemirror_mode": {
    "name": "ipython",
    "version": 3
   },
   "file_extension": ".py",
   "mimetype": "text/x-python",
   "name": "python",
   "nbconvert_exporter": "python",
   "pygments_lexer": "ipython3",
   "version": "3.6.5"
  }
 },
 "nbformat": 4,
 "nbformat_minor": 2
}
