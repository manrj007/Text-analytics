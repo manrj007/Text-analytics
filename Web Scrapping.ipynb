{
 "cells": [
  {
   "cell_type": "code",
   "execution_count": 28,
   "metadata": {},
   "outputs": [],
   "source": [
    "import pandas as pd\n",
    "import numpy as np\n",
    "import matplotlib.pyplot as plt\n",
    "import nltk\n",
    "from bs4 import BeautifulSoup\n",
    "import requests"
   ]
  },
  {
   "cell_type": "code",
   "execution_count": 31,
   "metadata": {
    "scrolled": true
   },
   "outputs": [],
   "source": [
    "url = 'https://www.amazon.in/Honor-Play-Navy-Blue-Storage/product-reviews/B077Q42DTC/ref=dpx_acr_txt?showViewpoints=1'\n",
    "page = requests.get(url).text\n",
    "# type(page)"
   ]
  },
  {
   "cell_type": "code",
   "execution_count": 32,
   "metadata": {},
   "outputs": [
    {
     "data": {
      "text/plain": [
       "'Amazon.in:Customer reviews: Honor Play (Navy Blue, 4GB RAM, 64GB Storage)'"
      ]
     },
     "execution_count": 32,
     "metadata": {},
     "output_type": "execute_result"
    }
   ],
   "source": [
    "soup = BeautifulSoup(page, 'lxml')\n",
    "soup.title.text"
   ]
  },
  {
   "cell_type": "code",
   "execution_count": 59,
   "metadata": {},
   "outputs": [],
   "source": [
    "reviews = soup.findAll('div', {'class': 'a-section celwidget'})"
   ]
  },
  {
   "cell_type": "code",
   "execution_count": 64,
   "metadata": {},
   "outputs": [],
   "source": [
    "df_reviews = pd.DataFrame(columns=['username', 'header', 'reviewdate', 'product_desc','text'])"
   ]
  },
  {
   "cell_type": "code",
   "execution_count": 65,
   "metadata": {},
   "outputs": [
    {
     "data": {
      "text/html": [
       "<div>\n",
       "<style scoped>\n",
       "    .dataframe tbody tr th:only-of-type {\n",
       "        vertical-align: middle;\n",
       "    }\n",
       "\n",
       "    .dataframe tbody tr th {\n",
       "        vertical-align: top;\n",
       "    }\n",
       "\n",
       "    .dataframe thead th {\n",
       "        text-align: right;\n",
       "    }\n",
       "</style>\n",
       "<table border=\"1\" class=\"dataframe\">\n",
       "  <thead>\n",
       "    <tr style=\"text-align: right;\">\n",
       "      <th></th>\n",
       "      <th>username</th>\n",
       "      <th>header</th>\n",
       "      <th>reviewdate</th>\n",
       "      <th>product_desc</th>\n",
       "      <th>text</th>\n",
       "    </tr>\n",
       "  </thead>\n",
       "  <tbody>\n",
       "  </tbody>\n",
       "</table>\n",
       "</div>"
      ],
      "text/plain": [
       "Empty DataFrame\n",
       "Columns: [username, header, reviewdate, product_desc, text]\n",
       "Index: []"
      ]
     },
     "execution_count": 65,
     "metadata": {},
     "output_type": "execute_result"
    }
   ],
   "source": [
    "df_reviews.head()"
   ]
  },
  {
   "cell_type": "code",
   "execution_count": 72,
   "metadata": {},
   "outputs": [
    {
     "data": {
      "text/plain": [
       "[<i class=\"nav-icon\"></i>,\n",
       " <i class=\"a-icon a-icon-star-medium a-star-medium-4-5 averageStarRating\" data-hook=\"average-star-rating\"><span class=\"a-icon-alt\">4.4 out of 5 stars</span></i>,\n",
       " <i class=\"a-icon a-icon-popover\"></i>,\n",
       " <i aria-label=\"|\" class=\"a-icon a-icon-text-separator\" role=\"img\"></i>,\n",
       " <i aria-label=\"|\" class=\"a-icon a-icon-text-separator\" role=\"img\"></i>,\n",
       " <i class=\"a-icon a-icon-cart\"></i>,\n",
       " <i class=\"a-icon a-icon-alert\"></i>,\n",
       " <i class=\"a-icon a-icon-star a-star-5 review-rating\" data-hook=\"review-star-rating-view-point\"><span class=\"a-icon-alt\">5.0 out of 5 stars</span></i>,\n",
       " <i class=\"a-icon a-icon-star a-star-3 review-rating\" data-hook=\"review-star-rating-view-point\"><span class=\"a-icon-alt\">3.0 out of 5 stars</span></i>,\n",
       " <i class=\"a-icon a-icon-search\"></i>,\n",
       " <i class=\"a-icon a-icon-dropdown\"></i>,\n",
       " <i class=\"a-icon a-icon-dropdown\"></i>,\n",
       " <i class=\"a-icon a-icon-dropdown\"></i>,\n",
       " <i class=\"a-icon a-icon-dropdown\"></i>,\n",
       " <i class=\"a-icon a-icon-dropdown\"></i>,\n",
       " <i class=\"a-icon a-icon-alert\"></i>,\n",
       " <i class=\"a-icon a-icon-star a-star-5 review-rating\" data-hook=\"review-star-rating\"><span class=\"a-icon-alt\">5.0 out of 5 stars</span></i>,\n",
       " <i aria-label=\"|\" class=\"a-icon a-icon-text-separator\" role=\"img\"></i>,\n",
       " <i aria-label=\"|\" class=\"a-icon a-icon-text-separator\" role=\"img\"></i>,\n",
       " <i aria-label=\"|\" class=\"a-icon a-icon-text-separator\" role=\"img\"></i>,\n",
       " <i class=\"a-icon a-icon-expand\"></i>,\n",
       " <i aria-label=\"|\" class=\"a-icon a-icon-text-separator\" role=\"img\"></i>,\n",
       " <i class=\"a-icon a-icon-alert\"></i>,\n",
       " <i class=\"a-icon a-icon-alert\"></i>,\n",
       " <i class=\"a-icon a-icon-star a-star-4 review-rating\" data-hook=\"review-star-rating\"><span class=\"a-icon-alt\">4.0 out of 5 stars</span></i>,\n",
       " <i aria-label=\"|\" class=\"a-icon a-icon-text-separator\" role=\"img\"></i>,\n",
       " <i aria-label=\"|\" class=\"a-icon a-icon-text-separator\" role=\"img\"></i>,\n",
       " <i class=\"a-icon a-icon-popover\"></i>,\n",
       " <i aria-label=\"|\" class=\"a-icon a-icon-text-separator\" role=\"img\"></i>,\n",
       " <i class=\"a-icon a-icon-expand\"></i>,\n",
       " <i aria-label=\"|\" class=\"a-icon a-icon-text-separator\" role=\"img\"></i>,\n",
       " <i class=\"a-icon a-icon-alert\"></i>,\n",
       " <i class=\"a-icon a-icon-alert\"></i>,\n",
       " <i class=\"a-icon a-icon-star a-star-4 review-rating\" data-hook=\"review-star-rating\"><span class=\"a-icon-alt\">4.0 out of 5 stars</span></i>,\n",
       " <i aria-label=\"|\" class=\"a-icon a-icon-text-separator\" role=\"img\"></i>,\n",
       " <i aria-label=\"|\" class=\"a-icon a-icon-text-separator\" role=\"img\"></i>,\n",
       " <i aria-label=\"|\" class=\"a-icon a-icon-text-separator\" role=\"img\"></i>,\n",
       " <i class=\"a-icon a-icon-expand\"></i>,\n",
       " <i aria-label=\"|\" class=\"a-icon a-icon-text-separator\" role=\"img\"></i>,\n",
       " <i class=\"a-icon a-icon-alert\"></i>,\n",
       " <i class=\"a-icon a-icon-alert\"></i>,\n",
       " <i class=\"a-icon a-icon-star a-star-3 review-rating\" data-hook=\"review-star-rating\"><span class=\"a-icon-alt\">3.0 out of 5 stars</span></i>,\n",
       " <i aria-label=\"|\" class=\"a-icon a-icon-text-separator\" role=\"img\"></i>,\n",
       " <i aria-label=\"|\" class=\"a-icon a-icon-text-separator\" role=\"img\"></i>,\n",
       " <i aria-label=\"|\" class=\"a-icon a-icon-text-separator\" role=\"img\"></i>,\n",
       " <i class=\"a-icon a-icon-expand\"></i>,\n",
       " <i aria-label=\"|\" class=\"a-icon a-icon-text-separator\" role=\"img\"></i>,\n",
       " <i class=\"a-icon a-icon-alert\"></i>,\n",
       " <i class=\"a-icon a-icon-alert\"></i>,\n",
       " <i class=\"a-icon a-icon-star a-star-5 review-rating\" data-hook=\"review-star-rating\"><span class=\"a-icon-alt\">5.0 out of 5 stars</span></i>,\n",
       " <i aria-label=\"|\" class=\"a-icon a-icon-text-separator\" role=\"img\"></i>,\n",
       " <i aria-label=\"|\" class=\"a-icon a-icon-text-separator\" role=\"img\"></i>,\n",
       " <i aria-label=\"|\" class=\"a-icon a-icon-text-separator\" role=\"img\"></i>,\n",
       " <i class=\"a-icon a-icon-expand\"></i>,\n",
       " <i aria-label=\"|\" class=\"a-icon a-icon-text-separator\" role=\"img\"></i>,\n",
       " <i class=\"a-icon a-icon-alert\"></i>,\n",
       " <i class=\"a-icon a-icon-alert\"></i>,\n",
       " <i class=\"a-icon a-icon-star a-star-5 review-rating\" data-hook=\"review-star-rating\"><span class=\"a-icon-alt\">5.0 out of 5 stars</span></i>,\n",
       " <i aria-label=\"|\" class=\"a-icon a-icon-text-separator\" role=\"img\"></i>,\n",
       " <i aria-label=\"|\" class=\"a-icon a-icon-text-separator\" role=\"img\"></i>,\n",
       " <i aria-label=\"|\" class=\"a-icon a-icon-text-separator\" role=\"img\"></i>,\n",
       " <i class=\"a-icon a-icon-expand\"></i>,\n",
       " <i aria-label=\"|\" class=\"a-icon a-icon-text-separator\" role=\"img\"></i>,\n",
       " <i class=\"a-icon a-icon-alert\"></i>,\n",
       " <i class=\"a-icon a-icon-alert\"></i>,\n",
       " <i class=\"a-icon a-icon-star a-star-5 review-rating\" data-hook=\"review-star-rating\"><span class=\"a-icon-alt\">5.0 out of 5 stars</span></i>,\n",
       " <i aria-label=\"|\" class=\"a-icon a-icon-text-separator\" role=\"img\"></i>,\n",
       " <i aria-label=\"|\" class=\"a-icon a-icon-text-separator\" role=\"img\"></i>,\n",
       " <i aria-label=\"|\" class=\"a-icon a-icon-text-separator\" role=\"img\"></i>,\n",
       " <i class=\"a-icon a-icon-expand\"></i>,\n",
       " <i aria-label=\"|\" class=\"a-icon a-icon-text-separator\" role=\"img\"></i>,\n",
       " <i class=\"a-icon a-icon-alert\"></i>,\n",
       " <i class=\"a-icon a-icon-alert\"></i>,\n",
       " <i class=\"a-icon a-icon-star a-star-4 review-rating\" data-hook=\"review-star-rating\"><span class=\"a-icon-alt\">4.0 out of 5 stars</span></i>,\n",
       " <i aria-label=\"|\" class=\"a-icon a-icon-text-separator\" role=\"img\"></i>,\n",
       " <i aria-label=\"|\" class=\"a-icon a-icon-text-separator\" role=\"img\"></i>,\n",
       " <i class=\"a-icon a-icon-popover\"></i>,\n",
       " <i aria-label=\"|\" class=\"a-icon a-icon-text-separator\" role=\"img\"></i>,\n",
       " <i class=\"a-icon a-icon-expand\"></i>,\n",
       " <i aria-label=\"|\" class=\"a-icon a-icon-text-separator\" role=\"img\"></i>,\n",
       " <i class=\"a-icon a-icon-alert\"></i>,\n",
       " <i class=\"a-icon a-icon-alert\"></i>,\n",
       " <i class=\"a-icon a-icon-star a-star-1 review-rating\" data-hook=\"review-star-rating\"><span class=\"a-icon-alt\">1.0 out of 5 stars</span></i>,\n",
       " <i aria-label=\"|\" class=\"a-icon a-icon-text-separator\" role=\"img\"></i>,\n",
       " <i aria-label=\"|\" class=\"a-icon a-icon-text-separator\" role=\"img\"></i>,\n",
       " <i class=\"a-icon a-icon-popover\"></i>,\n",
       " <i aria-label=\"|\" class=\"a-icon a-icon-text-separator\" role=\"img\"></i>,\n",
       " <i class=\"a-icon a-icon-expand\"></i>,\n",
       " <i aria-label=\"|\" class=\"a-icon a-icon-text-separator\" role=\"img\"></i>,\n",
       " <i class=\"a-icon a-icon-alert\"></i>,\n",
       " <i class=\"a-icon a-icon-alert\"></i>,\n",
       " <i class=\"a-icon a-icon-star a-star-3 review-rating\" data-hook=\"review-star-rating\"><span class=\"a-icon-alt\">3.0 out of 5 stars</span></i>,\n",
       " <i aria-label=\"|\" class=\"a-icon a-icon-text-separator\" role=\"img\"></i>,\n",
       " <i aria-label=\"|\" class=\"a-icon a-icon-text-separator\" role=\"img\"></i>,\n",
       " <i aria-label=\"|\" class=\"a-icon a-icon-text-separator\" role=\"img\"></i>,\n",
       " <i class=\"a-icon a-icon-expand\"></i>,\n",
       " <i aria-label=\"|\" class=\"a-icon a-icon-text-separator\" role=\"img\"></i>,\n",
       " <i class=\"a-icon a-icon-alert\"></i>,\n",
       " <i class=\"a-icon a-icon-alert\"></i>,\n",
       " <i class=\"a-icon a-icon-star a-star-4-5\"><span class=\"a-icon-alt\">4.4 out of 5 stars</span></i>,\n",
       " <i class=\"a-icon a-icon-star a-star-4\"><span class=\"a-icon-alt\">3.9 out of 5 stars</span></i>,\n",
       " <i class=\"a-icon a-icon-star a-star-4\"><span class=\"a-icon-alt\">4.0 out of 5 stars</span></i>,\n",
       " <i class=\"a-icon a-icon-star a-star-4\"><span class=\"a-icon-alt\">3.9 out of 5 stars</span></i>]"
      ]
     },
     "execution_count": 72,
     "metadata": {},
     "output_type": "execute_result"
    }
   ],
   "source": [
    "soup.findAll('i')"
   ]
  },
  {
   "cell_type": "code",
   "execution_count": 74,
   "metadata": {
    "scrolled": true
   },
   "outputs": [
    {
     "name": "stdout",
     "output_type": "stream",
     "text": [
      "Go get it you won't repent for sure\n",
      "2 November 2018\n",
      "None\n",
      "Average\n",
      "5 November 2018\n",
      "None\n",
      "WOW\n",
      "15 October 2018\n",
      "None\n",
      "Decent phone with lot of issues\n",
      "24 October 2018\n",
      "None\n",
      "one of the best phone i have purchased\n",
      "27 September 2018\n",
      "None\n",
      "Best Phone at 20k 🔥🔥🔥\n",
      "18 September 2018\n",
      "None\n",
      "Just awsm\n",
      "14 September 2018\n",
      "None\n",
      "Best gaming performance. Good bettery life . Average camera. Premium design\n",
      "6 January 2019\n",
      "None\n",
      "My Phone's Battery Blast\n",
      "8 February 2019\n",
      "None\n",
      "Honor Play \" Review after 30-45 Days.\n",
      "19 October 2018\n",
      "None\n"
     ]
    }
   ],
   "source": [
    "for i in reviews:\n",
    "    title = i.find('span', {'class': ''}).text\n",
    "    header = i.find('span', {'data-hook':'review-date'}).text\n",
    "    desc = i.find('i',{'class':'a-icon a-icon-text-separator'}).text\n",
    "    print(title)\n",
    "    print(header)\n",
    "    print(desc)"
   ]
  },
  {
   "cell_type": "code",
   "execution_count": 15,
   "metadata": {},
   "outputs": [
    {
     "data": {
      "text/html": [
       "<div>\n",
       "<style scoped>\n",
       "    .dataframe tbody tr th:only-of-type {\n",
       "        vertical-align: middle;\n",
       "    }\n",
       "\n",
       "    .dataframe tbody tr th {\n",
       "        vertical-align: top;\n",
       "    }\n",
       "\n",
       "    .dataframe thead th {\n",
       "        text-align: right;\n",
       "    }\n",
       "</style>\n",
       "<table border=\"1\" class=\"dataframe\">\n",
       "  <thead>\n",
       "    <tr style=\"text-align: right;\">\n",
       "      <th></th>\n",
       "      <th>long-reviews</th>\n",
       "    </tr>\n",
       "  </thead>\n",
       "  <tbody>\n",
       "  </tbody>\n",
       "</table>\n",
       "</div>"
      ],
      "text/plain": [
       "Empty DataFrame\n",
       "Columns: [long-reviews]\n",
       "Index: []"
      ]
     },
     "execution_count": 15,
     "metadata": {},
     "output_type": "execute_result"
    }
   ],
   "source": [
    "product.head()"
   ]
  },
  {
   "cell_type": "code",
   "execution_count": 18,
   "metadata": {},
   "outputs": [
    {
     "data": {
      "text/plain": [
       "[]"
      ]
     },
     "execution_count": 18,
     "metadata": {},
     "output_type": "execute_result"
    }
   ],
   "source": [
    "soup.findAll('div', attrs={'id': 'cm_cr-rvw_summary'})"
   ]
  },
  {
   "cell_type": "code",
   "execution_count": 19,
   "metadata": {},
   "outputs": [
    {
     "data": {
      "text/plain": [
       "[]"
      ]
     },
     "execution_count": 19,
     "metadata": {},
     "output_type": "execute_result"
    }
   ],
   "source": [
    "soup.findAll('a')"
   ]
  },
  {
   "cell_type": "code",
   "execution_count": 20,
   "metadata": {},
   "outputs": [
    {
     "data": {
      "text/plain": [
       "'\\nvar aPageStart = (new Date()).getTime();\\n\\n\\n\\n(function(g,h,Q,z){function G(a){x&&x.tag&&x.tag(q(\":\",\"aui\",a))}function v(a,b){x&&x.count&&x.count(\"aui:\"+a,0===b?0:b||(x.count(\"aui:\"+a)||0)+1)}function m(a){try{return a.test(navigator.userAgent)}catch(b){return!1}}function y(a,b,c){a.addEventListener?a.addEventListener(b,c,!1):a.attachEvent&&a.attachEvent(\"on\"+b,c)}function q(a,b,c,d){b=b&&c?b+a+c:b||c;return d?q(a,b,d):b}function H(a,b,c){try{Object.defineProperty(a,b,{value:c,writable:!1})}catch(d){a[b]=c}return c}function R(){return setTimeout(ba,\\n0)}function ua(a,b){var c=a.length,d=c,f=function(){d--||(S.push(b),T||(R(),T=!0))};for(f();c--;)ca[a[c]]?f():(B[a[c]]=B[a[c]]||[]).push(f)}function va(a,b,c,d,f){var e=h.createElement(a?\"script\":\"link\");y(e,\"error\",d);f&&y(e,\"load\",f);if(a){e.type=\"text/javascript\";e.async=!0;if(a=c)a=-1!==b.indexOf(\"images/I\")||/AUIClients/.test(b);a&&e.setAttribute(\"crossorigin\",\"anonymous\");e.src=b}else e.rel=\"stylesheet\",e.href=b;h.getElementsByTagName(\"head\")[0].appendChild(e)}function da(a,b){function c(c,\\nd){function f(){va(b,c,h,function(b){!I&&h?(h=!1,v(\"resource_retry\"),f()):(v(\"resource_error\"),a.log(\"Asset failed to load: \"+c,I?\"WARN\":z));b&&b.stopPropagation?b.stopPropagation():g.event&&(g.event.cancelBubble=!0)},d)}if(ea[c])return!1;ea[c]=!0;v(\"resource_count\");var h=!0;return!f()}if(b){var d=0,f=0;c.andConfirm=function(a,b){return c(a,function(){d++;b&&b.apply(this,arguments)})};c.confirm=function(){f++};c.getCsriCounters=function(){return{reqs:d,full:f}}}return c}function wa(a,b,c){for(var d=\\n{name:a,guard:function(c){return b.guardFatal(a,c)},logError:function(c,d,f){b.logError(c,d,f,a)}},f=[],e=0;e<c.length;e++)J.hasOwnProperty(c[e])&&(f[e]=U.hasOwnProperty(c[e])?U[c[e]](J[c[e]],d):J[c[e]]);return f}function C(a,b,c,d,f){return function(e,h){function m(){var a=null;d?a=h:\"function\"===typeof h&&(p.start=D(),a=h.apply(g,wa(e,k,l)),p.end=D());if(b){J[e]=a;a=e;for(ca[a]=!0;(B[a]||[]).length;)B[a].shift()();delete B[a]}p.done=!0}var k=f||this;\"function\"===typeof e&&(h=e,e=z);b&&(e=e?e.replace(fa,\\n\"\"):\"__NONAME__\",V.hasOwnProperty(e)&&k.error(q(\", reregistered by \",q(\" by \",e+\" already registered\",V[e]),k.attribution),e),V[e]=k.attribution);for(var l=[],n=0;n<a.length;n++)l[n]=a[n].replace(fa,\"\");var p=ga[e||\"anon\"+ ++xa]={depend:l,registered:D(),namespace:k.namespace};c?m():ua(l,k.guardFatal(e,m));return{decorate:function(a){U[e]=k.guardFatal(e,a)}}}}function ha(a){return function(){var b=Array.prototype.slice.call(arguments);return{execute:C(b,!1,a,!1,this),register:C(b,!0,a,!1,this)}}}function W(a,\\nb){return function(c,d){d||(d=c,c=z);var f=this.attribution;return function(){A.push(b||{attribution:f,name:c,logLevel:a});var e=d.apply(this,arguments);A.pop();return e}}}function K(a,b){this.load={js:da(this,!0),css:da(this)};H(this,\"namespace\",b);H(this,\"attribution\",a)}function ia(){h.body?p.trigger(\"a-bodyBegin\"):setTimeout(ia,20)}function E(a,b){if(b){for(var c=a.className.split(\" \"),d=c.length;d--;)if(c[d]===b)return;a.className+=\" \"+b}}function ja(a,b){for(var c=a.className.split(\" \"),d=[],\\nf;(f=c.pop())!==z;)f&&f!==b&&d.push(f);a.className=d.join(\" \")}function ka(a){try{return a()}catch(b){return!1}}function L(){if(M){var a=g.innerWidth?{w:g.innerWidth,h:g.innerHeight}:{w:l.clientWidth,h:l.clientHeight};5<Math.abs(a.w-X.w)||50<a.h-X.h?(X=a,N=4,(a=k.mobile||k.tablet?450<a.w&&a.w>a.h:1250<=a.w)?E(l,\"a-ws\"):ja(l,\"a-ws\")):0<N&&(N--,la=setTimeout(L,16))}}function ya(a){(M=a===z?!M:!!a)&&L()}function za(){return M}function t(a,b){return\"sw:\"+(b||\"\")+\":\"+a+\":\"}function ma(){na.forEach(function(a){G(a)})}\\nfunction r(a){na.push(a)}function oa(a,b,c,d){if(c){b=m(/Chrome/i)&&!m(/Edge/i)&&!m(/OPR/i)&&!a.capabilities.isAmazonApp&&!m(new RegExp(Y+\"bwv\"+Y+\"b\"));var f=t(d,\"browser\"),e=t(d,\"prod_mshop\"),g=t(d,\"beta_mshop\");!a.capabilities.isAmazonApp&&c.browser&&b&&(r(f+\"supported\"),c.browser.action(f,d));!b&&c.browser&&r(f+\"unsupported\");c.prodMshop&&r(e+\"unsupported\");c.betaMshop&&r(g+\"unsupported\")}}\"use strict\";var O=Q.now=Q.now||function(){return+new Q},D=function(a){return a&&a.now?a.now.bind(a):O}(g.performance),\\nAa=D(),u=g.AmazonUIPageJS||g.P;if(u&&u.when&&u.register)throw Error(\"A copy of P has already been loaded on this page.\");var x=g.ue;G();G(\"aui_build_date:3.19.2-2019-03-10\");var S=[],T=!1,ba;ba=function(){for(var a=R(),b=O();S.length;)if(S.shift()(),50<O()-b)return;clearTimeout(a);T=!1};m(/OS 6_[0-9]+ like Mac OS X/i)&&y(g,\"scroll\",R);var ca={},B={},ea={},I=!1;y(g,\"beforeunload\",function(){I=!0;setTimeout(function(){I=!1},1E4)});var fa=/^prv:/,V={},J={},U={},ga={},xa=0,Y=String.fromCharCode(92),F,\\nA=[],pa=g.onerror;g.onerror=function(a,b,c,d,f){f&&\"object\"===typeof f||(f=Error(a,b,c),f.columnNumber=d,f.stack=b||c||d?q(Y,f.message,\"at \"+q(\":\",b,c,d)):z);var e=A.pop()||{};f.attribution=q(\":\",f.attribution||e.attribution,e.name);f.logLevel=e.logLevel;f.attribution&&console&&console.log&&console.log([f.logLevel||\"ERROR\",a,\"thrown by\",f.attribution].join(\" \"));A=[];pa&&(e=[].slice.call(arguments),e[4]=f,pa.apply(g,e))};K.prototype={logError:function(a,b,c,d){b={message:b,logLevel:c||\"ERROR\",attribution:q(\":\",\\nthis.attribution,d)};if(g.ueLogError)return g.ueLogError(a||b,a?b:null),!0;console&&console.error&&(console.log(b),console.error(a));return!1},error:function(a,b,c,d){a=Error(q(\":\",d,a,c));a.attribution=q(\":\",this.attribution,b);throw a;},guardError:W(),guardFatal:W(\"FATAL\"),guardCurrent:function(a){var b=A[A.length-1];return b?W(b.logLevel,b).call(this,a):a},log:function(a,b,c){return this.logError(null,a,b,c)},declare:C([],!0,!0,!0),register:C([],!0),execute:C([]),AUI_BUILD_DATE:\"3.19.2-2019-03-10\",\\nwhen:ha(),now:ha(!0),trigger:function(a,b,c){var d=O();this.declare(a,{data:b,pageElapsedTime:d-(g.aPageStart||NaN),triggerTime:d});c&&c.instrument&&F.when(\"prv:a-logTrigger\").execute(function(b){b(a)})},handleTriggers:function(){this.log(\"handleTriggers deprecated\")},attributeErrors:function(a){return new K(a)},_namespace:function(a,b){return new K(a,b)}};var p=H(g,\"AmazonUIPageJS\",new K);F=p._namespace(\"PageJS\",\"AmazonUI\");F.declare(\"prv:p-debug\",ga);p.declare(\"p-recorder-events\",[]);p.declare(\"p-recorder-stop\",\\nfunction(){});H(g,\"P\",p);ia();if(h.addEventListener){var qa;h.addEventListener(\"DOMContentLoaded\",qa=function(){p.trigger(\"a-domready\");h.removeEventListener(\"DOMContentLoaded\",qa,!1)},!1)}var l=h.documentElement,Z=function(){var a=[\"O\",\"ms\",\"Moz\",\"Webkit\"],b=h.createElement(\"div\");return{testGradients:function(){b.style.cssText=\"background-image:-webkit-gradient(linear,left top,right bottom,from(#9f9),to(white));background-image:-webkit-linear-gradient(left top,#9f9,white);background-image:linear-gradient(left top,#9f9,white);\";\\nreturn-1<b.style.backgroundImage.indexOf(\"gradient\")},test:function(c){var d=c.charAt(0).toUpperCase()+c.substr(1);c=(a.join(d+\" \")+d+\" \"+c).split(\" \");for(d=c.length;d--;)if(\"\"===b.style[c[d]])return!0;return!1},testTransform3d:function(){var a=!1;g.matchMedia&&(a=g.matchMedia(\"(-webkit-transform-3d)\").matches);return a}}}(),u=l.className,ra=/(^| )a-mobile( |$)/.test(u),sa=/(^| )a-tablet( |$)/.test(u),k={audio:function(){return!!h.createElement(\"audio\").canPlayType},video:function(){return!!h.createElement(\"video\").canPlayType},\\ncanvas:function(){return!!h.createElement(\"canvas\").getContext},svg:function(){return!!h.createElementNS&&!!h.createElementNS(\"http://www.w3.org/2000/svg\",\"svg\").createSVGRect},offline:function(){return navigator.hasOwnProperty&&navigator.hasOwnProperty(\"onLine\")&&navigator.onLine},dragDrop:function(){return\"draggable\"in h.createElement(\"span\")},geolocation:function(){return!!navigator.geolocation},history:function(){return!(!g.history||!g.history.pushState)},webworker:function(){return!!g.Worker},\\nautofocus:function(){return\"autofocus\"in h.createElement(\"input\")},inputPlaceholder:function(){return\"placeholder\"in h.createElement(\"input\")},textareaPlaceholder:function(){return\"placeholder\"in h.createElement(\"textarea\")},localStorage:function(){return\"localStorage\"in g&&null!==g.localStorage},orientation:function(){return\"orientation\"in g},touch:function(){return\"ontouchend\"in h},gradients:function(){return Z.testGradients()},hires:function(){var a=g.devicePixelRatio&&1.5<=g.devicePixelRatio||\\ng.matchMedia&&g.matchMedia(\"(min-resolution:144dpi)\").matches;v(\"hiRes\"+(ra?\"Mobile\":sa?\"Tablet\":\"Desktop\"),a?1:0);return a},transform3d:function(){return Z.testTransform3d()},touchScrolling:function(){return m(/Windowshop|android.([3-9]|[L-Z])|OS ([5-9]|[1-9][0-9]+)(_[0-9]{1,2})+ like Mac OS X|Chrome|Silk|Firefox|Trident.+?; Touch/i)},ios:function(){return m(/OS [1-9][0-9]*(_[0-9]*)+ like Mac OS X/i)&&!m(/trident|Edge/i)},android:function(){return m(/android.([1-9]|[L-Z])/i)&&!m(/trident|Edge/i)},\\nmobile:function(){return ra},tablet:function(){return sa},rtl:function(){return\"rtl\"===l.dir}},n;for(n in k)k.hasOwnProperty(n)&&(k[n]=ka(k[n]));for(var aa=\"textShadow textStroke boxShadow borderRadius borderImage opacity transform transition\".split(\" \"),P=0;P<aa.length;P++)k[aa[P]]=ka(function(){return Z.test(aa[P])});var M=!0,la=0,X={w:0,h:0},N=4;L();y(g,\"resize\",function(){clearTimeout(la);N=4;L()});var ta={getItem:function(a){try{return g.localStorage.getItem(a)}catch(b){}},setItem:function(a,\\nb){try{return g.localStorage.setItem(a,b)}catch(c){}}};ja(l,\"a-no-js\");E(l,\"a-js\");!m(/OS [1-8](_[0-9]*)+ like Mac OS X/i)||g.navigator.standalone||m(/safari/i)||E(l,\"a-ember\");u=[];for(n in k)k.hasOwnProperty(n)&&k[n]&&u.push(\"a-\"+n.replace(/([A-Z])/g,function(a){return\"-\"+a.toLowerCase()}));E(l,u.join(\" \"));l.setAttribute(\"data-aui-build-date\",\"3.19.2-2019-03-10\");p.register(\"p-detect\",function(){return{capabilities:k,localStorage:k.localStorage&&ta,toggleResponsiveGrid:ya,responsiveGridEnabled:za}});\\nm(/UCBrowser/i)||k.localStorage&&E(l,ta.getItem(\"a-font-class\"));p.declare(\"a-event-revised-handling\",!1);var w;try{w=navigator.serviceWorker}catch(a){G(\"sw:nav_err\")}w&&(y(w,\"message\",function(a){a&&a.data&&v(a.data.k,a.data.v)}),w.controller&&w.controller.postMessage(\"MSG-RDY\"));var na=[];n={reg:{},unreg:{}};n.reg.browser={action:function(a,b){w.register(\"/service-worker.js\").then(function(){v(a+\"success\")}).catch(function(c){p.logError(c,\"[AUI SW] Failed to \"+b+\" service worker: \");v(a+\"failure\")})}};\\n(function(a){var b=a.reg,c=a.unreg;w&&w.getRegistrations?(F.when(\"A\",\"a-util\").execute(function(a,b){oa(a,b,c,\"unregister\")}),y(g,\"load\",function(){F.when(\"A\",\"a-util\").execute(function(a,c){oa(a,c,b,\"register\");ma()})})):(b&&(b.browser&&r(t(\"register\",\"browser\")+\"unsupported\"),b.prodMshop&&r(t(\"register\",\"prod_mshop\")+\"unsupported\"),b.betaMshop&&r(t(\"register\",\"beta_mshop\")+\"unsupported\")),c&&(c.browser&&r(t(\"unregister\",\"browser\")+\"unsupported\"),c.prodMshop&&r(t(\"unregister\",\"prod_mshop\")+\"unsupported\"),\\nc.betaMshop&&r(t(\"unregister\",\"beta_mshop\")+\"unsupported\")),ma())})(n);p.declare(\"a-fix-event-off\",!1);v(\"pagejs:pkgExecTime\",D()-Aa)})(window,document,Date);\\n(window.AmazonUIPageJS ? AmazonUIPageJS : P).when(\\'sp.load.js\\').execute(function() {\\n  (window.AmazonUIPageJS ? AmazonUIPageJS : P).load.js(\\'https://images-eu.ssl-images-amazon.com/images/I/61HHaoAEflL._RC|11-BZEJ8lnL.js,61DmQ7Ysp5L.js,21Of0-9HPCL.js,012FVc3131L.js,119KAWlHU6L.js,01JTmZVCmIL.js,01ynJvifvjL.js,51keOj-1JaL.js,11AHlQhPRjL.js,016iHgpF74L.js,11aNYFFS5hL.js,116tgw9TSaL.js,211-p4GRUCL.js,01PoLXBDXWL.js,61BsuCRwHCL.js,01mi-J86cyL.js,11BOgvnnntL.js,310xuTUX4pL.js,01rpauTep4L.js,01iyxuSGj4L.js,015Hx8pTO1L.js_.js?AUIClients/AmazonUI#170461-T1.144375-T1\\');\\n});\\n\\n\\n.nav-sprite-v1 .nav-sprite, .nav-sprite-v1 .nav-icon {\\n  background-image: url(https://images-eu.ssl-images-amazon.com/images/G/31/gno/sprites/nav-sprite-global_bluebeacon-V3-1x_optimized._CB468962293_.png);\\n  background-position: 0 1000px;\\n  background-repeat: repeat-x;\\n}\\n.nav-spinner {\\n  background-image: url(https://images-eu.ssl-images-amazon.com/images/G/31/javascripts/lib/popover/images/snake._CB138350263_.gif);\\n  background-position: center center;\\n  background-repeat: no-repeat;\\n}\\n.nav-bluebeacon .nav-cobrand {\\n  background-image: url(https://images-eu.ssl-images-amazon.com/images/G/31/gno/images/irctc/IRCTC_Logo-dark-small._CB314487787_.png);\\n}\\n\\n\\n\\n\\n\\n\\n  (window.AmazonUIPageJS ? AmazonUIPageJS : P).load.js(\\'https://images-eu.ssl-images-amazon.com/images/I/31j+GmScsiL._RC|31ix9igtlUL.js,010lg5RIM5L.js,11vb8NoEXbL.js,41j-DI+BWxL.js,31yCl0u2BnL.js,515kngw+rgL.js,41JAn7RXuXL.js_.js?AUIClients/DesktopRemoteARPMetaAsset#155248-T1.170181-T1.161288-T1\\');\\n\\n\\n\\n\\n\\nAmazon.in:Customer reviews: Honor Play (Navy Blue, 4GB RAM, 64GB Storage)\\n\\n\\n\\nwindow.P && P.register(\\'bb\\');\\nif (typeof ues === \\'function\\') {\\n  ues(\\'t0\\', \\'portal-bb\\', new Date());\\n  ues(\\'ctb\\', \\'portal-bb\\', 1);\\n}\\n\\n\\n{\"AUI_160684\":\"C\",\"AUI_157141\":\"C\",\"AUI_TNR_V2_180836\":\"C\",\"AUI_UX_114039\":\"C\",\"AUI_UX_113788\":\"C\",\"AUI_UX_145937\":\"C\",\"AUI_57326\":\"C\",\"AUI_158613\":\"C\",\"AUI_149818\":\"C\",\"AUI_72554\":\"C\",\"AUI_BOLT_62845\":\"C\",\"AUI_UX_60000\":\"C\",\"AUI_ATTR_VALIDATIONS_1_51371\":\"C\",\"AUI_ACCESSIBILITY_49860\":\"C\",\"AUI_152852\":\"C\",\"AUI_PERF_130093\":\"C\"}typeof uex === \\'function\\' && uex(\\'ld\\', \\'portal-bb\\', {wb: 1})\\n\\n\\n(function(d){document.createElement(\"header\");function b(e){return[].slice.call(e)}function c(f,e){return{m:f,a:b(e)}}var a=function(f){var g={};g._sourceName=f;g._replay=[];g.getNow=function(i,h){return h};function e(i,h,j){i[j]=function(){g._replay.push(h.concat(c(j,arguments)))}}g.when=function(){var i=[c(\"when\",arguments)];var h={};e(h,i,\"run\");e(h,i,\"declare\");e(h,i,\"publish\");e(h,i,\"build\");return h};e(g,[],\"declare\");e(g,[],\"build\");e(g,[],\"publish\");e(g,[],\"importEvent\");a._shims.push(g);return g};a._shims=[];if(!d.$Nav){d.$Nav=a(\"rcx-nav\")}if(!d.$Nav.make){d.$Nav.make=a}}(window));\\n$Nav.importEvent(\\'navbarJS-beaconbelt\\');\\n$Nav.declare(\\'img.sprite\\', {\\n  \\'png8\\': \\'https://images-eu.ssl-images-amazon.com/images/G/31/gno/sprites/global-sprite_bluebeacon-v1._CB308130882_.png\\',\\n  \\'png32\\': \\'https://images-eu.ssl-images-amazon.com/images/G/31/gno/sprites/nav-sprite-global_bluebeacon-V3-1x_optimized._CB468962293_.png\\',\\n  \\'png32-2x\\': \\'https://images-eu.ssl-images-amazon.com/images/G/31/gno/sprites/nav-sprite-global_bluebeacon-V3-2x_optimized._CB468962293_.png\\'\\n});\\nwindow._navbarSpriteUrl = \\'https://images-eu.ssl-images-amazon.com/images/G/31/gno/sprites/nav-sprite-global_bluebeacon-V3-1x_optimized._CB468962293_.png\\';\\n$Nav.declare(\\'img.pixel\\', \\'https://images-eu.ssl-images-amazon.com/images/G/31/x-locale/common/transparent-pixel._CB386942716_.gif\\');\\n\\n\\n\\n'"
      ]
     },
     "execution_count": 20,
     "metadata": {},
     "output_type": "execute_result"
    }
   ],
   "source": [
    "soup.get_text()"
   ]
  },
  {
   "cell_type": "code",
   "execution_count": null,
   "metadata": {},
   "outputs": [],
   "source": []
  }
 ],
 "metadata": {
  "kernelspec": {
   "display_name": "Python 3",
   "language": "python",
   "name": "python3"
  },
  "language_info": {
   "codemirror_mode": {
    "name": "ipython",
    "version": 3
   },
   "file_extension": ".py",
   "mimetype": "text/x-python",
   "name": "python",
   "nbconvert_exporter": "python",
   "pygments_lexer": "ipython3",
   "version": "3.6.5"
  }
 },
 "nbformat": 4,
 "nbformat_minor": 2
}
