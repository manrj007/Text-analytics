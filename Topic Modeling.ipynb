{
 "cells": [
  {
   "cell_type": "code",
   "execution_count": 48,
   "metadata": {},
   "outputs": [],
   "source": [
    "import pandas as pd\n",
    "import numpy as np\n",
    "import seaborn as sns\n",
    "import matplotlib.pyplot as plt\n",
    "import gensim\n",
    "import warnings\n",
    "warnings.filterwarnings('ignore')\n",
    "\n",
    "%matplotlib inline"
   ]
  },
  {
   "cell_type": "code",
   "execution_count": 49,
   "metadata": {},
   "outputs": [],
   "source": [
    "data = pd.read_csv('articles.csv')\n",
    "main_data = data[:50]"
   ]
  },
  {
   "cell_type": "code",
   "execution_count": 50,
   "metadata": {},
   "outputs": [],
   "source": [
    "docs = main_data['text']\n",
    "docs = docs.str.lower()\n",
    "docs = docs.str.split()"
   ]
  },
  {
   "cell_type": "code",
   "execution_count": 51,
   "metadata": {},
   "outputs": [],
   "source": [
    "from nltk.stem import WordNetLemmatizer\n",
    "from nltk.stem import PorterStemmer\n",
    "\n",
    "lemma = WordNetLemmatizer()\n",
    "stemm = PorterStemmer()"
   ]
  },
  {
   "cell_type": "code",
   "execution_count": 52,
   "metadata": {},
   "outputs": [],
   "source": [
    "import nltk"
   ]
  },
  {
   "cell_type": "markdown",
   "metadata": {},
   "source": [
    "#### Lemmatisation"
   ]
  },
  {
   "cell_type": "code",
   "execution_count": 53,
   "metadata": {},
   "outputs": [],
   "source": [
    "common_stop_word = nltk.corpus.stopwords.words('english')\n",
    "custom_stop_word = []\n",
    "stop = np.hstack([common_stop_word,custom_stop_word])"
   ]
  },
  {
   "cell_type": "code",
   "execution_count": 54,
   "metadata": {},
   "outputs": [],
   "source": [
    "words_lst = []\n",
    "words_cln = []\n",
    "for row in docs:\n",
    "    rowword = [lemma.lemmatize(i) for i in row if i not in stop]\n",
    "    words_cln.append(rowword)\n",
    "    words_lst.extend(rowword)"
   ]
  },
  {
   "cell_type": "code",
   "execution_count": 55,
   "metadata": {},
   "outputs": [],
   "source": [
    "words_all = pd.Series(words_lst)"
   ]
  },
  {
   "cell_type": "code",
   "execution_count": 56,
   "metadata": {},
   "outputs": [
    {
     "data": {
      "text/plain": [
       "<matplotlib.axes._subplots.AxesSubplot at 0x1e306c18470>"
      ]
     },
     "execution_count": 56,
     "metadata": {},
     "output_type": "execute_result"
    },
    {
     "data": {
      "image/png": "[encoded data removed]",
      "text/plain": [
       "<Figure size 432x288 with 1 Axes>"
      ]
     },
     "metadata": {},
     "output_type": "display_data"
    }
   ],
   "source": [
    "words_all.value_counts().head(6).plot.barh()"
   ]
  },
  {
   "cell_type": "markdown",
   "metadata": {},
   "source": [
    "#### Stemming"
   ]
  },
  {
   "cell_type": "code",
   "execution_count": 20,
   "metadata": {
    "scrolled": true
   },
   "outputs": [
    {
     "data": {
      "text/plain": [
       "<matplotlib.axes._subplots.AxesSubplot at 0x1e37afba5c0>"
      ]
     },
     "execution_count": 20,
     "metadata": {},
     "output_type": "execute_result"
    },
    {
     "data": {
      "image/png": "[encoded data removed]",
      "text/plain": [
       "<Figure size 432x288 with 1 Axes>"
      ]
     },
     "metadata": {},
     "output_type": "display_data"
    }
   ],
   "source": [
    "words_lst = []\n",
    "words_cln = []\n",
    "for row in docs:\n",
    "    rowword = [stemm.stem(i) for i in row if i not in stop]\n",
    "    words_cln.append(rowword)\n",
    "    words_lst.extend(rowword)\n",
    "\n",
    "words_all = pd.Series(words_lst)\n",
    "\n",
    "words_all.value_counts().head(6).plot.barh()"
   ]
  },
  {
   "cell_type": "markdown",
   "metadata": {},
   "source": [
    "#### POS tagging"
   ]
  },
  {
   "cell_type": "code",
   "execution_count": 21,
   "metadata": {},
   "outputs": [],
   "source": [
    "text = main_data['text']\n",
    "text = text.str.split()"
   ]
  },
  {
   "cell_type": "code",
   "execution_count": 22,
   "metadata": {
    "scrolled": true
   },
   "outputs": [],
   "source": [
    "from nltk.tokenize import sent_tokenize,word_tokenize"
   ]
  },
  {
   "cell_type": "code",
   "execution_count": 57,
   "metadata": {},
   "outputs": [],
   "source": [
    "tagged = nltk.pos_tag(words_all)"
   ]
  },
  {
   "cell_type": "code",
   "execution_count": 58,
   "metadata": {},
   "outputs": [
    {
     "name": "stdout",
     "output_type": "stream",
     "text": [
      "[('oh,', 'JJ'), ('headline', 'NN'), ('blared:', 'NN'), ('chatbots', 'NNS'), ('next', 'IN'), ('big', 'JJ'), ('thing.', 'NNS'), ('hope', 'VBP'), ('sky', 'JJ'), ('high.', 'JJ')]\n"
     ]
    }
   ],
   "source": [
    "print(tagged[:10])"
   ]
  },
  {
   "cell_type": "markdown",
   "metadata": {},
   "source": [
    "#### Topic modeling"
   ]
  },
  {
   "cell_type": "code",
   "execution_count": 59,
   "metadata": {},
   "outputs": [],
   "source": [
    "from gensim.models import CoherenceModel, LdaModel, LsiModel, HdpModel\n",
    "from gensim.models.wrappers import LdaMallet\n",
    "from gensim.corpora import Dictionary\n",
    "import pyLDAvis.gensim"
   ]
  },
  {
   "cell_type": "code",
   "execution_count": 65,
   "metadata": {},
   "outputs": [],
   "source": [
    "from gensim import models"
   ]
  },
  {
   "cell_type": "code",
   "execution_count": 60,
   "metadata": {},
   "outputs": [
    {
     "name": "stdout",
     "output_type": "stream",
     "text": [
      "Dictionary(12240 unique tokens: ['&', '(dating', '(for', '(guis)', '(guis).']...)\n"
     ]
    }
   ],
   "source": [
    "dictionary = Dictionary(words_cln)\n",
    "print(dictionary)"
   ]
  },
  {
   "cell_type": "code",
   "execution_count": 61,
   "metadata": {},
   "outputs": [
    {
     "data": {
      "text/plain": [
       "12240"
      ]
     },
     "execution_count": 61,
     "metadata": {},
     "output_type": "execute_result"
    }
   ],
   "source": [
    "len(dictionary.token2id)"
   ]
  },
  {
   "cell_type": "markdown",
   "metadata": {},
   "source": [
    "###### Bag of words"
   ]
  },
  {
   "cell_type": "code",
   "execution_count": 64,
   "metadata": {},
   "outputs": [],
   "source": [
    "corpus = [dictionary.doc2bow(words_cln) for words_cln in words_cln]\n",
    "# print(corpus[0])"
   ]
  },
  {
   "cell_type": "code",
   "execution_count": 72,
   "metadata": {},
   "outputs": [],
   "source": [
    "tfidf = models.TfidfModel(corpus)"
   ]
  },
  {
   "cell_type": "code",
   "execution_count": 73,
   "metadata": {
    "scrolled": true
   },
   "outputs": [
    {
     "data": {
      "text/plain": [
       "[(0,\n",
       "  '0.008*human + 0.007*may + 0.005*simulation + 0.005*output + 0.005*input + 0.005*value + 0.005*would + 0.004*process + 0.004*one + 0.004*u + 0.004*kernel + 0.003*feature + 0.003*simulated + 0.003*u-maximizer + 0.003*utility + 0.003*could + 0.003*pixel + 0.003*define + 0.003*convolution + 0.003*moral'),\n",
       " (1,\n",
       "  '0.010*house + 0.010*learning + 0.009*machine + 0.008*data + 0.006*function + 0.005*weight + 0.005*could + 0.005*get + 0.005*problem + 0.005*price + 0.005*algorithm + 0.004*way + 0.004*like + 0.004*part + 0.004*it’s + 0.004*work + 0.004*would + 0.004*every + 0.004*really + 0.003*solve'),\n",
       " (2,\n",
       "  '0.009*neural + 0.008*network + 0.007*image + 0.007*part + 0.006*data + 0.005*model + 0.004*machine + 0.004*like + 0.004*lot + 0.004*one + 0.004*level + 0.004*really + 0.003*algorithm + 0.003*make + 0.003*it’s + 0.003*let’s + 0.003*letter + 0.003*idea + 0.003*recognize + 0.003*we’ll'),\n",
       " (3,\n",
       "  '0.008*machine + 0.007*learning + 0.005*data + 0.004*it’s + 0.004*even + 0.004*like + 0.004*job + 0.003*way + 0.003*work + 0.003*new + 0.002*people + 0.002*wolfram + 0.002*human + 0.002*million + 0.002*go + 0.002*ai + 0.002*within + 0.002*basic + 0.002*use + 0.002*need'),\n",
       " (4,\n",
       "  '0.009*face + 0.005*one + 0.005*learning + 0.004*machine + 0.004*image + 0.004*really + 0.004*step + 0.003*like + 0.003*part + 0.003*interview + 0.003*make + 0.003*measurement + 0.002*pixel + 0.002*find + 0.002*different + 0.002*want + 0.002*problem + 0.002*every + 0.002*network + 0.002*need'),\n",
       " (5,\n",
       "  '0.017*learning + 0.017*machine + 0.010*data + 0.009*course + 0.007*rating + 0.007*average + 0.007*weighted + 0.007*reviews. + 0.005*hour + 0.004*science + 0.004*free + 0.004*four + 0.004*per + 0.003*weeks. + 0.003*python + 0.003*week + 0.003*estimated + 0.003*us + 0.003*option + 0.003*timeline'),\n",
       " (6,\n",
       "  '0.005*people + 0.005*it’s + 0.004*really + 0.003*would + 0.003*one + 0.003*interview + 0.003*lot + 0.003*— + 0.003*i’ve + 0.003*you’re + 0.003*make + 0.002*important + 0.002*way + 0.002*question + 0.002*machine + 0.002*learning + 0.002*many + 0.002*like + 0.002*google + 0.002*neural'),\n",
       " (7,\n",
       "  '0.006*learn + 0.005*action + 0.005*learning + 0.004*value + 0.004*deep + 0.004*use + 0.004*policy + 0.003*member + 0.003*state + 0.003*netflix + 0.003*u + 0.003*q + 0.003*method + 0.003*algorithm + 0.003*personalization + 0.002*function + 0.002*one + 0.002*different + 0.002*called + 0.002*network'),\n",
       " (8,\n",
       "  '0.011*human + 0.010*— + 0.009*computer + 0.008*machine + 0.007*participant + 0.005*/ + 0.004*(a) + 0.004*would + 0.004*also + 0.004*like + 0.003*(b) + 0.003*ability + 0.003*emotional + 0.003*people + 0.003*response + 0.003*relationship + 0.003*understand + 0.002*emotion + 0.002*time + 0.002*future'),\n",
       " (9,\n",
       "  '0.008*— + 0.008*human + 0.006*system + 0.004*ai + 0.004*engineering + 0.003*human-imitative + 0.003*problem + 0.003*need + 0.003*data + 0.003*current + 0.003*ii + 0.003*discipline + 0.003*would + 0.003*also + 0.003*new + 0.002*one + 0.002*computer + 0.002*u + 0.002*focus + 0.002*make'),\n",
       " (10,\n",
       "  '0.008*model + 0.007*data + 0.005*set + 0.004*feature + 0.004*machine + 0.004*many + 0.003*learning + 0.003*ranking + 0.003*use + 0.003*approach + 0.003*member + 0.003*a/b + 0.003*item + 0.002*test + 0.002*one + 0.002*different + 0.002*netflix + 0.002*algorithm + 0.002*could + 0.002*rating'),\n",
       " (11,\n",
       "  '0.007*model + 0.006*data + 0.005*feature + 0.004*learning + 0.004*machine + 0.003*many + 0.003*risk + 0.002*pmml + 0.002*new + 0.002*service + 0.002*openscoring + 0.002*however, + 0.002*algorithm + 0.002*using + 0.002*step + 0.002*use + 0.002*r + 0.002*building + 0.002*scikit + 0.002*pipeline'),\n",
       " (12,\n",
       "  '0.007*bot + 0.005*data + 0.003*science + 0.003*it’s + 0.003*one + 0.003*chatbots + 0.002*take + 0.002*that’s + 0.002*user + 0.002*interview + 0.002*even + 0.002*way + 0.002*isn’t + 0.002*human + 0.002*using + 0.002*question + 0.002*resource + 0.002*conversational + 0.002*still + 0.002*interface'),\n",
       " (13,\n",
       "  '0.009*machine + 0.007*company + 0.007*intelligence + 0.003*technology + 0.003*many + 0.003*landscape + 0.003*data + 0.003*like + 0.002*learning + 0.002*deep + 0.002*it’s + 0.002*application + 0.002*get + 0.002*people + 0.002*method + 0.002*industry + 0.002*see + 0.002*world + 0.002*“machine + 0.002*talent'),\n",
       " (14,\n",
       "  '0.007*search + 0.006*edit + 0.005*term + 0.004*google + 0.004*distance + 0.004*dictionary + 0.004*language + 0.003*it’s + 0.003*spelling + 0.003*one + 0.003*time + 0.002*voice + 0.002*spector + 0.002*computer + 0.002*algorithm + 0.002*make + 0.002*symspell + 0.002*translation + 0.002*word + 0.002*—'),\n",
       " (15,\n",
       "  '0.008*data + 0.007*bit + 0.005*message + 0.004*one + 0.003*two + 0.003*hypothesis + 0.003*hash + 0.003*model + 0.002*data. + 0.002*price + 0.002*number + 0.002*predict + 0.002*every + 0.002*vector + 0.002*using + 0.002*size + 0.002*time + 0.002*similarity + 0.002*similar + 0.002*set'),\n",
       " (16,\n",
       "  '0.008*data + 0.006*computation + 0.005*offline + 0.005*online + 0.004*algorithm + 0.004*need + 0.004*event + 0.004*model + 0.004*also + 0.004*result + 0.003*recommendation + 0.003*use + 0.003*architecture + 0.003*user + 0.002*approach + 0.002*new + 0.002*later + 0.002*learning + 0.002*think + 0.002*however,'),\n",
       " (17,\n",
       "  '0.020*feature + 0.006*table + 0.006*data + 0.005*featuretools + 0.004*client + 0.004*multiple + 0.003*deep + 0.003*use + 0.003*new + 0.003*using + 0.003*many + 0.003*model + 0.003*primitive + 0.003*engineering + 0.003*loan + 0.003*machine + 0.003*process + 0.003*features. + 0.003*one + 0.003*entityset'),\n",
       " (18,\n",
       "  '0.008*data + 0.005*linear + 0.004*— + 0.004*parameter + 0.003*exercise + 0.003*it’s + 0.003*model + 0.003*function + 0.003*gradient + 0.003*look + 0.003*get + 0.003*called + 0.002*one + 0.002*need + 0.002*we’re + 0.002*matrix + 0.002*way + 0.002*optimal + 0.002*variable + 0.002*learning'),\n",
       " (19,\n",
       "  '0.005*social + 0.004*data + 0.003*network + 0.003*human + 0.003*science + 0.003*one + 0.003*get + 0.002*still + 0.002*know + 0.002*behavior + 0.002*like + 0.002*big + 0.002*research + 0.002*phone + 0.002*system + 0.002*lot + 0.002*networks. + 0.002*cell + 0.002*understanding + 0.002*that’s')]"
      ]
     },
     "execution_count": 73,
     "metadata": {},
     "output_type": "execute_result"
    }
   ],
   "source": [
    "hdpmodel = HdpModel(corpus, id2word=dictionary)\n",
    "hdpmodel.show_topics()"
   ]
  },
  {
   "cell_type": "code",
   "execution_count": 79,
   "metadata": {},
   "outputs": [],
   "source": [
    "topic_info = hdpmodel.print_topics(num_topics=5, num_words=7)"
   ]
  },
  {
   "cell_type": "code",
   "execution_count": 80,
   "metadata": {},
   "outputs": [
    {
     "data": {
      "text/plain": [
       "[(0,\n",
       "  '0.008*human + 0.007*may + 0.005*simulation + 0.005*output + 0.005*input + 0.005*value + 0.005*would'),\n",
       " (1,\n",
       "  '0.010*house + 0.010*learning + 0.009*machine + 0.008*data + 0.006*function + 0.005*weight + 0.005*could'),\n",
       " (2,\n",
       "  '0.009*neural + 0.008*network + 0.007*image + 0.007*part + 0.006*data + 0.005*model + 0.004*machine'),\n",
       " (3,\n",
       "  '0.008*machine + 0.007*learning + 0.005*data + 0.004*it’s + 0.004*even + 0.004*like + 0.004*job'),\n",
       " (4,\n",
       "  '0.009*face + 0.005*one + 0.005*learning + 0.004*machine + 0.004*image + 0.004*really + 0.004*step')]"
      ]
     },
     "execution_count": 80,
     "metadata": {},
     "output_type": "execute_result"
    }
   ],
   "source": [
    "topic_info"
   ]
  },
  {
   "cell_type": "code",
   "execution_count": 82,
   "metadata": {},
   "outputs": [
    {
     "data": {
      "text/plain": [
       "[(0,\n",
       "  '0.008*\"machine\" + 0.007*\"learning\" + 0.006*\"data\" + 0.005*\"one\" + 0.004*\"—\" + 0.004*\"like\" + 0.003*\"would\" + 0.003*\"get\" + 0.003*\"way\" + 0.003*\"it’s\"'),\n",
       " (1,\n",
       "  '0.007*\"data\" + 0.006*\"machine\" + 0.005*\"learning\" + 0.004*\"—\" + 0.004*\"one\" + 0.003*\"human\" + 0.003*\"like\" + 0.003*\"use\" + 0.003*\"new\" + 0.003*\"also\"'),\n",
       " (2,\n",
       "  '0.007*\"data\" + 0.007*\"machine\" + 0.005*\"learning\" + 0.004*\"one\" + 0.003*\"human\" + 0.003*\"like\" + 0.003*\"—\" + 0.003*\"use\" + 0.003*\"many\" + 0.003*\"get\"'),\n",
       " (3,\n",
       "  '0.007*\"machine\" + 0.006*\"data\" + 0.005*\"learning\" + 0.004*\"one\" + 0.004*\"human\" + 0.004*\"—\" + 0.004*\"like\" + 0.004*\"would\" + 0.003*\"it’s\" + 0.003*\"way\"'),\n",
       " (4,\n",
       "  '0.010*\"data\" + 0.006*\"learning\" + 0.005*\"machine\" + 0.005*\"one\" + 0.004*\"feature\" + 0.003*\"model\" + 0.003*\"using\" + 0.003*\"also\" + 0.003*\"human\" + 0.003*\"use\"')]"
      ]
     },
     "execution_count": 82,
     "metadata": {},
     "output_type": "execute_result"
    }
   ],
   "source": [
    "ldamodel = LdaModel(corpus=corpus, num_topics=5, id2word=dictionary)\n",
    "ldamodel.show_topics()"
   ]
  },
  {
   "cell_type": "code",
   "execution_count": 89,
   "metadata": {},
   "outputs": [
    {
     "data": {
      "text/plain": [
       "[(4, 0.9977891)]"
      ]
     },
     "execution_count": 89,
     "metadata": {},
     "output_type": "execute_result"
    }
   ],
   "source": [
    "ldamodel.get_document_topics(dictionary.doc2bow(words_cln[30]))"
   ]
  },
  {
   "cell_type": "code",
   "execution_count": 91,
   "metadata": {
    "scrolled": true
   },
   "outputs": [],
   "source": [
    "main_data['topics'] = [ldamodel.get_document_topics(dictionary.doc2bow(words_cln))[0][0] for words_cln in words_cln]"
   ]
  },
  {
   "cell_type": "code",
   "execution_count": 92,
   "metadata": {},
   "outputs": [
    {
     "data": {
      "text/plain": [
       "<matplotlib.axes._subplots.AxesSubplot at 0x1e37ea18b38>"
      ]
     },
     "execution_count": 92,
     "metadata": {},
     "output_type": "execute_result"
    },
    {
     "data": {
      "image/png": "[encoded data removed]",
      "text/plain": [
       "<Figure size 432x288 with 1 Axes>"
      ]
     },
     "metadata": {},
     "output_type": "display_data"
    }
   ],
   "source": [
    "main_data.topics.value_counts().plot.bar()"
   ]
  },
  {
   "cell_type": "code",
   "execution_count": 93,
   "metadata": {},
   "outputs": [
    {
     "data": {
      "text/plain": [
       "0    21\n",
       "1    12\n",
       "2     8\n",
       "3     7\n",
       "4     2\n",
       "Name: topics, dtype: int64"
      ]
     },
     "execution_count": 93,
     "metadata": {},
     "output_type": "execute_result"
    }
   ],
   "source": [
    "main_data.topics.value_counts()"
   ]
  },
  {
   "cell_type": "code",
   "execution_count": 95,
   "metadata": {},
   "outputs": [
    {
     "data": {
      "text/html": [
       "\n",
       "<link rel=\"stylesheet\" type=\"text/css\" href=\"https://cdn.rawgit.com/bmabey/pyLDAvis/files/ldavis.v1.0.0.css\">\n",
       "\n",
       "\n",
       "<div id=\"ldavis_el406820746345787043110569421\"></div>\n",
       "<script type=\"text/javascript\">\n",
       "\n",
       "var ldavis_el406820746345787043110569421_data = {\"mdsDat\": {\"x\": [-0.006234634318158761, -0.0014904348026692387, 0.008685379309004612, -0.00207306062844462, 0.001112750440268012], \"y\": [-0.0032458984928679475, 0.007967587830902206, -0.00200773861566508, -0.003796867136902512, 0.001082916414533345], \"topics\": [1, 2, 3, 4, 5], \"cluster\": [1, 1, 1, 1, 1], \"Freq\": [24.04831886291504, 23.548538208007812, 22.184892654418945, 16.28653907775879, 13.931714057922363]}, \"tinfo\": {\"Category\": [\"Default\", \"Default\", \"Default\", \"Default\", \"Default\", \"Default\", \"Default\", \"Default\", \"Default\", \"Default\", \"Default\", \"Default\", \"Default\", \"Default\", \"Default\", \"Default\", \"Default\", \"Default\", \"Default\", \"Default\", \"Default\", \"Default\", \"Default\", \"Default\", \"Default\", \"Default\", \"Default\", \"Default\", \"Default\", \"Default\", \"Topic1\", \"Topic1\", \"Topic1\", \"Topic1\", \"Topic1\", \"Topic1\", \"Topic1\", \"Topic1\", \"Topic1\", \"Topic1\", \"Topic1\", \"Topic1\", \"Topic1\", \"Topic1\", \"Topic1\", \"Topic1\", \"Topic1\", \"Topic1\", \"Topic1\", \"Topic1\", \"Topic1\", \"Topic1\", \"Topic1\", \"Topic1\", \"Topic1\", \"Topic1\", \"Topic1\", \"Topic1\", \"Topic1\", \"Topic1\", \"Topic1\", \"Topic1\", \"Topic1\", \"Topic1\", \"Topic1\", \"Topic1\", \"Topic1\", \"Topic1\", \"Topic1\", \"Topic1\", \"Topic1\", \"Topic1\", \"Topic1\", \"Topic1\", \"Topic1\", \"Topic1\", \"Topic1\", \"Topic1\", \"Topic1\", \"Topic1\", \"Topic1\", \"Topic1\", \"Topic1\", \"Topic1\", \"Topic1\", \"Topic1\", \"Topic1\", \"Topic1\", \"Topic1\", \"Topic1\", \"Topic1\", \"Topic1\", \"Topic1\", \"Topic1\", \"Topic1\", \"Topic1\", \"Topic1\", \"Topic1\", \"Topic1\", \"Topic1\", \"Topic1\", \"Topic1\", \"Topic1\", \"Topic1\", \"Topic1\", \"Topic1\", \"Topic1\", \"Topic1\", \"Topic1\", \"Topic1\", \"Topic1\", \"Topic1\", \"Topic1\", \"Topic2\", \"Topic2\", \"Topic2\", \"Topic2\", \"Topic2\", \"Topic2\", \"Topic2\", \"Topic2\", \"Topic2\", \"Topic2\", \"Topic2\", \"Topic2\", \"Topic2\", \"Topic2\", \"Topic2\", \"Topic2\", \"Topic2\", \"Topic2\", \"Topic2\", \"Topic2\", \"Topic2\", \"Topic2\", \"Topic2\", \"Topic2\", \"Topic2\", \"Topic2\", \"Topic2\", \"Topic2\", \"Topic2\", \"Topic2\", \"Topic2\", \"Topic2\", \"Topic2\", \"Topic2\", \"Topic2\", \"Topic2\", \"Topic2\", \"Topic2\", \"Topic2\", \"Topic2\", \"Topic2\", \"Topic2\", \"Topic2\", \"Topic2\", \"Topic2\", \"Topic2\", \"Topic2\", \"Topic2\", \"Topic2\", \"Topic2\", \"Topic2\", \"Topic2\", \"Topic2\", \"Topic2\", \"Topic2\", \"Topic2\", \"Topic2\", \"Topic2\", \"Topic2\", \"Topic2\", \"Topic2\", \"Topic2\", \"Topic2\", \"Topic2\", \"Topic2\", \"Topic2\", \"Topic2\", \"Topic2\", \"Topic2\", \"Topic2\", \"Topic2\", \"Topic2\", \"Topic2\", \"Topic2\", \"Topic2\", \"Topic2\", \"Topic2\", \"Topic2\", \"Topic2\", \"Topic3\", \"Topic3\", \"Topic3\", \"Topic3\", \"Topic3\", \"Topic3\", \"Topic3\", \"Topic3\", \"Topic3\", \"Topic3\", \"Topic3\", \"Topic3\", \"Topic3\", \"Topic3\", \"Topic3\", \"Topic3\", \"Topic3\", \"Topic3\", \"Topic3\", \"Topic3\", \"Topic3\", \"Topic3\", \"Topic3\", \"Topic3\", \"Topic3\", \"Topic3\", \"Topic3\", \"Topic3\", \"Topic3\", \"Topic3\", \"Topic3\", \"Topic3\", \"Topic3\", \"Topic3\", \"Topic3\", \"Topic3\", \"Topic3\", \"Topic3\", \"Topic3\", \"Topic3\", \"Topic3\", \"Topic3\", \"Topic3\", \"Topic3\", \"Topic3\", \"Topic3\", \"Topic3\", \"Topic3\", \"Topic3\", \"Topic3\", \"Topic3\", \"Topic3\", \"Topic3\", \"Topic3\", \"Topic3\", \"Topic3\", \"Topic3\", \"Topic3\", \"Topic3\", \"Topic3\", \"Topic3\", \"Topic3\", \"Topic3\", \"Topic3\", \"Topic3\", \"Topic3\", \"Topic3\", \"Topic3\", \"Topic3\", \"Topic3\", \"Topic3\", \"Topic3\", \"Topic3\", \"Topic3\", \"Topic3\", \"Topic3\", \"Topic3\", \"Topic4\", \"Topic4\", \"Topic4\", \"Topic4\", \"Topic4\", \"Topic4\", \"Topic4\", \"Topic4\", \"Topic4\", \"Topic4\", \"Topic4\", \"Topic4\", \"Topic4\", \"Topic4\", \"Topic4\", \"Topic4\", \"Topic4\", \"Topic4\", \"Topic4\", \"Topic4\", \"Topic4\", \"Topic4\", \"Topic4\", \"Topic4\", \"Topic4\", \"Topic4\", \"Topic4\", \"Topic4\", \"Topic4\", \"Topic4\", \"Topic4\", \"Topic4\", \"Topic4\", \"Topic4\", \"Topic4\", \"Topic4\", \"Topic4\", \"Topic4\", \"Topic4\", \"Topic4\", \"Topic4\", \"Topic4\", \"Topic4\", \"Topic4\", \"Topic4\", \"Topic4\", \"Topic4\", \"Topic4\", \"Topic4\", \"Topic4\", \"Topic4\", \"Topic4\", \"Topic4\", \"Topic4\", \"Topic4\", \"Topic4\", \"Topic4\", \"Topic4\", \"Topic4\", \"Topic4\", \"Topic4\", \"Topic4\", \"Topic4\", \"Topic4\", \"Topic4\", \"Topic4\", \"Topic4\", \"Topic4\", \"Topic4\", \"Topic4\", \"Topic4\", \"Topic4\", \"Topic4\", \"Topic5\", \"Topic5\", \"Topic5\", \"Topic5\", \"Topic5\", \"Topic5\", \"Topic5\", \"Topic5\", \"Topic5\", \"Topic5\", \"Topic5\", \"Topic5\", \"Topic5\", \"Topic5\", \"Topic5\", \"Topic5\", \"Topic5\", \"Topic5\", \"Topic5\", \"Topic5\", \"Topic5\", \"Topic5\", \"Topic5\", \"Topic5\", \"Topic5\", \"Topic5\", \"Topic5\", \"Topic5\", \"Topic5\", \"Topic5\", \"Topic5\", \"Topic5\", \"Topic5\", \"Topic5\", \"Topic5\", \"Topic5\", \"Topic5\", \"Topic5\", \"Topic5\", \"Topic5\", \"Topic5\", \"Topic5\", \"Topic5\", \"Topic5\", \"Topic5\", \"Topic5\", \"Topic5\", \"Topic5\", \"Topic5\", \"Topic5\", \"Topic5\", \"Topic5\", \"Topic5\", \"Topic5\", \"Topic5\", \"Topic5\", \"Topic5\", \"Topic5\", \"Topic5\", \"Topic5\", \"Topic5\", \"Topic5\", \"Topic5\", \"Topic5\", \"Topic5\", \"Topic5\", \"Topic5\", \"Topic5\", \"Topic5\", \"Topic5\", \"Topic5\", \"Topic5\", \"Topic5\", \"Topic5\", \"Topic5\", \"Topic5\", \"Topic5\", \"Topic5\"], \"Freq\": [378.0, 118.0, 97.0, 47.0, 119.0, 353.0, 75.0, 136.0, 145.0, 86.0, 129.0, 51.0, 306.0, 139.0, 38.0, 88.0, 85.0, 232.0, 92.0, 174.0, 66.0, 150.0, 124.0, 120.0, 83.0, 99.0, 82.0, 91.0, 58.0, 46.0, 21.427387237548828, 2.6618964672088623, 2.9661879539489746, 5.3051958084106445, 1.0687243938446045, 1.4016553163528442, 3.2040915489196777, 2.0194685459136963, 1.3854106664657593, 1.391693353652954, 3.128713369369507, 13.05894660949707, 1.7181673049926758, 2.750101327896118, 1.3716284036636353, 0.9999238848686218, 0.9734539985656738, 2.2545166015625, 1.5926523208618164, 2.2181506156921387, 4.7892045974731445, 8.354491233825684, 0.9755171537399292, 2.600553512573242, 0.964713990688324, 2.8567988872528076, 0.9348499178886414, 1.2363759279251099, 0.9801487326622009, 2.514720916748047, 3.873156785964966, 4.927889347076416, 3.792559862136841, 4.931859493255615, 14.801243782043457, 7.433754920959473, 16.349695205688477, 12.353551864624023, 8.139470100402832, 8.104192733764648, 8.62114143371582, 13.062222480773926, 8.669787406921387, 35.90456771850586, 6.180690765380859, 28.724788665771484, 28.21878433227539, 94.86668395996094, 46.332096099853516, 49.68163299560547, 38.63554382324219, 40.86492919921875, 21.919538497924805, 47.22007751464844, 16.59794807434082, 25.219558715820312, 28.914400100708008, 37.135868072509766, 29.705087661743164, 49.16154861450195, 55.129695892333984, 68.85151672363281, 37.54037857055664, 80.92646789550781, 20.34800910949707, 34.75014877319336, 19.10624885559082, 20.664289474487305, 28.5883846282959, 26.553232192993164, 21.027868270874023, 20.142805099487305, 30.236438751220703, 22.57889175415039, 30.263917922973633, 26.492963790893555, 25.88168716430664, 26.826025009155273, 25.614322662353516, 25.18113899230957, 23.222972869873047, 23.434659957885742, 23.302995681762695, 1.9456157684326172, 2.634739637374878, 1.068294882774353, 2.7694740295410156, 12.81275749206543, 2.4594173431396484, 1.327375054359436, 1.369087815284729, 1.0472338199615479, 1.0468982458114624, 1.7582961320877075, 0.9956555962562561, 1.0513137578964233, 0.9907430410385132, 0.9949591755867004, 0.9757780432701111, 11.273502349853516, 15.0324068069458, 4.970936298370361, 0.6519125699996948, 1.0146137475967407, 2.3282151222229004, 2.6265978813171387, 1.6253271102905273, 0.6565923094749451, 1.5899370908737183, 0.6576434969902039, 0.9358453750610352, 0.6439513564109802, 1.274114727973938, 1.5842381715774536, 10.508596420288086, 2.891857147216797, 7.5803422927856445, 1.5230464935302734, 8.327025413513184, 5.790213584899902, 10.859177589416504, 8.483447074890137, 40.84822082519531, 19.447072982788086, 13.974089622497559, 16.151201248168945, 36.61284637451172, 8.97183895111084, 13.215897560119629, 31.560192108154297, 21.149944305419922, 83.96713256835938, 95.17034912109375, 39.1676025390625, 32.834129333496094, 54.47469711303711, 61.943321228027344, 47.09491729736328, 19.975126266479492, 37.104896545410156, 39.14020538330078, 41.85917282104492, 27.805843353271484, 24.13880729675293, 24.87563133239746, 38.491817474365234, 30.57143211364746, 31.69847297668457, 24.39716911315918, 71.9324951171875, 22.80398178100586, 26.62529945373535, 22.752300262451172, 24.674531936645508, 30.69259262084961, 25.174728393554688, 26.376901626586914, 32.19541931152344, 26.383167266845703, 25.8150577545166, 26.133758544921875, 25.233015060424805, 1.1195976734161377, 1.1192049980163574, 1.1182109117507935, 1.117488980293274, 1.1108546257019043, 1.1069940328598022, 1.106966495513916, 1.1029645204544067, 1.1013542413711548, 1.0986089706420898, 1.0978821516036987, 1.096605896949768, 1.095962643623352, 1.0881948471069336, 1.0852923393249512, 1.079347014427185, 1.0720248222351074, 1.357114315032959, 1.518829345703125, 2.2319436073303223, 9.35158920288086, 3.196606397628784, 2.13303279876709, 1.0353971719741821, 3.7842626571655273, 0.6720132827758789, 3.366384506225586, 1.012273907661438, 0.9684696793556213, 0.6451380848884583, 18.377626419067383, 5.996950626373291, 10.209683418273926, 4.134382247924805, 11.917638778686523, 21.42257308959961, 25.21934700012207, 19.252086639404297, 15.643221855163574, 50.32611083984375, 24.86544418334961, 17.522401809692383, 82.85956573486328, 33.088504791259766, 26.786338806152344, 31.448463439941406, 14.166227340698242, 64.03694152832031, 69.93392181396484, 16.543914794921875, 13.779476165771484, 39.5707893371582, 21.22795867919922, 14.06255054473877, 34.304134368896484, 23.481725692749023, 28.26649284362793, 31.490999221801758, 9.101966857910156, 18.636823654174805, 44.90517044067383, 29.844791412353516, 24.70558738708496, 34.395565032958984, 29.048110961914062, 26.16104507446289, 24.782052993774414, 30.504981994628906, 24.786571502685547, 21.000568389892578, 27.392213821411133, 23.24930763244629, 23.54912567138672, 25.962026596069336, 23.744192123413086, 23.231687545776367, 23.0546875, 3.095902919769287, 1.7792118787765503, 2.9960684776306152, 2.9393088817596436, 1.5982173681259155, 1.2692748308181763, 1.0083788633346558, 1.4737356901168823, 0.9956211447715759, 0.7396132946014404, 1.7352017164230347, 4.967236518859863, 0.742659330368042, 0.9919074177742004, 37.564781188964844, 0.9706487655639648, 0.7290566563606262, 4.322115898132324, 0.7143673896789551, 3.874802589416504, 1.3945918083190918, 0.6897561550140381, 2.091918468475342, 0.458791583776474, 6.37864875793457, 0.6909735202789307, 0.9171268939971924, 0.4571102261543274, 2.490386962890625, 0.6804855465888977, 4.047762870788574, 2.670055866241455, 3.0810813903808594, 13.56907844543457, 87.51351165771484, 7.8415207862854, 9.233705520629883, 11.601211547851562, 30.106666564941406, 17.584327697753906, 29.205385208129883, 30.228269577026367, 19.29656219482422, 42.536537170410156, 7.28381872177124, 52.48043441772461, 19.835060119628906, 17.88467025756836, 17.7523193359375, 26.949861526489258, 14.340034484863281, 6.080404281616211, 9.928879737854004, 17.53497886657715, 17.44620132446289, 28.40800666809082, 22.998985290527344, 12.095013618469238, 20.352027893066406, 17.257963180541992, 21.698196411132812, 42.780181884765625, 15.208902359008789, 21.83094024658203, 19.195066452026367, 18.28164291381836, 19.47911834716797, 17.114770889282227, 17.671329498291016, 20.808258056640625, 17.94149398803711, 20.794675827026367, 20.350448608398438, 0.5882415175437927, 0.5888050198554993, 0.5787840485572815, 0.5791521072387695, 0.5750168561935425, 0.5731416940689087, 0.5673199892044067, 0.5657204389572144, 0.5650625228881836, 0.5590144991874695, 0.5592118501663208, 0.5566527247428894, 0.54963618516922, 0.545098602771759, 0.5449085235595703, 0.5243796706199646, 0.5232717990875244, 0.5210434198379517, 0.7398452758789062, 1.622913122177124, 2.4827589988708496, 2.3052210807800293, 0.6940605640411377, 0.6737784147262573, 1.3493156433105469, 0.8808218240737915, 0.6428582668304443, 0.6447396278381348, 0.8615107536315918, 0.6415037512779236, 1.4491009712219238, 6.430789947509766, 2.825425863265991, 8.492238998413086, 19.41563606262207, 3.997884511947632, 2.81850528717041, 55.080177307128906, 10.654426574707031, 50.6324348449707, 20.31381607055664, 14.775984764099121, 18.62432861328125, 7.055971622467041, 19.231985092163086, 14.570250511169434, 20.283782958984375, 17.003761291503906, 19.24289321899414, 13.96270751953125, 9.289580345153809, 6.218876361846924, 24.411304473876953, 37.217681884765625, 16.368423461914062, 12.39551067352295, 23.360374450683594, 20.95794677734375, 9.29167366027832, 13.574039459228516, 9.712922096252441, 11.41990852355957, 19.69908905029297, 27.716033935546875, 20.166248321533203, 13.722993850708008, 22.747270584106445, 14.695051193237305, 18.287057876586914, 13.16289234161377, 15.566807746887207, 15.364649772644043, 16.79743194580078, 16.473773956298828, 15.292922973632812, 14.722880363464355, 15.971016883850098, 14.861506462097168], \"Term\": [\"data\", \"feature\", \"network\", \"face\", \"many\", \"machine\", \"deep\", \"using\", \"model\", \"neural\", \"get\", \"input\", \"learning\", \"also\", \"engineering\", \"really\", \"function\", \"one\", \"value\", \"human\", \"science\", \"use\", \"new\", \"need\", \"take\", \"computer\", \"learn\", \"may\", \"term\", \"pin\", \"pin\", \"board\", \"coursera\", \"pinner\", \"\\u201cuse\\u201d,\", \"pins.\", \"tutorial\", \"requirement\", \"chicken\", \"c.\", \"scikit\", \"related\", \"crp\", \"user,\", \"composition\", \"march\", \"offline.\", \"nearline\", \"relationships,\", \"objection\", \"group\", \"offline\", \"along,\", \"pinterest\", \"titles.\", \"poor\", \"relaxed\", \"periodically\", \"1/(1\", \"real-time\", \"variant\", \"generator\", \"lowest\", \"query\", \"interest\", \"quality\", \"user\", \"simulation\", \"cluster\", \"powerful\", \"computation\", \"feed\", \"home\", \"algorithm\", \"moral\", \"value\", \"may\", \"machine\", \"would\", \"human\", \"way\", \"it\\u2019s\", \"used\", \"like\", \"go\", \"function\", \"people\", \"also\", \"different\", \"\\u2014\", \"one\", \"learning\", \"model\", \"data\", \"first\", \"using\", \"think\", \"best\", \"much\", \"u\", \"number\", \"process\", \"make\", \"system\", \"use\", \"could\", \"part\", \"new\", \"feature\", \"get\", \"time\", \"need\", \"many\", \"compressed\", \"lkh\", \"path1\", \"conversational\", \"participant\", \"human-like\", \"\\u201cfrom\", \"sequential\", \"paths.\", \"christmas\", \"manageable\", \"self-attention\", \"euclidean\", \"multi-head\", \"fight\", \"nlu\", \"bot\", \"matrix\", \"(b)\", \"happen.\", \"upper\", \"okay\", \"nlp\", \"21.4%\", \"competitors.\", \"hire\", \"6.2mpath2\", \"scholarship\", \"path.a\", \"personality\", \"diagonal\", \"future\", \"28.6%\", \"second\", \"ballerina\", \"convolution\", \"problem.\", \"research\", \"square\", \"get\", \"house\", \"point\", \"average\", \"could\", \"/\", \"start\", \"people\", \"don\\u2019t\", \"learning\", \"machine\", \"way\", \"problem\", \"\\u2014\", \"one\", \"like\", \"course\", \"make\", \"it\\u2019s\", \"would\", \"computer\", \"find\", \"really\", \"use\", \"part\", \"need\", \"set\", \"data\", \"every\", \"time\", \"good\", \"even\", \"model\", \"u\", \"much\", \"human\", \"feature\", \"new\", \"also\", \"using\", \"sampling\\u7684\\u5b9e\\u73b0,\\u518d\\u56de\\u8fc7\\u5934\\u8bfb\\u4e86\\u4e00\\u4e0bplda\\u7684\\u6e90\\u7801,\\u57fa\\u672c\\u4e0a\\u7b97\\u662f\\u5bf9lda\\u6709\\u4e86\\u4e2a\\u76f8\\u5bf9\\u6e05\\u695a\\u7684\\u4e86\\u89e3\\u3002\", \"\\u53d1\\u73b0\\u4f5c\\u4e3a\\u5de5\\u7a0b\\u5e08\\u6765\\u8bf4,\\u8fd8\\u662f\\u770b\\u4ee3\\u7801\\u6bd4\\u8f83\\u6709\\u611f\\u89c9,\\u770b\\u5b9e\\u9645\\u5e94\\u7528\\u7684\\u5b9e\\u4f8b\\u6bd4\\u8f83\\u6709\\u611f\\u89c9,\\u770b\\u6765\\u4e0d\\u80fd\\u628a\\u5927\\u90e8\\u5206\\u65f6\\u95f4\\u82b1\\u5728prml\\u4e0a,\\u8fd8\\u662f\\u8981\\u591a\\u5bf9\\u7167\\u7740\\u4ee3\\u7801\\u770b\\u3002\", \"\\u4e00\\u5f00\\u59cb\\u76f4\\u63a5\\u5c31\\u4e0b\\u4e86blei\\u7684\\u539f\\u59cb\\u7684\\u90a3\\u7bc7\\u8bba\\u6587\\u6765\\u770b,\\u4f46\\u662f\\u770b\\u4e86\\u4e2a\\u5f00\\u5934\\u5c31\\u88abdirichlet\\u5206\\u5e03\\u548c\\u51e0\\u4e2a\\u6570\\u5b66\\u516c\\u5f0f\\u6253\\u5012,\\u7136\\u540e\\u56e0\\u4e3a\\u4e13\\u5fc3\\u5728\\u5199\\u9879\\u76ee\\u4e2d\\u7684\\u5177\\u4f53\\u7684\\u4ee3\\u7801,\\u4e5f\\u5c31\\u5148\\u653e\\u4e0b\\u4e86\\u3002\\u4f46\\u662f\\u56e0\\u4e3a\\u53d1\\u73b0\\u5b8c\\u5168\\u5fd8\\u8bb0\\u4e86\\u672c\\u79d1\\u5b66\\u7684\\u6982\\u7387\\u548c\\u7edf\\u8ba1\\u7684\\u5185\\u5bb9,\\u53ea\\u597d\\u56de\\u5934\\u53bb\\u770b\\u5927\\u5b66\\u65f6\\u5019\\u6982\\u7387\\u8bba\\u7684\\u6559\\u6750,\\u53d1\\u73b0\\u65e9\\u4e0d\\u77e5\\u9053\\u501f\\u7ed9\\u8c01\\u4e86,\\u4e8e\\u662f\\u4e0a\\u7f51\\u4e70\\u4e86\\u672c,\\u82b1\\u4e86\\u51e0\\u5929\\u65f6\\u95f4\\u5927\\u81f4\\u56de\\u987e\\u4e86\\u4e00\\u904d\\u6982\\u7387\\u8bba\\u7684\\u77e5\\u8bc6,\\u4ec0\\u4e48\\u8d1d\\u53f6\\u65af\\u5168\\u6982\\u7387\\u516c\\u5f0f,\\u6b63\\u6001\\u5206\\u5e03,\\u4e8c\\u9879\\u5206\\u5e03\\u4e4b\\u7c7b\\u7684\\u3002\\u540e\\u6765\\u665a\\u4e0a\\u6ca1\\u4e8b\\u513f\\u7684\\u65f6\\u5019,\\u53bb\\u6c34\\u6728\\u7684ai\\u7248\\u8f6c\\u4e86\\u8f6c,\\u4e86\\u89e3\\u5230\\u4e86machine\", \"models\\u90a3\\u4e00\\u5f20,\\u89c9\\u5f97\\u5bf9\\u4e8elda\\u60f3\\u89e3\\u51b3\\u7684\\u95ee\\u9898\\u548c\\u65b9\\u6cd5\\u4e86\\u89e3\\u4e86\\u66f4\\u6e05\\u695a\\u4e86\\u3002\\u4e4b\\u540e\\u4ecesearch\", \"steyvers\\u548ctom\", \"\\u8fd9\\u6837\\u524d\\u524d\\u540e\\u540e,\\u4e5f\\u8fc7\\u53bb\\u4e86\\u4e09\\u4e2a\\u6708,\\u5176\\u5b9e\\u4e0d\\u5c11\\u65f6\\u95f4\\u90fd\\u662f\\u6d6a\\u8d39\\u6389\\u7684,\\u6bd4\\u5982blei\\u7684\\u8bba\\u6587\\u5728\\u6ca1\\u6709\\u4efb\\u4f55\\u76f8\\u5173\\u77e5\\u8bc6\\u7684\\u60c5\\u51b5\\u4e0b\\u4e00\\u5f00\\u59cb\\u8bfb\\u4e86\\u597d\\u51e0\\u6b21,\\u90fd\\u6ca1\\u8bfb\\u5b8c\\u800c\\u4e14\\u5f97\\u5230\\u5230\\u4fe1\\u606f\\u4e5f\\u5f88\\u6709\\u9650,\\u5982\\u679c\\u91cd\\u65b0\\u603b\\u7ed3\\u4e00\\u4e0b,\\u6211\\u89c9\\u5f97\\u5bf9\\u4e8e\\u6211\\u4eec\\u8fd9\\u4e9b\\u95e8\\u5916\\u6c49\\u7a0b\\u5e8f\\u5458\\u6765\\u8bf4,\\u60f3\\u4e86\\u89e3lda\\u5927\\u6982\\u9700\\u8981\\u8fd9\\u4e9b\\u77e5\\u8bc6:\", \"griffiths\\u5408\\u8457\\u7684probabilistic\", \"data\\u7684\\u79d1\\u666e\\u6027\\u8d28\\u7684\\u6587\\u7ae0,\\u7ffb\\u4e86\\u4e00\\u904d\\u4e4b\\u540e,\\u518d\\u53bbprml\\u91cc\\u770b\\u4e86\\u4e00\\u904dgraphic\", \"\\u751f\\u547d\\u5982\\u6b64\\u77ed\\u6682,\\u638c\\u63e1\\u6280\\u827a\\u5374\\u8981\\u5982\\u6b64\\u957f\\u4e45\", \"\\u57fa\\u672c\\u4e0a\\u8fd9\\u6837\\u4e00\\u5708\\u4e0b\\u6765,\\u57fa\\u672c\\u6982\\u5ff5\\u548c\\u7b97\\u6cd5\\u5b9e\\u73b0\\u90fd\\u5e94\\u8be5\\u641e\\u5b9a\\u4e86,\\u5f53\\u7136,\\u6570\\u5b66\\u8bc1\\u660e\\u5176\\u5b9e\\u6ca1\\u90a3\\u4e48\\u5bb9\\u6613\\u5c31\\u641e\\u5b9a,\\u4f46\\u662f\\u5bf9\\u4e8e\\u5de5\\u7a0b\\u5e08\\u6765\\u8bf4,\\u5148\\u628a\\u8fd9\\u4e9b\\u641e\\u5b9a\\u5c31\\u80fd\\u5e72\\u6d3b\\u4e86,\\u8fd9\\u4e2a\\u6b65\\u9aa4\\u5e76\\u4e0d\\u9002\\u5408\\u5404\\u4f4d\\u8bfb\\u535a\\u58eb\\u53d1\\u8bba\\u6587\\u7684\\u540c\\u5b66\\u4eec,\\u4f46\\u662f\\u8fd9\\u6837\\u5148\\u770b\\u770b\\u4e5f\\u6bd4\\u8f83\\u5bb9\\u6613\\u5bf9\\u4e8e\\u8fd9\\u4e9b\\u6570\\u5b66\\u95ee\\u9898\\u7684\\u5174\\u8da3,\\u4e0d\\u7136,\\u6210\\u5929\\u5bf9\\u8fd9\\u7b26\\u53f7\\u548c\\u6570\\u5b66\\u516c\\u5f0f,\\u6ca1\\u6709\\u6574\\u5757\\u4e1a\\u4f59\\u65f6\\u95f4\\u7684\\u6211\\u662f\\u89c9\\u5f97\\u8fd8\\u662f\\u5bb9\\u6613\\u9000\\u7f29\\u653e\\u5f03\\u7684\\u3002\", \"learning\\u7684\\u5723\\u7ecfprml,\\u8003\\u8651\\u5230\\u53cd\\u6b63\\u4e5f\\u662f\\u8981\\u957f\\u671f\\u5b66\\u4e60\\u4e86,\\u641e\\u4e86\\u7535\\u5b50\\u7248,\\u540c\\u65f6\\u4e0a\\u6dd8\\u5b9d\\u4e70\\u4e86\\u4e2a\\u6253\\u5370\\u80f6\\u88c5\\u7684\\u7248\\u672c\\u3002\\u6625\\u8282\\u91cc\\u6bcf\\u5929\\u665a\\u4e0a\\u770b\\u4e00\\u70b9\\u513f,\\u626b\\u4e86\\u4e00\\u4e0b\\u524d\\u4e24\\u7ae0,\\u518d\\u6b21\\u56de\\u987e\\u4e86\\u4e00\\u4e0b\\u57fa\\u672c\\u6570\\u5b66\\u77e5\\u8bc6,\\u7136\\u540e\\u4e86\\u89e3\\u4e86\\u4e0b\\u8d1d\\u53f6\\u65af\\u5b66\\u6d3e\\u90a3\\u79cd\\u91c7\\u7528\\u5171\\u8f6d\\u5148\\u9a8c\\u6765\\u5efa\\u6a21\\u7684\\u65b9\\u5f0f\\u3002\\u4e8e\\u662f\\u518d\\u6b21\\u5c1d\\u8bd5\\u56de\\u5934\\u53bb\\u770bblei\\u7684\\u90a3\\u7bc7\\u8bba\\u6587,\\u53d1\\u73b0\\u8fd8\\u662f\\u770b\\u4e0d\\u592a\\u61c2,\\u4e8e\\u662f\\u53c8\\u653e\\u4e0b\\u4e86\\u3002\\u7136\\u540e\\u67d0\\u5929tony\\u8ba9\\u6211\\u51c6\\u5907\\u51c6\\u5907\\u7ed9\\u590d\\u65e6\\u7684\\u540c\\u5b66\\u4eecshare\\u4e00\\u4e0b\\u6211\\u4eec\\u9879\\u76ee\\u4e2dlda\\u7684\\u4f7f\\u7528,\\u4e3a\\u4e86\\u4e0d\\u9732\\u602f,\\u53c8\\u53bb\\u7ffb\\u8bba\\u6587,\\u6b63\\u597d\\u770b\\u5230science\\u4e0a\\u8fd9\\u7bc7topic\", \"models,\\u5728\\u67d0\\u4e2a\\u5468\\u672b\\u5f80\\u8fd4\\u5317\\u4eac\\u7684\\u98de\\u673a\\u4e0a\\u8bfb\\u5b8c\\u4e86,\\u89c9\\u5f97\\u57fa\\u672c\\u4e0a\\u6a21\\u578b\\u8bad\\u7ec3\\u8fc7\\u7a0b\\u4e5f\\u660e\\u767d\\u4e86\\u3002\\u518d\\u4e4b\\u540e\\u5c31\\u662f\\u8bfb\\u4e86\\u4e00\\u4e0b\\u8fd9\\u4e2a\\u6700\\u7b80\\u7248\\u7684lda\", \"uninitiated\\u3002\\u4e4b\\u540e\\u5fd8\\u4e86\\u600e\\u4e48\\u53c8\\u641c\\u5230\\u4e86mark\", \"\\u8fd9\\u4e00\\u9635\\u4e3a\\u4e86\\u5de5\\u4f5c\\u4e0a\\u7684\\u5173\\u7cfb,\\u82b1\\u4e86\\u70b9\\u65f6\\u95f4\\u5b66\\u4e60\\u4e86\\u4e00\\u4e0blda\\u7b97\\u6cd5,\\u8bf4\\u5b9e\\u8bdd,\\u5bf9\\u4e8e\\u6211\\u8fd9\\u4e2a\\u5b66cs\\u800c\\u975e\\u5b66\\u6570\\u5b66\\u7684\\u4eba\\u6765\\u8bf4,\\u9664\\u4e86\\u96c6\\u4f53\\u667a\\u6167\\u7f16\\u7a0b\\u8fd9\\u672c\\u4e66\\u4e4b\\u5916\\u57fa\\u672c\\u6ca1\\u600e\\u4e48\\u770b\\u8fc7\\u673a\\u5668\\u5b66\\u4e60\\u7684\\u4eba\\u6765\\u8bf4,\\u4e00\\u5f00\\u59cb\\u8fd8\\u771f\\u662f\\u6478\\u4e0d\\u592a\\u5230\\u95e8\\u9053,\\u524d\\u524d\\u540e\\u540e\\u5feb\\u8981\\u56db\\u4e2a\\u6708\\u4e86,\\u7b97\\u662f\\u57fa\\u672c\\u4e86\\u89e3\\u4e86\\u8fd9\\u4e2a\\u7b97\\u6cd5\\u7684\\u5b9e\\u73b0,\\u8bb0\\u5f55\\u4e00\\u4e0b,\\u4e5f\\u4f9b\\u540e\\u6765\\u4eba\\u5feb\\u901f\\u5165\\u95e8\\u505a\\u4e2a\\u53c2\\u8003\\u3002\", \"gibbs\", \"engine\\u91cc\\u641c\\u5230\\u8fd9\\u7bc7\\u6587\\u7ae0,\\u7136\\u540e\\u6839\\u636e\\u63a8\\u8350\\u8bfb\\u4e86\\u4e00\\u90e8\\u5206\\u7684gibbs\", \"chatbot,\", \"unstructured\", \"to.\", \"invented\", \"social\", \"openscoring\", \"phrase-based\", \"disease,\", \"pmml\", \"tucked\", \"script\", \"zero-shot\", \"sample.\", \"opportunities.\", \"face\", \"measurement\", \"distance\", \"attribute\", \"i\\u2019ve\", \"science\", \"lot\", \"look\", \"big\", \"\\u2014\", \"neural\", \"based\", \"data\", \"new\", \"network\", \"many\", \"question\", \"learning\", \"machine\", \"let\\u2019s\", \"clap\", \"human\", \"image\", \"quick\", \"use\", \"two\", \"need\", \"also\", \"reviews.\", \"know\", \"one\", \"using\", \"time\", \"like\", \"make\", \"algorithm\", \"problem\", \"would\", \"part\", \"work\", \"model\", \"different\", \"much\", \"it\\u2019s\", \"could\", \"get\", \"way\", \"entityset\", \"stacking\", \"loan\", \"primitive\", \"aggregation\", \"manual\", \"one-to-many\", \"synthesis\", \"primitives.\", \"index,\", \"payment\", \"transformation\", \"featuretools,\", \"tornado\", \"feature\", \"entityset,\", \"dataframe,\", \"featuretools\", \"ft.dfs\", \"features.\", \"spread\", \"constructing\", \"selected\", \"\\u201cgoing\", \"kernel\", \"dfs\", \"client.\", \"removing\", \"channel\", \"client_id\", \"operation\", \"automated\", \"features,\", \"input\", \"data\", \"multiple\", \"pixel\", \"face\", \"using\", \"deep\", \"also\", \"model\", \"may\", \"one\", \"table\", \"learning\", \"computer\", \"really\", \"set\", \"use\", \"process\", \"row\", \"single\", \"two\", \"value\", \"human\", \"make\", \"term\", \"many\", \"even\", \"way\", \"machine\", \"take\", \"it\\u2019s\", \"new\", \"algorithm\", \"get\", \"different\", \"part\", \"would\", \"need\", \"like\", \"\\u2014\", \"revisions.\", \"quora,\", \"those,\", \"scientist-engineer\", \"bing.\", \"not-so-obvious\", \"known,\", \"foursquare\", \"ship\", \"*in\", \"manager\", \"\\u201cbook\\u201d\", \"bailey\", \"quickly)\", \"hogue\", \"order:\", \"book.\", \"roles.\", \"flavor\", \"folk\", \"rl\", \"relevance\", \"lately\", \"exhaustive,\", \"hackathons\", \"are:\", \"precipice\", \"google.\", \"hackathon.\", \"corollary\", \"lucky\", \"tell\", \"q\", \"engineering\", \"network\", \"sort\", \"discipline\", \"data\", \"ai\", \"machine\", \"many\", \"learn\", \"much\", \"build\", \"need\", \"function\", \"get\", \"time\", \"new\", \"take\", \"come\", \"scientist\", \"human\", \"learning\", \"different\", \"deep\", \"like\", \"use\", \"something\", \"neural\", \"let\\u2019s\", \"first\", \"model\", \"one\", \"would\", \"value\", \"\\u2014\", \"u\", \"it\\u2019s\", \"really\", \"algorithm\", \"part\", \"make\", \"using\", \"could\", \"problem\", \"also\", \"feature\"], \"Total\": [378.0, 118.0, 97.0, 47.0, 119.0, 353.0, 75.0, 136.0, 145.0, 86.0, 129.0, 51.0, 306.0, 139.0, 38.0, 88.0, 85.0, 232.0, 92.0, 174.0, 66.0, 150.0, 124.0, 120.0, 83.0, 99.0, 82.0, 91.0, 58.0, 46.0, 46.619850158691406, 5.983318328857422, 6.835689544677734, 12.542574882507324, 2.5494253635406494, 3.350311756134033, 7.718691825866699, 4.890203475952148, 3.3887903690338135, 3.430209159851074, 7.726093769073486, 32.275264739990234, 4.252243995666504, 6.850160598754883, 3.4320149421691895, 2.505805730819702, 2.447098970413208, 5.669826030731201, 4.057877063751221, 5.699069023132324, 12.386998176574707, 21.657989501953125, 2.529475688934326, 6.768713474273682, 2.5136499404907227, 7.447915554046631, 2.437521457672119, 3.2329916954040527, 2.574599027633667, 6.615688323974609, 10.193533897399902, 13.023982048034668, 10.001572608947754, 13.1262788772583, 40.665401458740234, 20.10382843017578, 45.9709587097168, 34.347965240478516, 22.378042221069336, 22.282304763793945, 23.82642364501953, 37.40987777709961, 24.30828285217285, 116.29084014892578, 17.19765281677246, 92.8480224609375, 91.76022338867188, 353.3835754394531, 159.67076110839844, 174.26715087890625, 135.07205200195312, 146.0851593017578, 72.12468719482422, 172.8656005859375, 52.87860107421875, 85.61869049072266, 104.09437561035156, 139.93702697753906, 107.80770111083984, 197.06007385253906, 232.23074340820312, 306.5537109375, 145.55255126953125, 378.3122253417969, 69.80076599121094, 136.4084014892578, 64.77217102050781, 71.7718276977539, 112.72368621826172, 102.74729919433594, 74.20379638671875, 70.25579833984375, 136.1858673095703, 86.71775817871094, 150.96768188476562, 117.77828979492188, 114.2756576538086, 124.16754150390625, 118.14098358154297, 129.02395629882812, 105.79777526855469, 120.57311248779297, 119.31866455078125, 4.266797065734863, 5.975052356719971, 2.5147581100463867, 6.579159736633301, 30.456026077270508, 5.857260227203369, 3.1781046390533447, 3.2859554290771484, 2.5335280895233154, 2.533810615539551, 4.258877754211426, 2.4161148071289062, 2.5651447772979736, 2.4369301795959473, 2.4473023414611816, 2.4024524688720703, 27.962440490722656, 37.33948516845703, 12.441532135009766, 1.6317100524902344, 2.5521762371063232, 5.881638050079346, 6.636470794677734, 4.125095844268799, 1.6734081506729126, 4.052435874938965, 1.679250955581665, 2.407344341278076, 1.6650173664093018, 3.2964882850646973, 4.106145858764648, 27.78473472595215, 7.612109184265137, 20.695600509643555, 3.958690881729126, 22.959075927734375, 15.86116886138916, 31.08794593811035, 24.096649169921875, 129.02395629882812, 58.45442199707031, 41.15882110595703, 48.30111312866211, 117.77828979492188, 25.947772979736328, 39.58733367919922, 104.09437561035156, 67.27762603759766, 306.5537109375, 353.3835754394531, 135.07205200195312, 111.37749481201172, 197.06007385253906, 232.23074340820312, 172.8656005859375, 65.48594665527344, 136.1858673095703, 146.0851593017578, 159.67076110839844, 99.41936492919922, 84.14421844482422, 88.1208724975586, 150.96768188476562, 114.2756576538086, 120.57311248779297, 88.68157958984375, 378.3122253417969, 82.30569458007812, 105.79777526855469, 85.62008666992188, 97.73783874511719, 145.55255126953125, 102.74729919433594, 112.72368621826172, 174.26715087890625, 118.14098358154297, 124.16754150390625, 139.93702697753906, 136.4084014892578, 1.7653112411499023, 1.7651768922805786, 1.7647969722747803, 1.764518141746521, 1.762080430984497, 1.7606234550476074, 1.7606465816497803, 1.7591538429260254, 1.7585475444793701, 1.757511019706726, 1.7572970390319824, 1.7567775249481201, 1.7565690279006958, 1.7536402940750122, 1.7525877952575684, 1.750357747077942, 1.7476770877838135, 2.5314571857452393, 3.4290058612823486, 5.087007522583008, 21.498258590698242, 7.4761152267456055, 5.059010028839111, 2.468231678009033, 9.219745635986328, 1.6797553300857544, 8.479907035827637, 2.550934314727783, 2.4657680988311768, 1.6569149494171143, 47.728694915771484, 15.599013328552246, 27.233985900878906, 10.92331600189209, 34.27706527709961, 66.3889389038086, 83.18388366699219, 61.75890350341797, 48.896610260009766, 197.06007385253906, 86.24461364746094, 57.115821838378906, 378.3122253417969, 124.16754150390625, 97.37086486816406, 119.31866455078125, 44.50971221923828, 306.5537109375, 353.3835754394531, 55.885986328125, 44.33763122558594, 174.26715087890625, 78.94438171386719, 46.30934524536133, 150.96768188476562, 93.27857208251953, 120.57311248779297, 139.93702697753906, 27.40916633605957, 71.49203491210938, 232.23074340820312, 136.4084014892578, 105.79777526855469, 172.8656005859375, 136.1858673095703, 116.29084014892578, 111.37749481201172, 159.67076110839844, 114.2756576538086, 86.70763397216797, 145.55255126953125, 107.80770111083984, 112.72368621826172, 146.0851593017578, 117.77828979492188, 129.02395629882812, 135.07205200195312, 7.425065040588379, 4.4758620262146, 8.335774421691895, 8.28441333770752, 4.546757698059082, 3.847931146621704, 3.065068244934082, 4.508640289306641, 3.0672447681427, 2.2828667163848877, 5.376790523529053, 15.415371894836426, 2.307284355163574, 3.1024253368377686, 118.14098358154297, 3.0624165534973145, 2.3111963272094727, 13.733048439025879, 2.319140911102295, 12.799200057983398, 4.634271144866943, 2.308295726776123, 7.007296085357666, 1.5437085628509521, 21.53687858581543, 2.333521842956543, 3.098926067352295, 1.544880986213684, 8.465949058532715, 2.3251864910125732, 13.83689022064209, 9.240228652954102, 10.768957138061523, 51.710304260253906, 378.3122253417969, 30.667938232421875, 37.171871185302734, 47.728694915771484, 136.4084014892578, 75.82478332519531, 139.93702697753906, 145.55255126953125, 91.76022338867188, 232.23074340820312, 30.23456382751465, 306.5537109375, 99.41936492919922, 88.1208724975586, 88.68157958984375, 150.96768188476562, 70.25579833984375, 24.87687110900879, 45.75632095336914, 93.27857208251953, 92.8480224609375, 174.26715087890625, 136.1858673095703, 58.73121643066406, 119.31866455078125, 97.73783874511719, 135.07205200195312, 353.3835754394531, 83.41751098632812, 146.0851593017578, 124.16754150390625, 116.29084014892578, 129.02395629882812, 107.80770111083984, 114.2756576538086, 159.67076110839844, 120.57311248779297, 172.8656005859375, 197.06007385253906, 1.486404538154602, 1.489304780960083, 1.4879372119903564, 1.4940202236175537, 1.4938302040100098, 1.4915337562561035, 1.5005875825881958, 1.5024162530899048, 1.503953456878662, 1.503237247467041, 1.5040147304534912, 1.509892225265503, 1.5084294080734253, 1.509732961654663, 1.5150108337402344, 1.516404151916504, 1.5231528282165527, 1.5275424718856812, 2.293144941329956, 5.375744819641113, 8.263427734375, 7.690903663635254, 2.328911304473877, 2.2739834785461426, 4.633321762084961, 3.1046299934387207, 2.289090871810913, 2.2998108863830566, 3.0801281929016113, 2.311177968978882, 5.401762008666992, 27.53776741027832, 11.390377044677734, 38.63208770751953, 97.37086486816406, 17.377727508544922, 11.869269371032715, 378.3122253417969, 55.78092575073242, 353.3835754394531, 119.31866455078125, 82.24722290039062, 112.72368621826172, 34.74711990356445, 120.57311248779297, 85.61869049072266, 129.02395629882812, 105.79777526855469, 124.16754150390625, 83.41751098632812, 50.668609619140625, 30.72534942626953, 174.26715087890625, 306.5537109375, 107.80770111083984, 75.82478332519531, 172.8656005859375, 150.96768188476562, 52.643470764160156, 86.24461364746094, 55.885986328125, 69.80076599121094, 145.55255126953125, 232.23074340820312, 159.67076110839844, 92.8480224609375, 197.06007385253906, 102.74729919433594, 146.0851593017578, 88.1208724975586, 116.29084014892578, 114.2756576538086, 136.1858673095703, 136.4084014892578, 117.77828979492188, 111.37749481201172, 139.93702697753906, 118.14098358154297], \"loglift\": [30.0, 29.0, 28.0, 27.0, 26.0, 25.0, 24.0, 23.0, 22.0, 21.0, 20.0, 19.0, 18.0, 17.0, 16.0, 15.0, 14.0, 13.0, 12.0, 11.0, 10.0, 9.0, 8.0, 7.0, 6.0, 5.0, 4.0, 3.0, 2.0, 1.0, 0.6477000117301941, 0.6151999831199646, 0.5902000069618225, 0.5647000074386597, 0.5557000041007996, 0.5536999702453613, 0.5458999872207642, 0.5407000184059143, 0.5306000113487244, 0.5230000019073486, 0.5210999846458435, 0.5202999711036682, 0.5188999772071838, 0.512499988079071, 0.5080000162124634, 0.5063999891281128, 0.5033000111579895, 0.5029000043869019, 0.48980000615119934, 0.4814999997615814, 0.4747999906539917, 0.4724999964237213, 0.4722999930381775, 0.4684999883174896, 0.4674000144004822, 0.4668999910354614, 0.4668000042438507, 0.46389999985694885, 0.4593999981880188, 0.4578000009059906, 0.45739999413490295, 0.45320001244544983, 0.4553999900817871, 0.44620001316070557, 0.41440001130104065, 0.4302000105381012, 0.3912999927997589, 0.4025000035762787, 0.4138000011444092, 0.41370001435279846, 0.40849998593330383, 0.37290000915527344, 0.39410001039505005, 0.2498999983072281, 0.4018000066280365, 0.25189998745918274, 0.2459000051021576, 0.10999999940395355, 0.18780000507831573, 0.17020000517368317, 0.17350000143051147, 0.15119999647140503, 0.23409999907016754, 0.1273999959230423, 0.266400009393692, 0.20280000567436218, 0.14409999549388885, 0.09849999845027924, 0.13609999418258667, 0.03669999912381172, -0.012900000438094139, -0.06830000132322311, 0.07000000029802322, -0.11710000038146973, 0.1923999935388565, 0.0575999990105629, 0.20419999957084656, 0.18000000715255737, 0.053199999034404755, 0.07199999690055847, 0.16410000622272491, 0.17579999566078186, -0.07989999651908875, 0.0794999971985817, -0.18199999630451202, -0.06679999828338623, -0.05999999865889549, -0.10719999670982361, -0.10360000282526016, -0.20880000293254852, -0.09130000323057175, -0.21289999783039093, -0.20810000598430634, 0.6607999801635742, 0.6273000240325928, 0.5899999737739563, 0.5809000134468079, 0.580299973487854, 0.5782999992370605, 0.5730000138282776, 0.5705999732017517, 0.5626000165939331, 0.5622000098228455, 0.5613999962806702, 0.5595999956130981, 0.554099977016449, 0.5461000204086304, 0.5461000204086304, 0.5450999736785889, 0.5376999974250793, 0.536300003528595, 0.5286999940872192, 0.5285999774932861, 0.5236999988555908, 0.5194000005722046, 0.5192000269889832, 0.5146999955177307, 0.5105999708175659, 0.5105000138282776, 0.5087000131607056, 0.5012999773025513, 0.4961000084877014, 0.49549999833106995, 0.4936999976634979, 0.47380000352859497, 0.478300005197525, 0.4417000114917755, 0.4909000098705292, 0.4318999946117401, 0.438400000333786, 0.39430001378059387, 0.40220001339912415, 0.29600000381469727, 0.3456000089645386, 0.3659000098705292, 0.350600004196167, 0.2777000069618225, 0.3840999901294708, 0.3490000069141388, 0.25270000100135803, 0.2888999879360199, 0.15109999477863312, 0.13420000672340393, 0.20810000598430634, 0.22460000216960907, 0.16030000150203705, 0.12460000067949295, 0.14579999446868896, 0.2587999999523163, 0.14579999446868896, 0.1290999948978424, 0.10729999840259552, 0.1720000058412552, 0.19740000367164612, 0.18129999935626984, 0.0794999971985817, 0.12759999930858612, 0.11010000109672546, 0.15549999475479126, -0.21389999985694885, 0.16259999573230743, 0.06639999896287918, 0.120899997651577, 0.06960000097751617, -0.1103999987244606, 0.03970000147819519, -0.006300000008195639, -0.24269999563694, -0.05299999937415123, -0.12460000067949295, -0.23190000653266907, -0.24140000343322754, 1.0504000186920166, 1.0500999689102173, 1.0494999885559082, 1.0490000247955322, 1.0443999767303467, 1.041700005531311, 1.041700005531311, 1.0389000177383423, 1.0377999544143677, 1.0358999967575073, 1.0354000329971313, 1.034500002861023, 1.034000039100647, 1.0285999774932861, 1.0264999866485596, 1.0223000049591064, 1.0169999599456787, 0.8823000192642212, 0.6913999915122986, 0.6819000244140625, 0.67330002784729, 0.6560999751091003, 0.6420999765396118, 0.6370000243186951, 0.6152999997138977, 0.5896000266075134, 0.5819000005722046, 0.5814999938011169, 0.5712000131607056, 0.5625, 0.5514000058174133, 0.5497999787330627, 0.5246000289916992, 0.5342000126838684, 0.44929999113082886, 0.37470000982284546, 0.3122999966144562, 0.3400999903678894, 0.366100013256073, 0.14079999923706055, 0.2621000111103058, 0.32420000433921814, -0.012799999676644802, 0.18330000340938568, 0.2151000052690506, 0.17229999601840973, 0.36090001463890076, -0.06019999831914902, -0.11420000344514847, 0.28850001096725464, 0.33709999918937683, 0.02329999953508377, 0.1923000067472458, 0.3138999938964844, 0.024000000208616257, 0.12639999389648438, 0.0551999993622303, 0.014299999922513962, 0.4034000039100647, 0.16130000352859497, -0.13740000128746033, -0.013899999670684338, 0.05130000039935112, -0.1088000014424324, -0.03929999843239784, 0.013899999670684338, 0.003000000026077032, -0.14949999749660492, -0.022600000724196434, 0.08780000358819962, -0.16449999809265137, -0.028300000354647636, -0.060100000351667404, -0.22179999947547913, -0.09570000320672989, -0.2087000012397766, -0.2621999979019165, 0.9399999976158142, 0.892300009727478, 0.7915999889373779, 0.7785999774932861, 0.7692999839782715, 0.7056999802589417, 0.7031000256538391, 0.6966000199317932, 0.6897000074386597, 0.6877999901771545, 0.683899998664856, 0.6822999715805054, 0.6812000274658203, 0.6744999885559082, 0.6690000295639038, 0.6657999753952026, 0.6610999703407288, 0.6588000059127808, 0.6373000144958496, 0.6198999881744385, 0.6140000224113464, 0.6068999767303467, 0.6060000061988831, 0.6014999747276306, 0.5979999899864197, 0.5978000164031982, 0.5972999930381775, 0.597100019454956, 0.5911999940872192, 0.5860999822616577, 0.5856999754905701, 0.5734000205993652, 0.5633999705314636, 0.47699999809265137, 0.35089999437332153, 0.45100000500679016, 0.4221000075340271, 0.4004000127315521, 0.30390000343322754, 0.35339999198913574, 0.24799999594688416, 0.24310000240802765, 0.2556000053882599, 0.11749999970197678, 0.39149999618530273, 0.04989999905228615, 0.2029000073671341, 0.22010000050067902, 0.20630000531673431, 0.0917000025510788, 0.2257000058889389, 0.4059999883174896, 0.28690001368522644, 0.14339999854564667, 0.14300000667572021, 0.0008999999845400453, 0.03629999980330467, 0.23469999432563782, 0.04619999974966049, 0.08079999685287476, -0.013700000010430813, -0.29660001397132874, 0.11289999634027481, -0.0860000029206276, -0.05209999904036522, -0.03539999946951866, -0.07580000162124634, -0.025599999353289604, -0.05180000141263008, -0.22290000319480896, -0.09030000120401382, -0.30300000309944153, -0.45559999346733093, 1.0440000295639038, 1.0429999828338623, 1.0268000364303589, 1.023300051689148, 1.0162999629974365, 1.0146000385284424, 0.9983000159263611, 0.9943000078201294, 0.9921000003814697, 0.9818000197410583, 0.9815999865531921, 0.9732000231742859, 0.9613999724388123, 0.9523000121116638, 0.9484000205993652, 0.9090999960899353, 0.9025999903678894, 0.8953999876976013, 0.8398000001907349, 0.7732999920845032, 0.7684999704360962, 0.7660999894142151, 0.7603999972343445, 0.7545999884605408, 0.7372999787330627, 0.7111999988555908, 0.7009999752044678, 0.6992999911308289, 0.6970000267028809, 0.689300000667572, 0.6552000045776367, 0.5164999961853027, 0.5769000053405762, 0.4560999870300293, 0.358599990606308, 0.5016000270843506, 0.53329998254776, 0.04410000145435333, 0.3154999911785126, 0.02800000086426735, 0.2004999965429306, 0.25429999828338623, 0.1704999953508377, 0.376800000667572, 0.13529999554157257, 0.20010000467300415, 0.12080000340938568, 0.1429000049829483, 0.10649999976158142, 0.1835000067949295, 0.27459999918937683, 0.3734999895095825, 0.005499999970197678, -0.13760000467300415, 0.0860000029206276, 0.1598999947309494, -0.030500000342726707, -0.0035000001080334187, 0.23659999668598175, 0.12200000137090683, 0.22110000252723694, 0.1606999933719635, -0.028999999165534973, -0.15469999611377716, -0.09809999912977219, 0.05909999832510948, -0.18809999525547028, 0.026200000196695328, -0.10700000077486038, 0.06970000267028809, -0.03999999910593033, -0.03550000116229057, -0.121799997985363, -0.1429000049829483, -0.07039999961853027, -0.05249999836087227, -0.19939999282360077, -0.10209999978542328], \"logprob\": [30.0, 29.0, 28.0, 27.0, 26.0, 25.0, 24.0, 23.0, 22.0, 21.0, 20.0, 19.0, 18.0, 17.0, 16.0, 15.0, 14.0, 13.0, 12.0, 11.0, 10.0, 9.0, 8.0, 7.0, 6.0, 5.0, 4.0, 3.0, 2.0, 1.0, -6.391300201416016, -8.476900100708008, -8.36870002746582, -7.787300109863281, -9.38949966430664, -9.118300437927246, -8.291500091552734, -8.753100395202637, -9.129899978637695, -9.125399589538574, -8.315299987792969, -6.886499881744385, -8.91469955444336, -8.444299697875977, -9.139900207519531, -9.456000328063965, -9.482799530029297, -8.642999649047852, -8.990500450134277, -8.659299850463867, -7.889599800109863, -7.333099842071533, -9.48069953918457, -8.500200271606445, -9.491900444030762, -8.406200408935547, -9.523300170898438, -9.243800163269043, -9.47599983215332, -8.53380012512207, -8.101900100708008, -7.861000061035156, -8.122900009155273, -7.860199928283691, -6.761199951171875, -7.449900150299072, -6.6616997718811035, -6.941999912261963, -7.3592000007629395, -7.36359977722168, -7.301700115203857, -6.886199951171875, -7.29610013961792, -5.875100135803223, -7.634500026702881, -6.098199844360352, -6.115900039672852, -4.903500080108643, -5.620100021362305, -5.550300121307373, -5.801799774169922, -5.745699882507324, -6.368599891662598, -5.601099967956543, -6.646699905395508, -6.228300094604492, -6.091599941253662, -5.841400146484375, -6.064599990844727, -5.560800075531006, -5.446199893951416, -5.223999977111816, -5.83050012588501, -5.062399864196777, -6.442999839782715, -5.907800197601318, -6.505899906158447, -6.427499771118164, -6.10290002822876, -6.176799774169922, -6.410099983215332, -6.453100204467773, -6.046899795532227, -6.338900089263916, -6.046000003814697, -6.179100036621094, -6.202400207519531, -6.166600227355957, -6.212800025939941, -6.229800224304199, -6.310800075531006, -6.301700115203857, -6.307400226593018, -8.769399642944336, -8.46619987487793, -9.368900299072266, -8.416299819946289, -6.884500026702881, -8.53499984741211, -9.151700019836426, -9.120800018310547, -9.388799667358398, -9.389100074768066, -8.870599746704102, -9.439299583435059, -9.384900093078613, -9.444199562072754, -9.4399995803833, -9.459500312805176, -7.012499809265137, -6.724699974060059, -7.831299781799316, -9.862799644470215, -9.42039966583252, -8.589799880981445, -8.469200134277344, -8.949199676513672, -9.855600357055664, -8.971199989318848, -9.854000091552734, -9.501199722290039, -9.875100135803223, -9.192700386047363, -8.974800109863281, -7.082699775695801, -8.373000144958496, -7.40939998626709, -9.014200210571289, -7.315400123596191, -7.678800106048584, -7.049900054931641, -7.296800136566162, -5.725100040435791, -6.467199802398682, -6.797699928283691, -6.652900218963623, -5.834499835968018, -7.240799903869629, -6.853499889373779, -5.982999801635742, -6.383299827575684, -5.004499912261963, -4.879300117492676, -5.767099857330322, -5.94350004196167, -5.43720006942749, -5.308700084686279, -5.582799911499023, -6.440400123596191, -5.821199893951416, -5.7677998542785645, -5.7006001472473145, -6.1097002029418945, -6.251100063323975, -6.2210001945495605, -5.7845001220703125, -6.014900207519531, -5.978700160980225, -6.240499973297119, -5.159200191497803, -6.308000087738037, -6.15310001373291, -6.310299873352051, -6.2291998863220215, -6.010900020599365, -6.209099769592285, -6.162399768829346, -5.963099956512451, -6.162199974060059, -6.184000015258789, -6.1717000007629395, -6.2067999839782715, -9.262299537658691, -9.262700080871582, -9.26360034942627, -9.264200210571289, -9.2701997756958, -9.273599624633789, -9.273699760437012, -9.277299880981445, -9.27869987487793, -9.281200408935547, -9.281900405883789, -9.283100128173828, -9.283699989318848, -9.290800094604492, -9.293399810791016, -9.29889965057373, -9.305700302124023, -9.069899559020996, -8.957300186157227, -8.572400093078613, -7.139699935913086, -8.213199615478516, -8.61769962310791, -9.340499877929688, -8.044400215148926, -9.77280044555664, -8.161399841308594, -9.363100051879883, -9.407299995422363, -9.813599586486816, -6.464200019836426, -7.584000110626221, -7.0518999099731445, -7.955900192260742, -6.897299766540527, -6.310800075531006, -6.14769983291626, -6.417699813842773, -6.625199794769287, -5.4567999839782715, -6.161799907684326, -6.5117998123168945, -4.958099842071533, -5.876100063323975, -6.087399959564209, -5.9268999099731445, -6.724400043487549, -5.215799808502197, -5.127699851989746, -6.569300174713135, -6.752099990844727, -5.697199821472168, -6.320000171661377, -6.731800079345703, -5.840000152587891, -6.219099998474121, -6.033599853515625, -5.925600051879883, -7.166800022125244, -6.450099945068359, -5.570700168609619, -5.979300022125244, -6.168300151824951, -5.837399959564209, -6.00629997253418, -6.111000061035156, -6.165200233459473, -5.957399845123291, -6.164999961853027, -6.330699920654297, -6.065000057220459, -6.229000091552734, -6.21619987487793, -6.118599891662598, -6.207900047302246, -6.229800224304199, -6.237400054931641, -7.936100006103516, -8.489999771118164, -7.968900203704834, -7.98799991607666, -8.597299575805664, -8.827799797058105, -9.057900428771973, -8.678400039672852, -9.070599555969238, -9.367799758911133, -8.51509952545166, -7.4633002281188965, -9.363699913024902, -9.074299812316895, -5.440100193023682, -9.095999717712402, -9.382200241088867, -7.602499961853027, -9.402600288391113, -7.711699962615967, -8.733599662780762, -9.437600135803223, -8.328100204467773, -9.845399856567383, -7.2133002281188965, -9.43589973449707, -9.152700424194336, -9.848999977111816, -8.153800010681152, -9.451199531555176, -7.668000221252441, -8.084099769592285, -7.940899848937988, -6.458399772644043, -4.594399929046631, -7.006800174713135, -6.843400001525879, -6.615099906921387, -5.661499977111816, -6.19920015335083, -5.69189977645874, -5.657400131225586, -6.106299877166748, -5.315800189971924, -7.080599784851074, -5.105800151824951, -6.078800201416016, -6.182300090789795, -6.189700126647949, -5.772200107574463, -6.403200149536133, -7.261099815368652, -6.7708001136779785, -6.202000141143799, -6.207099914550781, -5.7195000648498535, -5.930799961090088, -6.573400020599365, -6.052999973297119, -6.217899799346924, -5.988999843597412, -5.310100078582764, -6.344299793243408, -5.982900142669678, -6.111599922180176, -6.160299777984619, -6.09689998626709, -6.22629976272583, -6.194300174713135, -6.030900001525879, -6.179100036621094, -6.031499862670898, -6.053100109100342, -9.440699577331543, -9.43970012664795, -9.456899642944336, -9.456199645996094, -9.463399887084961, -9.466699600219727, -9.476900100708008, -9.479700088500977, -9.480899810791016, -9.491600036621094, -9.491299629211426, -9.49590015411377, -9.508500099182129, -9.516799926757812, -9.517200469970703, -9.5556001663208, -9.557700157165527, -9.562000274658203, -9.211400032043457, -8.425800323486328, -8.000699996948242, -8.074899673461914, -9.275199890136719, -9.304900169372559, -8.610400199890137, -9.03689956665039, -9.351900100708008, -9.348899841308594, -9.059100151062012, -9.354000091552734, -8.53909969329834, -7.048900127410889, -7.871399879455566, -6.770899772644043, -5.943999767303467, -7.5243000984191895, -7.873799800872803, -4.901299953460693, -6.544099807739258, -4.985400199890137, -5.89870023727417, -6.2170000076293945, -5.985599994659424, -6.956200122833252, -5.953499794006348, -6.231100082397461, -5.900199890136719, -6.076600074768066, -5.952899932861328, -6.273600101470947, -6.681099891662598, -7.082499980926514, -5.715000152587891, -5.293300151824951, -6.114699840545654, -6.3927001953125, -5.758999824523926, -5.867499828338623, -6.6809000968933105, -6.3018999099731445, -6.636600017547607, -6.474699974060059, -5.929500102996826, -5.5879998207092285, -5.906000137329102, -6.290999889373779, -5.785600185394287, -6.222499847412109, -6.003799915313721, -6.332600116729736, -6.164899826049805, -6.177999973297119, -6.088799953460693, -6.10830020904541, -6.182600021362305, -6.220600128173828, -6.1392998695373535, -6.211299896240234]}, \"token.table\": {\"Topic\": [1, 2, 3, 4, 5, 5, 1, 2, 3, 4, 5, 1, 2, 3, 1, 2, 3, 4, 1, 2, 3, 4, 5, 2, 1, 2, 4, 5, 1, 2, 3, 4, 5, 1, 2, 3, 4, 5, 1, 2, 1, 2, 3, 4, 5, 3, 5, 1, 2, 3, 4, 5, 1, 2, 3, 4, 5, 1, 2, 3, 4, 5, 5, 1, 2, 5, 1, 2, 3, 4, 5, 1, 2, 3, 4, 5, 1, 2, 3, 4, 5, 5, 1, 2, 3, 4, 5, 1, 2, 3, 4, 5, 1, 2, 3, 4, 5, 1, 2, 3, 1, 2, 3, 4, 5, 3, 1, 2, 3, 2, 3, 1, 2, 3, 4, 5, 1, 4, 1, 4, 1, 2, 3, 4, 5, 1, 2, 3, 4, 5, 2, 1, 2, 3, 2, 3, 1, 2, 3, 4, 5, 1, 2, 3, 4, 5, 1, 4, 1, 2, 3, 4, 5, 1, 2, 3, 4, 5, 5, 1, 2, 3, 4, 5, 1, 2, 3, 4, 5, 1, 2, 3, 4, 1, 2, 3, 4, 1, 2, 3, 4, 5, 1, 4, 3, 1, 2, 3, 4, 5, 1, 4, 1, 2, 3, 4, 5, 1, 2, 3, 4, 5, 1, 2, 3, 4, 5, 3, 1, 2, 3, 4, 5, 1, 2, 3, 4, 5, 1, 2, 3, 4, 5, 3, 1, 2, 3, 4, 5, 1, 4, 2, 3, 1, 2, 3, 4, 5, 1, 2, 3, 4, 5, 5, 1, 2, 3, 4, 5, 1, 2, 3, 4, 5, 1, 2, 3, 4, 5, 1, 2, 3, 4, 5, 1, 2, 3, 4, 5, 1, 4, 1, 2, 3, 4, 5, 2, 1, 2, 3, 4, 5, 1, 2, 3, 4, 5, 5, 1, 2, 3, 4, 5, 5, 1, 4, 1, 2, 3, 4, 5, 1, 2, 3, 4, 5, 1, 2, 3, 4, 5, 1, 2, 3, 4, 5, 3, 1, 2, 3, 4, 5, 1, 2, 3, 4, 5, 3, 5, 3, 1, 2, 3, 4, 5, 1, 2, 5, 1, 2, 3, 4, 5, 2, 1, 2, 3, 4, 5, 1, 2, 3, 4, 5, 1, 2, 3, 4, 5, 1, 2, 3, 4, 5, 1, 2, 3, 4, 5, 1, 2, 3, 4, 5, 1, 4, 1, 2, 3, 4, 5, 1, 2, 3, 4, 5, 1, 2, 3, 4, 1, 2, 3, 4, 5, 1, 2, 3, 4, 5, 1, 2, 3, 4, 5, 1, 2, 3, 4, 5, 5, 3, 5, 1, 2, 3, 4, 5, 1, 2, 3, 4, 5, 3, 1, 2, 3, 4, 5, 1, 2, 3, 4, 5, 1, 2, 3, 4, 1, 2, 3, 4, 5, 1, 2, 3, 4, 5, 1, 2, 3, 4, 5, 1, 2, 3, 4, 5, 1, 2, 3, 4, 5, 1, 2, 3, 4, 5, 1, 2, 3, 4, 5, 1, 2, 3, 5, 1, 2, 4, 1, 2, 3, 4, 5, 1, 3, 1, 2, 3, 4, 5, 1, 2, 3, 4, 5, 1, 2, 3, 4, 5, 1, 2, 3, 4, 5, 3, 3, 1, 2, 3, 4, 5, 1, 2, 3, 4, 5, 2, 1, 2, 3, 4, 5, 1, 3, 4, 5, 1, 2, 3, 4, 5, 1, 2, 3, 4, 5, 1, 2, 3, 4, 5, 1, 2, 3, 4, 5, 1, 2, 3, 4, 5, 2, 5, 5, 1, 2, 3, 4, 5, 1, 2, 3, 4, 5, 1, 2, 3, 4, 5, 1, 1, 2, 3, 4, 5, 1, 2, 3, 4, 5, 1, 4, 1, 2, 3, 4, 5, 1, 2, 3, 4, 5, 3, 5, 1, 2, 3, 4, 5, 1, 2, 3, 4, 5, 2, 2, 3, 2, 3, 1, 2, 3, 4, 5, 1, 2, 3, 4, 5, 1, 3, 4, 1, 2, 3, 1, 2, 3, 4, 5, 1, 2, 3, 4, 5, 1, 2, 3, 4, 5, 1, 2, 3, 1, 2, 3, 4, 1, 2, 3, 4, 5, 1, 2, 3, 4, 5, 1, 2, 3, 4, 5, 1, 2, 3, 4, 5, 1, 2, 3, 4, 5, 2, 5, 1, 2, 3, 4, 5, 1, 4, 1, 2, 3, 4, 5, 1, 2, 3, 4, 5, 1, 2, 3, 4, 5, 1, 2, 3, 4, 5, 1, 2, 3, 4, 5, 1, 2, 3, 4, 5, 1, 2, 3, 4, 5, 1, 2, 3, 4, 5, 5, 5, 1, 2, 3, 4, 5, 1, 2, 3, 4, 5, 1, 2, 3, 4, 5, 1, 2, 3, 4, 1, 1, 2, 3, 4, 5, 1, 2, 3, 4, 5, 1, 2, 3, 4, 5, 1, 2, 3, 4, 5, 5, 1, 2, 3, 4, 5, 5, 1, 2, 3, 4, 5, 3, 3, 2, 1, 2, 3, 4, 5, 1, 2, 3, 4, 5, 5, 1, 2, 3, 4, 5, 1, 2, 3, 4, 5, 1, 2, 3, 4, 5, 1, 2, 3, 4, 5, 2, 1, 2, 3, 1, 2, 3, 4, 5, 5, 1, 2, 3, 4, 5, 1, 2, 3, 4, 5, 1, 2, 3, 4, 5, 1, 2, 3, 4, 5, 1, 2, 3, 4, 5, 1, 2, 3, 4, 5, 1, 2, 3, 4, 5, 1, 2, 4, 5, 1, 2, 3, 4, 5, 3, 1, 2, 3, 4, 5, 1, 2, 3, 4, 5, 1, 2, 3, 4, 5, 1, 2, 3, 4, 5, 1, 2, 3, 4, 5, 1, 2, 3, 4, 5, 1, 2, 3, 4, 5, 5, 1, 2, 3, 4, 5, 1, 2, 3, 1, 3, 4, 1, 2, 3, 4, 5, 3, 1, 2, 3, 4, 5, 1, 2, 3, 4, 5, 1, 2, 3, 4, 5, 3, 3, 2, 3, 1, 2, 3, 4, 5, 1, 2, 3, 4, 5, 1, 2, 3, 4, 5, 1, 2, 3, 4, 5, 1, 2, 3, 4, 5, 1, 2, 3, 4, 5, 1, 2, 3, 4, 5, 1, 2, 3, 4, 5, 1, 2, 3, 4, 5, 1, 2, 3, 4, 5, 2, 3, 1, 2, 3, 4, 5, 5, 1, 2, 5, 1, 3, 3, 3, 3, 3, 3, 3], \"Freq\": [0.2411278635263443, 0.40187975764274597, 0.16075190901756287, 0.16075190901756287, 0.08037595450878143, 0.6652309894561768, 0.23123371601104736, 0.34685057401657104, 0.1926947683095932, 0.11561685800552368, 0.07707790285348892, 0.3884100019931793, 0.3884100019931793, 0.3884100019931793, 0.24241861701011658, 0.48483723402023315, 0.24241861701011658, 0.24241861701011658, 0.26273927092552185, 0.3941088914871216, 0.13136963546276093, 0.13136963546276093, 0.13136963546276093, 0.5955036282539368, 0.21993695199489594, 0.21993695199489594, 0.43987390398979187, 0.21993695199489594, 0.2509818375110626, 0.26890912652015686, 0.1613454818725586, 0.14341820776462555, 0.19720003008842468, 0.3095686733722687, 0.17198258638381958, 0.2235773652791977, 0.15478433668613434, 0.1375860720872879, 0.39533883333206177, 0.39533883333206177, 0.26440465450286865, 0.18579785525798798, 0.22152821719646454, 0.20723606646060944, 0.11433714628219604, 0.32209956645965576, 0.32209956645965576, 0.27464187145233154, 0.1830945909023285, 0.366189181804657, 0.1830945909023285, 0.09154729545116425, 0.21644486486911774, 0.21644486486911774, 0.21644486486911774, 0.3246673047542572, 0.10822243243455887, 0.20703457295894623, 0.33125531673431396, 0.22773802280426025, 0.14492419362068176, 0.10351728647947311, 0.6629412174224854, 0.2526087760925293, 0.5052175521850586, 0.2526087760925293, 0.280132532119751, 0.1400662660598755, 0.31514909863471985, 0.10504969954490662, 0.15757454931735992, 0.29259392619132996, 0.23686173558235168, 0.19506260752677917, 0.1393304318189621, 0.15326347947120667, 0.20451314747333527, 0.2249644696712494, 0.3272210359573364, 0.12270789593458176, 0.14315921068191528, 0.6694201231002808, 0.5013940334320068, 0.16713133454322815, 0.16713133454322815, 0.16713133454322815, 0.6565329432487488, 0.25033581256866455, 0.3933848440647125, 0.10728677362203598, 0.14304903149604797, 0.10728677362203598, 0.2877936363220215, 0.20145554840564728, 0.14389681816101074, 0.1726761758327484, 0.20145554840564728, 0.2915274202823639, 0.2915274202823639, 0.2915274202823639, 0.23624049127101898, 0.23624049127101898, 0.11812024563550949, 0.23624049127101898, 0.11812024563550949, 0.5721880793571472, 0.29509055614471436, 0.29509055614471436, 0.29509055614471436, 0.3946624994277954, 0.3946624994277954, 0.22554203867912292, 0.22554203867912292, 0.3157588541507721, 0.11277101933956146, 0.13532522320747375, 0.3226924240589142, 0.3226924240589142, 0.4300730228424072, 0.4300730228424072, 0.3574932813644409, 0.22343330085277557, 0.22343330085277557, 0.13405998051166534, 0.044686660170555115, 0.23683302104473114, 0.2170969396829605, 0.2170969396829605, 0.1381525993347168, 0.17762476205825806, 0.5975828170776367, 0.2913740277290344, 0.2913740277290344, 0.2913740277290344, 0.4687356650829315, 0.23436783254146576, 0.37773188948631287, 0.12591062486171722, 0.1678808331489563, 0.20985105633735657, 0.1678808331489563, 0.18105125427246094, 0.2816352844238281, 0.2112264484167099, 0.20116804540157318, 0.13075923919677734, 0.4332200586795807, 0.4332200586795807, 0.15199509263038635, 0.45598527789115906, 0.15199509263038635, 0.15199509263038635, 0.15199509263038635, 0.1306672841310501, 0.3484460711479187, 0.1306672841310501, 0.21777880191802979, 0.1306672841310501, 0.43267980217933655, 0.2207537591457367, 0.3141495883464813, 0.20377269387245178, 0.13584846258163452, 0.12735792994499207, 0.1985158771276474, 0.3054090440273285, 0.24432723224163055, 0.15270452201366425, 0.10689316689968109, 0.4388730525970459, 0.14629101753234863, 0.14629101753234863, 0.14629101753234863, 0.47033989429473877, 0.23516994714736938, 0.23516994714736938, 0.23516994714736938, 0.21410885453224182, 0.1903189867734909, 0.2193955034017563, 0.23261210322380066, 0.14538255333900452, 0.4326763451099396, 0.4326763451099396, 0.5684551000595093, 0.2505776882171631, 0.19782450795173645, 0.14507129788398743, 0.23738940060138702, 0.15825960040092468, 0.4285368025302887, 0.4285368025302887, 0.24353738129138947, 0.48707476258277893, 0.24353738129138947, 0.24353738129138947, 0.24353738129138947, 0.27827325463294983, 0.1947912722826004, 0.2133428305387497, 0.1576881855726242, 0.14841240644454956, 0.2527535557746887, 0.16850237548351288, 0.2527535557746887, 0.16850237548351288, 0.2527535557746887, 0.40514835715293884, 0.18359413743019104, 0.2203129529953003, 0.3671882748603821, 0.11015647649765015, 0.11015647649765015, 0.20809295773506165, 0.3121394217014313, 0.20809295773506165, 0.11891026049852371, 0.1486378312110901, 0.23296695947647095, 0.12942609190940857, 0.20708173513412476, 0.20708173513412476, 0.20708173513412476, 0.5713117718696594, 0.13467895984649658, 0.13467895984649658, 0.13467895984649658, 0.40403687953948975, 0.13467895984649658, 0.3265395164489746, 0.3265395164489746, 0.38984155654907227, 0.38984155654907227, 0.22509194910526276, 0.25578629970550537, 0.20462903380393982, 0.1739346832036972, 0.1432403326034546, 0.23084671795368195, 0.2794460356235504, 0.21869689226150513, 0.17009758949279785, 0.10934844613075256, 0.43975692987442017, 0.12571054697036743, 0.18856580555438995, 0.3771316111087799, 0.25142109394073486, 0.06285527348518372, 0.2200760394334793, 0.2200760394334793, 0.11850248277187347, 0.32164961099624634, 0.1269669532775879, 0.18571899831295013, 0.18571899831295013, 0.18571899831295013, 0.278578519821167, 0.18571899831295013, 0.23438964784145355, 0.15625976026058197, 0.07812988013029099, 0.31251952052116394, 0.15625976026058197, 0.29126816987991333, 0.14563408493995667, 0.07281704246997833, 0.29126816987991333, 0.14563408493995667, 0.4334099590778351, 0.4334099590778351, 0.34750181436538696, 0.2673090696334839, 0.1871163547039032, 0.10692363232374191, 0.08019272238016129, 0.4086131751537323, 0.19014972448349, 0.285224586725235, 0.2376871556043625, 0.15449665486812592, 0.13072793185710907, 0.2865298092365265, 0.24355033040046692, 0.14326490461826324, 0.15759138762950897, 0.15759138762950897, 0.4360823333263397, 0.18602073192596436, 0.18602073192596436, 0.18602073192596436, 0.18602073192596436, 0.3720414638519287, 0.6655945181846619, 0.43119415640830994, 0.43119415640830994, 0.29199230670928955, 0.24527354538440704, 0.12847661972045898, 0.16351570188999176, 0.17519539594650269, 0.21594591438770294, 0.3959008455276489, 0.14396394789218903, 0.14396394789218903, 0.10797295719385147, 0.38390716910362244, 0.23034429550170898, 0.23034429550170898, 0.07678142935037613, 0.07678142935037613, 0.19376246631145477, 0.31777045130729675, 0.17826147377490997, 0.14725947380065918, 0.15500997006893158, 0.5705848336219788, 0.3214910924434662, 0.20802365243434906, 0.1702011674642563, 0.1702011674642563, 0.1323786973953247, 0.22191055119037628, 0.2686285674571991, 0.22191055119037628, 0.15183353424072266, 0.14015403389930725, 0.4348183572292328, 0.4348183572292328, 0.5679731369018555, 0.4036490321159363, 0.16145962476730347, 0.16145962476730347, 0.16145962476730347, 0.08072981238365173, 0.32466182112693787, 0.32466182112693787, 0.32466182112693787, 0.21582788228988647, 0.21582788228988647, 0.21582788228988647, 0.21582788228988647, 0.21582788228988647, 0.61285400390625, 0.2467651665210724, 0.4935303330421448, 0.2467651665210724, 0.2467651665210724, 0.6600612998008728, 0.37024417519569397, 0.20569120347499847, 0.20569120347499847, 0.12341472506523132, 0.12341472506523132, 0.29082489013671875, 0.3250395655632019, 0.15396611392498016, 0.11975141614675522, 0.10264407098293304, 0.2869158089160919, 0.18362611532211304, 0.2295326441526413, 0.1606728583574295, 0.13771958649158478, 0.17072828114032745, 0.3414565622806549, 0.17072828114032745, 0.17072828114032745, 0.17072828114032745, 0.16467289626598358, 0.2660100758075714, 0.2660100758075714, 0.1773400455713272, 0.11400431394577026, 0.4380457103252411, 0.4380457103252411, 0.17404654622077942, 0.21272355318069458, 0.193385049700737, 0.2707390785217285, 0.17404654622077942, 0.36886394023895264, 0.14754557609558105, 0.27050021290779114, 0.17213650047779083, 0.07377278804779053, 0.1965792328119278, 0.1965792328119278, 0.3931584656238556, 0.1965792328119278, 0.28065821528434753, 0.2669675648212433, 0.17797838151454926, 0.15059709548950195, 0.12321580201387405, 0.11669610440731049, 0.23339220881462097, 0.35008832812309265, 0.1458701342344284, 0.1458701342344284, 0.13929595053195953, 0.325023889541626, 0.09286396950483322, 0.27859190106391907, 0.13929595053195953, 0.19582600891590118, 0.23778872191905975, 0.26576387882232666, 0.16785086691379547, 0.13987572491168976, 0.6664056181907654, 0.4293851852416992, 0.4293851852416992, 0.24316930770874023, 0.19453544914722443, 0.24316930770874023, 0.14590157568454742, 0.18237698078155518, 0.2250829041004181, 0.2740139663219452, 0.20877255499362946, 0.16962769627571106, 0.12069663405418396, 0.5690557360649109, 0.17893573641777039, 0.2147228866815567, 0.3041907548904419, 0.14314858615398407, 0.17893573641777039, 0.27188751101493835, 0.27188751101493835, 0.1966845840215683, 0.12148165702819824, 0.133051335811615, 0.16736255586147308, 0.5020876526832581, 0.33472511172294617, 0.16736255586147308, 0.23992972075939178, 0.11996486037969589, 0.11996486037969589, 0.3598945736885071, 0.11996486037969589, 0.259071946144104, 0.1457279771566391, 0.3076479434967041, 0.1457279771566391, 0.129535973072052, 0.22840963304042816, 0.22840963304042816, 0.3005389869213104, 0.12021559476852417, 0.10819403827190399, 0.39993709325790405, 0.29995283484458923, 0.09998427331447601, 0.09998427331447601, 0.09998427331447601, 0.18512478470802307, 0.37024956941604614, 0.18512478470802307, 0.18512478470802307, 0.18512478470802307, 0.26882970333099365, 0.26882970333099365, 0.19808503985404968, 0.12168081104755402, 0.1443191021680832, 0.22028717398643494, 0.27168750762939453, 0.21294426918029785, 0.16888684034347534, 0.12482939660549164, 0.23480364680290222, 0.46960729360580444, 0.23480364680290222, 0.6648871302604675, 0.2598799169063568, 0.2598799169063568, 0.2598799169063568, 0.1927611231803894, 0.20114204287528992, 0.2598084807395935, 0.16761836409568787, 0.16761836409568787, 0.3990732431411743, 0.3990732431411743, 0.16068780422210693, 0.40171951055526733, 0.16068780422210693, 0.1339065134525299, 0.16068780422210693, 0.3051431179046631, 0.16346952319145203, 0.22885733842849731, 0.20706139504909515, 0.08718374371528625, 0.12821324169635773, 0.12821324169635773, 0.384639710187912, 0.192319855093956, 0.12821324169635773, 0.26107409596443176, 0.21298149228096008, 0.18550001084804535, 0.2061111181974411, 0.13740742206573486, 0.5692240595817566, 0.5667269825935364, 0.34888482093811035, 0.17444241046905518, 0.17444241046905518, 0.17444241046905518, 0.11629494279623032, 0.25726625323295593, 0.23065249621868134, 0.212909996509552, 0.14193999767303467, 0.16855375468730927, 0.41035234928131104, 0.29346609115600586, 0.16303671896457672, 0.16303671896457672, 0.2608587443828583, 0.13042937219142914, 0.35274451971054077, 0.17637225985527039, 0.17637225985527039, 0.17637225985527039, 0.19075563549995422, 0.26539912819862366, 0.232224240899086, 0.14928701519966125, 0.15758073329925537, 0.1437801718711853, 0.2464803010225296, 0.27729034423828125, 0.1437801718711853, 0.19513024389743805, 0.12754419445991516, 0.26668331027030945, 0.2898731827735901, 0.16232897341251373, 0.16232897341251373, 0.2174481302499771, 0.20939449965953827, 0.26576992869377136, 0.15301905572414398, 0.15301905572414398, 0.3013649880886078, 0.4520474970340729, 0.1506824940443039, 0.1506824940443039, 0.1506824940443039, 0.416241317987442, 0.416241317987442, 0.6704508066177368, 0.28300440311431885, 0.22909879684448242, 0.2021459937095642, 0.14824038743972778, 0.14824038743972778, 0.3509345054626465, 0.17546725273132324, 0.17546725273132324, 0.17546725273132324, 0.17546725273132324, 0.3693786859512329, 0.13851700723171234, 0.13851700723171234, 0.18468934297561646, 0.18468934297561646, 0.4086471498012543, 0.1700206696987152, 0.3400413393974304, 0.1700206696987152, 0.1700206696987152, 0.1700206696987152, 0.23683340847492218, 0.26697584986686707, 0.1937727928161621, 0.18516066670417786, 0.12056973576545715, 0.32625702023506165, 0.32625702023506165, 0.1337593048810959, 0.1337593048810959, 0.40127792954444885, 0.1337593048810959, 0.1337593048810959, 0.21681171655654907, 0.14454114437103271, 0.21681171655654907, 0.28908228874206543, 0.14454114437103271, 0.6035313010215759, 0.6594548225402832, 0.22752001881599426, 0.2712738811969757, 0.21876925230026245, 0.15751385688781738, 0.13126155734062195, 0.22983957827091217, 0.42684492468833923, 0.16417112946510315, 0.09850267320871353, 0.09850267320871353, 0.6005943417549133, 0.3976525664329529, 0.3976525664329529, 0.39470648765563965, 0.39470648765563965, 0.1859845519065857, 0.1859845519065857, 0.1859845519065857, 0.3719691038131714, 0.1859845519065857, 0.2785933315753937, 0.30741333961486816, 0.18252667784690857, 0.12488666921854019, 0.11528000235557556, 0.30931103229522705, 0.30931103229522705, 0.30931103229522705, 0.30335313081741333, 0.30335313081741333, 0.30335313081741333, 0.19766713678836823, 0.19766713678836823, 0.39533427357673645, 0.19766713678836823, 0.19766713678836823, 0.45045191049575806, 0.17160072922706604, 0.21450090408325195, 0.08580036461353302, 0.04290018230676651, 0.39864224195480347, 0.15945689380168915, 0.15945689380168915, 0.15945689380168915, 0.07972844690084457, 0.29847967624664307, 0.29847967624664307, 0.29847967624664307, 0.4432156980037689, 0.14773856103420258, 0.14773856103420258, 0.14773856103420258, 0.13451030850410461, 0.24211856722831726, 0.24211856722831726, 0.24211856722831726, 0.13451030850410461, 0.2169257253408432, 0.1084628626704216, 0.4338514506816864, 0.1084628626704216, 0.1084628626704216, 0.19436903297901154, 0.3401457965373993, 0.19436903297901154, 0.14577676355838776, 0.12148064374923706, 0.40279725193977356, 0.1342657506465912, 0.2685315012931824, 0.1342657506465912, 0.1342657506465912, 0.35902929306030273, 0.2243933081626892, 0.17951464653015137, 0.13463598489761353, 0.13463598489761353, 0.43685466051101685, 0.43685466051101685, 0.24141721427440643, 0.12070860713720322, 0.12070860713720322, 0.36212581396102905, 0.12070860713720322, 0.32602548599243164, 0.32602548599243164, 0.2065049111843109, 0.2962896525859833, 0.2244618684053421, 0.14365559816360474, 0.13467711210250854, 0.25218823552131653, 0.3782823383808136, 0.1891411691904068, 0.12609411776065826, 0.12609411776065826, 0.2846740186214447, 0.18503810465335846, 0.1992718130350113, 0.1992718130350113, 0.11386960744857788, 0.17558681964874268, 0.17558681964874268, 0.17558681964874268, 0.17558681964874268, 0.263380229473114, 0.34819239377975464, 0.1989670842885971, 0.1989670842885971, 0.14922530949115753, 0.09948354214429855, 0.38091525435447693, 0.15236610174179077, 0.22854915261268616, 0.15236610174179077, 0.15236610174179077, 0.20220306515693665, 0.20220306515693665, 0.3145380914211273, 0.17973604798316956, 0.11233503371477127, 0.12956348061561584, 0.2591269612312317, 0.30231478810310364, 0.15115739405155182, 0.15115739405155182, 0.6623687744140625, 0.6714542508125305, 0.45346754789352417, 0.15115584433078766, 0.15115584433078766, 0.15115584433078766, 0.15115584433078766, 0.1702207326889038, 0.28370124101638794, 0.1929168403148651, 0.20426487922668457, 0.1475246399641037, 0.4027852416038513, 0.18590088188648224, 0.1549174040555954, 0.1549174040555954, 0.12393391877412796, 0.4928685426712036, 0.2464342713356018, 0.2464342713356018, 0.2464342713356018, 0.41025280952453613, 0.13002373278141022, 0.13002373278141022, 0.26004746556282043, 0.13002373278141022, 0.26004746556282043, 0.40898093581199646, 0.20449046790599823, 0.20449046790599823, 0.20449046790599823, 0.20449046790599823, 0.19300085306167603, 0.3538348972797394, 0.12866723537445068, 0.12866723537445068, 0.19300085306167603, 0.1824207305908203, 0.255389004945755, 0.3283573091030121, 0.14593657851219177, 0.10945243388414383, 0.6727643609046936, 0.2420303076505661, 0.2420303076505661, 0.12101515382528305, 0.12101515382528305, 0.2420303076505661, 0.6546462774276733, 0.24118788540363312, 0.20098990201950073, 0.20098990201950073, 0.24118788540363312, 0.08039595931768417, 0.4055531322956085, 0.5664723515510559, 0.41539549827575684, 0.21087850630283356, 0.13556474447250366, 0.31631776690483093, 0.18075300753116608, 0.1506275087594986, 0.19527849555015564, 0.1627320796251297, 0.2603713274002075, 0.1627320796251297, 0.19527849555015564, 0.6693350076675415, 0.3882945477962494, 0.25886303186416626, 0.12943151593208313, 0.12943151593208313, 0.12943151593208313, 0.23585164546966553, 0.23585164546966553, 0.3537774682044983, 0.11792582273483276, 0.11792582273483276, 0.19327779114246368, 0.38655558228492737, 0.19327779114246368, 0.14495834708213806, 0.09663889557123184, 0.28541678190231323, 0.14270839095115662, 0.14270839095115662, 0.28541678190231323, 0.14270839095115662, 0.413887619972229, 0.30432549118995667, 0.30432549118995667, 0.30432549118995667, 0.19169707596302032, 0.27063116431236267, 0.23680227994918823, 0.2029733806848526, 0.1014866903424263, 0.6649141907691956, 0.3493656814098358, 0.23291045427322388, 0.11645522713661194, 0.2037966400384903, 0.08734142035245895, 0.21854904294013977, 0.17483922839164734, 0.21854904294013977, 0.21854904294013977, 0.15298432111740112, 0.13954618573188782, 0.13954618573188782, 0.41863855719566345, 0.1860615760087967, 0.13954618573188782, 0.24694420397281647, 0.24694420397281647, 0.18995708227157593, 0.1329699605703354, 0.17096136510372162, 0.23017969727516174, 0.23017969727516174, 0.1726347655057907, 0.11508984863758087, 0.23017969727516174, 0.21578365564346313, 0.21578365564346313, 0.21578365564346313, 0.21578365564346313, 0.21578365564346313, 0.1659981906414032, 0.3319963812828064, 0.2489972710609436, 0.1244986355304718, 0.1244986355304718, 0.223420649766922, 0.223420649766922, 0.446841299533844, 0.223420649766922, 0.20208483934402466, 0.3283878564834595, 0.1515636295080185, 0.17682424187660217, 0.126303032040596, 0.5675109624862671, 0.22179636359214783, 0.22179636359214783, 0.22179636359214783, 0.22179636359214783, 0.22179636359214783, 0.265228271484375, 0.24216492474079132, 0.21910160779953003, 0.161443293094635, 0.12684829533100128, 0.2645978331565857, 0.16537363827228546, 0.19844837486743927, 0.23152309656143188, 0.13229891657829285, 0.22776992619037628, 0.25174570083618164, 0.1678304672241211, 0.17981836199760437, 0.1678304672241211, 0.18156881630420685, 0.21788258850574493, 0.2541963458061218, 0.14525505900382996, 0.21788258850574493, 0.23837408423423767, 0.15324048697948456, 0.23837408423423767, 0.20432063937187195, 0.15324048697948456, 0.29333585500717163, 0.2624583840370178, 0.13894855976104736, 0.18526475131511688, 0.12350983172655106, 0.6720713973045349, 0.2173958718776703, 0.25520384311676025, 0.23629985749721527, 0.13232792913913727, 0.16068391501903534, 0.3978278636932373, 0.29162970185279846, 0.5832594037055969, 0.32232847809791565, 0.32232847809791565, 0.32232847809791565, 0.19461093842983246, 0.19461093842983246, 0.19461093842983246, 0.32435157895088196, 0.1297406256198883, 0.5953248143196106, 0.38866689801216125, 0.2591112554073334, 0.1295556277036667, 0.1295556277036667, 0.1295556277036667, 0.21441151201725006, 0.2358526736497879, 0.24657323956489563, 0.1929703652858734, 0.10720575600862503, 0.26278063654899597, 0.24331539869308472, 0.2043849378824234, 0.14598923921585083, 0.14598923921585083, 0.5692915916442871, 0.3950293958187103, 0.3918224573135376, 0.3918224573135376, 0.19871802628040314, 0.2517094910144806, 0.22521376609802246, 0.17884622514247894, 0.13910262286663055, 0.3050273060798645, 0.2218380570411682, 0.16637854278087616, 0.15251365303993225, 0.15251365303993225, 0.34804582595825195, 0.21752864122390747, 0.17402291297912598, 0.15227004885673523, 0.08701145648956299, 0.4379459321498871, 0.29196396470069885, 0.14598198235034943, 0.14598198235034943, 0.14598198235034943, 0.25658243894577026, 0.18327316641807556, 0.2199278026819229, 0.2199278026819229, 0.11729482561349869, 0.31233838200569153, 0.21540577709674835, 0.14001375436782837, 0.18309490382671356, 0.15078404545783997, 0.39240562915802, 0.19620281457901, 0.19620281457901, 0.098101407289505, 0.098101407289505, 0.2887347936630249, 0.2887347936630249, 0.17027948796749115, 0.16287603974342346, 0.0962449312210083, 0.21912719309329987, 0.24219320714473724, 0.24219320714473724, 0.16146214306354523, 0.12686310708522797, 0.28809282183647156, 0.26304125785827637, 0.19414950907230377, 0.13152062892913818, 0.12525774538516998, 0.39201322197914124, 0.39201322197914124, 0.24865514039993286, 0.27402812242507935, 0.2537297308444977, 0.10149189084768295, 0.1167156770825386, 0.6622989177703857, 0.3146529495716095, 0.3146529495716095, 0.3146529495716095, 0.39224526286125183, 0.39224526286125183, 0.566637396812439, 0.5665154457092285, 0.5689864754676819, 0.5686510801315308, 0.5702423453330994, 0.5679806470870972], \"Term\": [\"(b)\", \"(b)\", \"(b)\", \"(b)\", \"(b)\", \"*in\", \"/\", \"/\", \"/\", \"/\", \"/\", \"1/(1\", \"1/(1\", \"1/(1\", \"21.4%\", \"21.4%\", \"21.4%\", \"21.4%\", \"28.6%\", \"28.6%\", \"28.6%\", \"28.6%\", \"28.6%\", \"6.2mpath2\", \"aggregation\", \"aggregation\", \"aggregation\", \"aggregation\", \"ai\", \"ai\", \"ai\", \"ai\", \"ai\", \"algorithm\", \"algorithm\", \"algorithm\", \"algorithm\", \"algorithm\", \"along,\", \"along,\", \"also\", \"also\", \"also\", \"also\", \"also\", \"are:\", \"are:\", \"attribute\", \"attribute\", \"attribute\", \"attribute\", \"attribute\", \"automated\", \"automated\", \"automated\", \"automated\", \"automated\", \"average\", \"average\", \"average\", \"average\", \"average\", \"bailey\", \"ballerina\", \"ballerina\", \"ballerina\", \"based\", \"based\", \"based\", \"based\", \"based\", \"best\", \"best\", \"best\", \"best\", \"best\", \"big\", \"big\", \"big\", \"big\", \"big\", \"bing.\", \"board\", \"board\", \"board\", \"board\", \"book.\", \"bot\", \"bot\", \"bot\", \"bot\", \"bot\", \"build\", \"build\", \"build\", \"build\", \"build\", \"c.\", \"c.\", \"c.\", \"channel\", \"channel\", \"channel\", \"channel\", \"channel\", \"chatbot,\", \"chicken\", \"chicken\", \"chicken\", \"christmas\", \"christmas\", \"clap\", \"clap\", \"clap\", \"clap\", \"clap\", \"client.\", \"client.\", \"client_id\", \"client_id\", \"cluster\", \"cluster\", \"cluster\", \"cluster\", \"cluster\", \"come\", \"come\", \"come\", \"come\", \"come\", \"competitors.\", \"composition\", \"composition\", \"composition\", \"compressed\", \"compressed\", \"computation\", \"computation\", \"computation\", \"computation\", \"computation\", \"computer\", \"computer\", \"computer\", \"computer\", \"computer\", \"constructing\", \"constructing\", \"conversational\", \"conversational\", \"conversational\", \"conversational\", \"conversational\", \"convolution\", \"convolution\", \"convolution\", \"convolution\", \"convolution\", \"corollary\", \"could\", \"could\", \"could\", \"could\", \"could\", \"course\", \"course\", \"course\", \"course\", \"course\", \"coursera\", \"coursera\", \"coursera\", \"coursera\", \"crp\", \"crp\", \"crp\", \"crp\", \"data\", \"data\", \"data\", \"data\", \"data\", \"dataframe,\", \"dataframe,\", \"data\\u7684\\u79d1\\u666e\\u6027\\u8d28\\u7684\\u6587\\u7ae0,\\u7ffb\\u4e86\\u4e00\\u904d\\u4e4b\\u540e,\\u518d\\u53bbprml\\u91cc\\u770b\\u4e86\\u4e00\\u904dgraphic\", \"deep\", \"deep\", \"deep\", \"deep\", \"deep\", \"dfs\", \"dfs\", \"diagonal\", \"diagonal\", \"diagonal\", \"diagonal\", \"diagonal\", \"different\", \"different\", \"different\", \"different\", \"different\", \"discipline\", \"discipline\", \"discipline\", \"discipline\", \"discipline\", \"disease,\", \"distance\", \"distance\", \"distance\", \"distance\", \"distance\", \"don\\u2019t\", \"don\\u2019t\", \"don\\u2019t\", \"don\\u2019t\", \"don\\u2019t\", \"engineering\", \"engineering\", \"engineering\", \"engineering\", \"engineering\", \"engine\\u91cc\\u641c\\u5230\\u8fd9\\u7bc7\\u6587\\u7ae0,\\u7136\\u540e\\u6839\\u636e\\u63a8\\u8350\\u8bfb\\u4e86\\u4e00\\u90e8\\u5206\\u7684gibbs\", \"entityset\", \"entityset\", \"entityset\", \"entityset\", \"entityset\", \"entityset,\", \"entityset,\", \"euclidean\", \"euclidean\", \"even\", \"even\", \"even\", \"even\", \"even\", \"every\", \"every\", \"every\", \"every\", \"every\", \"exhaustive,\", \"face\", \"face\", \"face\", \"face\", \"face\", \"feature\", \"feature\", \"feature\", \"feature\", \"feature\", \"features,\", \"features,\", \"features,\", \"features,\", \"features,\", \"features.\", \"features.\", \"features.\", \"features.\", \"features.\", \"featuretools\", \"featuretools\", \"featuretools\", \"featuretools\", \"featuretools\", \"featuretools,\", \"featuretools,\", \"feed\", \"feed\", \"feed\", \"feed\", \"feed\", \"fight\", \"find\", \"find\", \"find\", \"find\", \"find\", \"first\", \"first\", \"first\", \"first\", \"first\", \"flavor\", \"folk\", \"folk\", \"folk\", \"folk\", \"folk\", \"foursquare\", \"ft.dfs\", \"ft.dfs\", \"function\", \"function\", \"function\", \"function\", \"function\", \"future\", \"future\", \"future\", \"future\", \"future\", \"generator\", \"generator\", \"generator\", \"generator\", \"generator\", \"get\", \"get\", \"get\", \"get\", \"get\", \"gibbs\", \"go\", \"go\", \"go\", \"go\", \"go\", \"good\", \"good\", \"good\", \"good\", \"good\", \"google.\", \"google.\", \"griffiths\\u5408\\u8457\\u7684probabilistic\", \"group\", \"group\", \"group\", \"group\", \"group\", \"hackathon.\", \"hackathon.\", \"hackathon.\", \"hackathons\", \"hackathons\", \"hackathons\", \"hackathons\", \"hackathons\", \"happen.\", \"hire\", \"hire\", \"hire\", \"hire\", \"hogue\", \"home\", \"home\", \"home\", \"home\", \"home\", \"house\", \"house\", \"house\", \"house\", \"house\", \"human\", \"human\", \"human\", \"human\", \"human\", \"human-like\", \"human-like\", \"human-like\", \"human-like\", \"human-like\", \"image\", \"image\", \"image\", \"image\", \"image\", \"index,\", \"index,\", \"input\", \"input\", \"input\", \"input\", \"input\", \"interest\", \"interest\", \"interest\", \"interest\", \"interest\", \"invented\", \"invented\", \"invented\", \"invented\", \"it\\u2019s\", \"it\\u2019s\", \"it\\u2019s\", \"it\\u2019s\", \"it\\u2019s\", \"i\\u2019ve\", \"i\\u2019ve\", \"i\\u2019ve\", \"i\\u2019ve\", \"i\\u2019ve\", \"kernel\", \"kernel\", \"kernel\", \"kernel\", \"kernel\", \"know\", \"know\", \"know\", \"know\", \"know\", \"known,\", \"lately\", \"lately\", \"learn\", \"learn\", \"learn\", \"learn\", \"learn\", \"learning\", \"learning\", \"learning\", \"learning\", \"learning\", \"learning\\u7684\\u5723\\u7ecfprml,\\u8003\\u8651\\u5230\\u53cd\\u6b63\\u4e5f\\u662f\\u8981\\u957f\\u671f\\u5b66\\u4e60\\u4e86,\\u641e\\u4e86\\u7535\\u5b50\\u7248,\\u540c\\u65f6\\u4e0a\\u6dd8\\u5b9d\\u4e70\\u4e86\\u4e2a\\u6253\\u5370\\u80f6\\u88c5\\u7684\\u7248\\u672c\\u3002\\u6625\\u8282\\u91cc\\u6bcf\\u5929\\u665a\\u4e0a\\u770b\\u4e00\\u70b9\\u513f,\\u626b\\u4e86\\u4e00\\u4e0b\\u524d\\u4e24\\u7ae0,\\u518d\\u6b21\\u56de\\u987e\\u4e86\\u4e00\\u4e0b\\u57fa\\u672c\\u6570\\u5b66\\u77e5\\u8bc6,\\u7136\\u540e\\u4e86\\u89e3\\u4e86\\u4e0b\\u8d1d\\u53f6\\u65af\\u5b66\\u6d3e\\u90a3\\u79cd\\u91c7\\u7528\\u5171\\u8f6d\\u5148\\u9a8c\\u6765\\u5efa\\u6a21\\u7684\\u65b9\\u5f0f\\u3002\\u4e8e\\u662f\\u518d\\u6b21\\u5c1d\\u8bd5\\u56de\\u5934\\u53bb\\u770bblei\\u7684\\u90a3\\u7bc7\\u8bba\\u6587,\\u53d1\\u73b0\\u8fd8\\u662f\\u770b\\u4e0d\\u592a\\u61c2,\\u4e8e\\u662f\\u53c8\\u653e\\u4e0b\\u4e86\\u3002\\u7136\\u540e\\u67d0\\u5929tony\\u8ba9\\u6211\\u51c6\\u5907\\u51c6\\u5907\\u7ed9\\u590d\\u65e6\\u7684\\u540c\\u5b66\\u4eecshare\\u4e00\\u4e0b\\u6211\\u4eec\\u9879\\u76ee\\u4e2dlda\\u7684\\u4f7f\\u7528,\\u4e3a\\u4e86\\u4e0d\\u9732\\u602f,\\u53c8\\u53bb\\u7ffb\\u8bba\\u6587,\\u6b63\\u597d\\u770b\\u5230science\\u4e0a\\u8fd9\\u7bc7topic\", \"let\\u2019s\", \"let\\u2019s\", \"let\\u2019s\", \"let\\u2019s\", \"let\\u2019s\", \"like\", \"like\", \"like\", \"like\", \"like\", \"lkh\", \"lkh\", \"lkh\", \"lkh\", \"loan\", \"loan\", \"loan\", \"loan\", \"loan\", \"look\", \"look\", \"look\", \"look\", \"look\", \"lot\", \"lot\", \"lot\", \"lot\", \"lot\", \"lowest\", \"lowest\", \"lowest\", \"lowest\", \"lowest\", \"lucky\", \"lucky\", \"lucky\", \"lucky\", \"lucky\", \"machine\", \"machine\", \"machine\", \"machine\", \"machine\", \"make\", \"make\", \"make\", \"make\", \"make\", \"manageable\", \"manageable\", \"manageable\", \"manager\", \"manual\", \"manual\", \"manual\", \"many\", \"many\", \"many\", \"many\", \"many\", \"march\", \"march\", \"matrix\", \"matrix\", \"matrix\", \"matrix\", \"matrix\", \"may\", \"may\", \"may\", \"may\", \"may\", \"measurement\", \"measurement\", \"measurement\", \"measurement\", \"measurement\", \"model\", \"model\", \"model\", \"model\", \"model\", \"models,\\u5728\\u67d0\\u4e2a\\u5468\\u672b\\u5f80\\u8fd4\\u5317\\u4eac\\u7684\\u98de\\u673a\\u4e0a\\u8bfb\\u5b8c\\u4e86,\\u89c9\\u5f97\\u57fa\\u672c\\u4e0a\\u6a21\\u578b\\u8bad\\u7ec3\\u8fc7\\u7a0b\\u4e5f\\u660e\\u767d\\u4e86\\u3002\\u518d\\u4e4b\\u540e\\u5c31\\u662f\\u8bfb\\u4e86\\u4e00\\u4e0b\\u8fd9\\u4e2a\\u6700\\u7b80\\u7248\\u7684lda\", \"models\\u90a3\\u4e00\\u5f20,\\u89c9\\u5f97\\u5bf9\\u4e8elda\\u60f3\\u89e3\\u51b3\\u7684\\u95ee\\u9898\\u548c\\u65b9\\u6cd5\\u4e86\\u89e3\\u4e86\\u66f4\\u6e05\\u695a\\u4e86\\u3002\\u4e4b\\u540e\\u4ecesearch\", \"moral\", \"moral\", \"moral\", \"moral\", \"moral\", \"much\", \"much\", \"much\", \"much\", \"much\", \"multi-head\", \"multiple\", \"multiple\", \"multiple\", \"multiple\", \"multiple\", \"nearline\", \"nearline\", \"nearline\", \"nearline\", \"need\", \"need\", \"need\", \"need\", \"need\", \"network\", \"network\", \"network\", \"network\", \"network\", \"neural\", \"neural\", \"neural\", \"neural\", \"neural\", \"new\", \"new\", \"new\", \"new\", \"new\", \"nlp\", \"nlp\", \"nlp\", \"nlp\", \"nlp\", \"nlu\", \"nlu\", \"not-so-obvious\", \"number\", \"number\", \"number\", \"number\", \"number\", \"objection\", \"objection\", \"objection\", \"objection\", \"objection\", \"offline\", \"offline\", \"offline\", \"offline\", \"offline\", \"offline.\", \"okay\", \"okay\", \"okay\", \"okay\", \"okay\", \"one\", \"one\", \"one\", \"one\", \"one\", \"one-to-many\", \"one-to-many\", \"openscoring\", \"openscoring\", \"openscoring\", \"openscoring\", \"openscoring\", \"operation\", \"operation\", \"operation\", \"operation\", \"operation\", \"opportunities.\", \"order:\", \"part\", \"part\", \"part\", \"part\", \"part\", \"participant\", \"participant\", \"participant\", \"participant\", \"participant\", \"path.a\", \"path1\", \"path1\", \"paths.\", \"paths.\", \"payment\", \"payment\", \"payment\", \"payment\", \"payment\", \"people\", \"people\", \"people\", \"people\", \"people\", \"periodically\", \"periodically\", \"periodically\", \"personality\", \"personality\", \"personality\", \"phrase-based\", \"phrase-based\", \"phrase-based\", \"phrase-based\", \"phrase-based\", \"pin\", \"pin\", \"pin\", \"pin\", \"pin\", \"pinner\", \"pinner\", \"pinner\", \"pinner\", \"pinner\", \"pins.\", \"pins.\", \"pins.\", \"pinterest\", \"pinterest\", \"pinterest\", \"pinterest\", \"pixel\", \"pixel\", \"pixel\", \"pixel\", \"pixel\", \"pmml\", \"pmml\", \"pmml\", \"pmml\", \"pmml\", \"point\", \"point\", \"point\", \"point\", \"point\", \"poor\", \"poor\", \"poor\", \"poor\", \"poor\", \"powerful\", \"powerful\", \"powerful\", \"powerful\", \"powerful\", \"precipice\", \"precipice\", \"primitive\", \"primitive\", \"primitive\", \"primitive\", \"primitive\", \"primitives.\", \"primitives.\", \"problem\", \"problem\", \"problem\", \"problem\", \"problem\", \"problem.\", \"problem.\", \"problem.\", \"problem.\", \"problem.\", \"process\", \"process\", \"process\", \"process\", \"process\", \"q\", \"q\", \"q\", \"q\", \"q\", \"quality\", \"quality\", \"quality\", \"quality\", \"quality\", \"query\", \"query\", \"query\", \"query\", \"query\", \"question\", \"question\", \"question\", \"question\", \"question\", \"quick\", \"quick\", \"quick\", \"quick\", \"quick\", \"quickly)\", \"quora,\", \"real-time\", \"real-time\", \"real-time\", \"real-time\", \"real-time\", \"really\", \"really\", \"really\", \"really\", \"really\", \"related\", \"related\", \"related\", \"related\", \"related\", \"relationships,\", \"relationships,\", \"relationships,\", \"relationships,\", \"relaxed\", \"relevance\", \"relevance\", \"relevance\", \"relevance\", \"relevance\", \"requirement\", \"requirement\", \"requirement\", \"requirement\", \"requirement\", \"research\", \"research\", \"research\", \"research\", \"research\", \"reviews.\", \"reviews.\", \"reviews.\", \"reviews.\", \"reviews.\", \"revisions.\", \"rl\", \"rl\", \"rl\", \"rl\", \"rl\", \"roles.\", \"row\", \"row\", \"row\", \"row\", \"row\", \"sample.\", \"sampling\\u7684\\u5b9e\\u73b0,\\u518d\\u56de\\u8fc7\\u5934\\u8bfb\\u4e86\\u4e00\\u4e0bplda\\u7684\\u6e90\\u7801,\\u57fa\\u672c\\u4e0a\\u7b97\\u662f\\u5bf9lda\\u6709\\u4e86\\u4e2a\\u76f8\\u5bf9\\u6e05\\u695a\\u7684\\u4e86\\u89e3\\u3002\", \"scholarship\", \"science\", \"science\", \"science\", \"science\", \"science\", \"scientist\", \"scientist\", \"scientist\", \"scientist\", \"scientist\", \"scientist-engineer\", \"scikit\", \"scikit\", \"scikit\", \"scikit\", \"scikit\", \"script\", \"script\", \"script\", \"script\", \"script\", \"second\", \"second\", \"second\", \"second\", \"second\", \"selected\", \"selected\", \"selected\", \"selected\", \"selected\", \"self-attention\", \"sequential\", \"sequential\", \"sequential\", \"set\", \"set\", \"set\", \"set\", \"set\", \"ship\", \"simulation\", \"simulation\", \"simulation\", \"simulation\", \"simulation\", \"single\", \"single\", \"single\", \"single\", \"single\", \"social\", \"social\", \"social\", \"social\", \"social\", \"something\", \"something\", \"something\", \"something\", \"something\", \"sort\", \"sort\", \"sort\", \"sort\", \"sort\", \"spread\", \"spread\", \"spread\", \"spread\", \"spread\", \"square\", \"square\", \"square\", \"square\", \"square\", \"stacking\", \"stacking\", \"stacking\", \"stacking\", \"start\", \"start\", \"start\", \"start\", \"start\", \"steyvers\\u548ctom\", \"synthesis\", \"synthesis\", \"synthesis\", \"synthesis\", \"synthesis\", \"system\", \"system\", \"system\", \"system\", \"system\", \"table\", \"table\", \"table\", \"table\", \"table\", \"take\", \"take\", \"take\", \"take\", \"take\", \"tell\", \"tell\", \"tell\", \"tell\", \"tell\", \"term\", \"term\", \"term\", \"term\", \"term\", \"think\", \"think\", \"think\", \"think\", \"think\", \"those,\", \"time\", \"time\", \"time\", \"time\", \"time\", \"titles.\", \"to.\", \"to.\", \"tornado\", \"tornado\", \"tornado\", \"transformation\", \"transformation\", \"transformation\", \"transformation\", \"transformation\", \"tucked\", \"tutorial\", \"tutorial\", \"tutorial\", \"tutorial\", \"tutorial\", \"two\", \"two\", \"two\", \"two\", \"two\", \"u\", \"u\", \"u\", \"u\", \"u\", \"uninitiated\\u3002\\u4e4b\\u540e\\u5fd8\\u4e86\\u600e\\u4e48\\u53c8\\u641c\\u5230\\u4e86mark\", \"unstructured\", \"upper\", \"upper\", \"use\", \"use\", \"use\", \"use\", \"use\", \"used\", \"used\", \"used\", \"used\", \"used\", \"user\", \"user\", \"user\", \"user\", \"user\", \"user,\", \"user,\", \"user,\", \"user,\", \"user,\", \"using\", \"using\", \"using\", \"using\", \"using\", \"value\", \"value\", \"value\", \"value\", \"value\", \"variant\", \"variant\", \"variant\", \"variant\", \"variant\", \"way\", \"way\", \"way\", \"way\", \"way\", \"work\", \"work\", \"work\", \"work\", \"work\", \"would\", \"would\", \"would\", \"would\", \"would\", \"zero-shot\", \"zero-shot\", \"\\u2014\", \"\\u2014\", \"\\u2014\", \"\\u2014\", \"\\u2014\", \"\\u201cbook\\u201d\", \"\\u201cfrom\", \"\\u201cfrom\", \"\\u201cfrom\", \"\\u201cuse\\u201d,\", \"\\u201cuse\\u201d,\", \"\\u4e00\\u5f00\\u59cb\\u76f4\\u63a5\\u5c31\\u4e0b\\u4e86blei\\u7684\\u539f\\u59cb\\u7684\\u90a3\\u7bc7\\u8bba\\u6587\\u6765\\u770b,\\u4f46\\u662f\\u770b\\u4e86\\u4e2a\\u5f00\\u5934\\u5c31\\u88abdirichlet\\u5206\\u5e03\\u548c\\u51e0\\u4e2a\\u6570\\u5b66\\u516c\\u5f0f\\u6253\\u5012,\\u7136\\u540e\\u56e0\\u4e3a\\u4e13\\u5fc3\\u5728\\u5199\\u9879\\u76ee\\u4e2d\\u7684\\u5177\\u4f53\\u7684\\u4ee3\\u7801,\\u4e5f\\u5c31\\u5148\\u653e\\u4e0b\\u4e86\\u3002\\u4f46\\u662f\\u56e0\\u4e3a\\u53d1\\u73b0\\u5b8c\\u5168\\u5fd8\\u8bb0\\u4e86\\u672c\\u79d1\\u5b66\\u7684\\u6982\\u7387\\u548c\\u7edf\\u8ba1\\u7684\\u5185\\u5bb9,\\u53ea\\u597d\\u56de\\u5934\\u53bb\\u770b\\u5927\\u5b66\\u65f6\\u5019\\u6982\\u7387\\u8bba\\u7684\\u6559\\u6750,\\u53d1\\u73b0\\u65e9\\u4e0d\\u77e5\\u9053\\u501f\\u7ed9\\u8c01\\u4e86,\\u4e8e\\u662f\\u4e0a\\u7f51\\u4e70\\u4e86\\u672c,\\u82b1\\u4e86\\u51e0\\u5929\\u65f6\\u95f4\\u5927\\u81f4\\u56de\\u987e\\u4e86\\u4e00\\u904d\\u6982\\u7387\\u8bba\\u7684\\u77e5\\u8bc6,\\u4ec0\\u4e48\\u8d1d\\u53f6\\u65af\\u5168\\u6982\\u7387\\u516c\\u5f0f,\\u6b63\\u6001\\u5206\\u5e03,\\u4e8c\\u9879\\u5206\\u5e03\\u4e4b\\u7c7b\\u7684\\u3002\\u540e\\u6765\\u665a\\u4e0a\\u6ca1\\u4e8b\\u513f\\u7684\\u65f6\\u5019,\\u53bb\\u6c34\\u6728\\u7684ai\\u7248\\u8f6c\\u4e86\\u8f6c,\\u4e86\\u89e3\\u5230\\u4e86machine\", \"\\u53d1\\u73b0\\u4f5c\\u4e3a\\u5de5\\u7a0b\\u5e08\\u6765\\u8bf4,\\u8fd8\\u662f\\u770b\\u4ee3\\u7801\\u6bd4\\u8f83\\u6709\\u611f\\u89c9,\\u770b\\u5b9e\\u9645\\u5e94\\u7528\\u7684\\u5b9e\\u4f8b\\u6bd4\\u8f83\\u6709\\u611f\\u89c9,\\u770b\\u6765\\u4e0d\\u80fd\\u628a\\u5927\\u90e8\\u5206\\u65f6\\u95f4\\u82b1\\u5728prml\\u4e0a,\\u8fd8\\u662f\\u8981\\u591a\\u5bf9\\u7167\\u7740\\u4ee3\\u7801\\u770b\\u3002\", \"\\u57fa\\u672c\\u4e0a\\u8fd9\\u6837\\u4e00\\u5708\\u4e0b\\u6765,\\u57fa\\u672c\\u6982\\u5ff5\\u548c\\u7b97\\u6cd5\\u5b9e\\u73b0\\u90fd\\u5e94\\u8be5\\u641e\\u5b9a\\u4e86,\\u5f53\\u7136,\\u6570\\u5b66\\u8bc1\\u660e\\u5176\\u5b9e\\u6ca1\\u90a3\\u4e48\\u5bb9\\u6613\\u5c31\\u641e\\u5b9a,\\u4f46\\u662f\\u5bf9\\u4e8e\\u5de5\\u7a0b\\u5e08\\u6765\\u8bf4,\\u5148\\u628a\\u8fd9\\u4e9b\\u641e\\u5b9a\\u5c31\\u80fd\\u5e72\\u6d3b\\u4e86,\\u8fd9\\u4e2a\\u6b65\\u9aa4\\u5e76\\u4e0d\\u9002\\u5408\\u5404\\u4f4d\\u8bfb\\u535a\\u58eb\\u53d1\\u8bba\\u6587\\u7684\\u540c\\u5b66\\u4eec,\\u4f46\\u662f\\u8fd9\\u6837\\u5148\\u770b\\u770b\\u4e5f\\u6bd4\\u8f83\\u5bb9\\u6613\\u5bf9\\u4e8e\\u8fd9\\u4e9b\\u6570\\u5b66\\u95ee\\u9898\\u7684\\u5174\\u8da3,\\u4e0d\\u7136,\\u6210\\u5929\\u5bf9\\u8fd9\\u7b26\\u53f7\\u548c\\u6570\\u5b66\\u516c\\u5f0f,\\u6ca1\\u6709\\u6574\\u5757\\u4e1a\\u4f59\\u65f6\\u95f4\\u7684\\u6211\\u662f\\u89c9\\u5f97\\u8fd8\\u662f\\u5bb9\\u6613\\u9000\\u7f29\\u653e\\u5f03\\u7684\\u3002\", \"\\u751f\\u547d\\u5982\\u6b64\\u77ed\\u6682,\\u638c\\u63e1\\u6280\\u827a\\u5374\\u8981\\u5982\\u6b64\\u957f\\u4e45\", \"\\u8fd9\\u4e00\\u9635\\u4e3a\\u4e86\\u5de5\\u4f5c\\u4e0a\\u7684\\u5173\\u7cfb,\\u82b1\\u4e86\\u70b9\\u65f6\\u95f4\\u5b66\\u4e60\\u4e86\\u4e00\\u4e0blda\\u7b97\\u6cd5,\\u8bf4\\u5b9e\\u8bdd,\\u5bf9\\u4e8e\\u6211\\u8fd9\\u4e2a\\u5b66cs\\u800c\\u975e\\u5b66\\u6570\\u5b66\\u7684\\u4eba\\u6765\\u8bf4,\\u9664\\u4e86\\u96c6\\u4f53\\u667a\\u6167\\u7f16\\u7a0b\\u8fd9\\u672c\\u4e66\\u4e4b\\u5916\\u57fa\\u672c\\u6ca1\\u600e\\u4e48\\u770b\\u8fc7\\u673a\\u5668\\u5b66\\u4e60\\u7684\\u4eba\\u6765\\u8bf4,\\u4e00\\u5f00\\u59cb\\u8fd8\\u771f\\u662f\\u6478\\u4e0d\\u592a\\u5230\\u95e8\\u9053,\\u524d\\u524d\\u540e\\u540e\\u5feb\\u8981\\u56db\\u4e2a\\u6708\\u4e86,\\u7b97\\u662f\\u57fa\\u672c\\u4e86\\u89e3\\u4e86\\u8fd9\\u4e2a\\u7b97\\u6cd5\\u7684\\u5b9e\\u73b0,\\u8bb0\\u5f55\\u4e00\\u4e0b,\\u4e5f\\u4f9b\\u540e\\u6765\\u4eba\\u5feb\\u901f\\u5165\\u95e8\\u505a\\u4e2a\\u53c2\\u8003\\u3002\", \"\\u8fd9\\u6837\\u524d\\u524d\\u540e\\u540e,\\u4e5f\\u8fc7\\u53bb\\u4e86\\u4e09\\u4e2a\\u6708,\\u5176\\u5b9e\\u4e0d\\u5c11\\u65f6\\u95f4\\u90fd\\u662f\\u6d6a\\u8d39\\u6389\\u7684,\\u6bd4\\u5982blei\\u7684\\u8bba\\u6587\\u5728\\u6ca1\\u6709\\u4efb\\u4f55\\u76f8\\u5173\\u77e5\\u8bc6\\u7684\\u60c5\\u51b5\\u4e0b\\u4e00\\u5f00\\u59cb\\u8bfb\\u4e86\\u597d\\u51e0\\u6b21,\\u90fd\\u6ca1\\u8bfb\\u5b8c\\u800c\\u4e14\\u5f97\\u5230\\u5230\\u4fe1\\u606f\\u4e5f\\u5f88\\u6709\\u9650,\\u5982\\u679c\\u91cd\\u65b0\\u603b\\u7ed3\\u4e00\\u4e0b,\\u6211\\u89c9\\u5f97\\u5bf9\\u4e8e\\u6211\\u4eec\\u8fd9\\u4e9b\\u95e8\\u5916\\u6c49\\u7a0b\\u5e8f\\u5458\\u6765\\u8bf4,\\u60f3\\u4e86\\u89e3lda\\u5927\\u6982\\u9700\\u8981\\u8fd9\\u4e9b\\u77e5\\u8bc6:\"]}, \"R\": 30, \"lambda.step\": 0.01, \"plot.opts\": {\"xlab\": \"PC1\", \"ylab\": \"PC2\"}, \"topic.order\": [4, 1, 2, 5, 3]};\n",
       "\n",
       "function LDAvis_load_lib(url, callback){\n",
       "  var s = document.createElement('script');\n",
       "  s.src = url;\n",
       "  s.async = true;\n",
       "  s.onreadystatechange = s.onload = callback;\n",
       "  s.onerror = function(){console.warn(\"failed to load library \" + url);};\n",
       "  document.getElementsByTagName(\"head\")[0].appendChild(s);\n",
       "}\n",
       "\n",
       "if(typeof(LDAvis) !== \"undefined\"){\n",
       "   // already loaded: just create the visualization\n",
       "   !function(LDAvis){\n",
       "       new LDAvis(\"#\" + \"ldavis_el406820746345787043110569421\", ldavis_el406820746345787043110569421_data);\n",
       "   }(LDAvis);\n",
       "}else if(typeof define === \"function\" && define.amd){\n",
       "   // require.js is available: use it to load d3/LDAvis\n",
       "   require.config({paths: {d3: \"https://cdnjs.cloudflare.com/ajax/libs/d3/3.5.5/d3.min\"}});\n",
       "   require([\"d3\"], function(d3){\n",
       "      window.d3 = d3;\n",
       "      LDAvis_load_lib(\"https://cdn.rawgit.com/bmabey/pyLDAvis/files/ldavis.v1.0.0.js\", function(){\n",
       "        new LDAvis(\"#\" + \"ldavis_el406820746345787043110569421\", ldavis_el406820746345787043110569421_data);\n",
       "      });\n",
       "    });\n",
       "}else{\n",
       "    // require.js not available: dynamically load d3 & LDAvis\n",
       "    LDAvis_load_lib(\"https://cdnjs.cloudflare.com/ajax/libs/d3/3.5.5/d3.min.js\", function(){\n",
       "         LDAvis_load_lib(\"https://cdn.rawgit.com/bmabey/pyLDAvis/files/ldavis.v1.0.0.js\", function(){\n",
       "                 new LDAvis(\"#\" + \"ldavis_el406820746345787043110569421\", ldavis_el406820746345787043110569421_data);\n",
       "            })\n",
       "         });\n",
       "}\n",
       "</script>"
      ],
      "text/plain": [
       "PreparedData(topic_coordinates=              x         y  topics  cluster       Freq\n",
       "topic                                                \n",
       "3     -0.006235 -0.003246       1        1  24.048319\n",
       "0     -0.001490  0.007968       2        1  23.548538\n",
       "1      0.008685 -0.002008       3        1  22.184893\n",
       "4     -0.002073 -0.003797       4        1  16.286539\n",
       "2      0.001113  0.001083       5        1  13.931714, topic_info=      Category        Freq         Term       Total  loglift  logprob\n",
       "term                                                                 \n",
       "942    Default  378.000000         data  378.000000  30.0000  30.0000\n",
       "1384   Default  118.000000      feature  118.000000  29.0000  29.0000\n",
       "1849   Default   97.000000      network   97.000000  28.0000  28.0000\n",
       "283    Default   47.000000         face   47.000000  27.0000  27.0000\n",
       "474    Default  119.000000         many  119.000000  26.0000  26.0000\n",
       "462    Default  353.000000      machine  353.000000  25.0000  25.0000\n",
       "1351   Default   75.000000         deep   75.000000  24.0000  24.0000\n",
       "803    Default  136.000000        using  136.000000  23.0000  23.0000\n",
       "1483   Default  145.000000        model  145.000000  22.0000  22.0000\n",
       "1494   Default   86.000000       neural   86.000000  21.0000  21.0000\n",
       "328    Default  129.000000          get  129.000000  20.0000  20.0000\n",
       "397    Default   51.000000        input   51.000000  19.0000  19.0000\n",
       "435    Default  306.000000     learning  306.000000  18.0000  18.0000\n",
       "45     Default  139.000000         also  139.000000  17.0000  17.0000\n",
       "1369   Default   38.000000  engineering   38.000000  16.0000  16.0000\n",
       "1889   Default   88.000000       really   88.000000  15.0000  15.0000\n",
       "990    Default   85.000000     function   85.000000  14.0000  14.0000\n",
       "534    Default  232.000000          one  232.000000  13.0000  13.0000\n",
       "1218   Default   92.000000        value   92.000000  12.0000  12.0000\n",
       "370    Default  174.000000        human  174.000000  11.0000  11.0000\n",
       "1145   Default   66.000000      science   66.000000  10.0000  10.0000\n",
       "799    Default  150.000000          use  150.000000   9.0000   9.0000\n",
       "520    Default  124.000000          new  124.000000   8.0000   8.0000\n",
       "517    Default  120.000000         need  120.000000   7.0000   7.0000\n",
       "726    Default   83.000000         take   83.000000   6.0000   6.0000\n",
       "168    Default   99.000000     computer   99.000000   5.0000   5.0000\n",
       "434    Default   82.000000        learn   82.000000   4.0000   4.0000\n",
       "1061   Default   91.000000          may   91.000000   3.0000   3.0000\n",
       "740    Default   58.000000         term   58.000000   2.0000   2.0000\n",
       "11299  Default   46.000000          pin   46.000000   1.0000   1.0000\n",
       "...        ...         ...          ...         ...      ...      ...\n",
       "520     Topic5   19.242893          new  124.167542   0.1065  -5.9529\n",
       "726     Topic5   13.962708         take   83.417511   0.1835  -6.2736\n",
       "152     Topic5    9.289580         come   50.668610   0.2746  -6.6811\n",
       "650     Topic5    6.218876    scientist   30.725349   0.3735  -7.0825\n",
       "370     Topic5   24.411304        human  174.267151   0.0055  -5.7150\n",
       "435     Topic5   37.217682     learning  306.553711  -0.1376  -5.2933\n",
       "221     Topic5   16.368423    different  107.807701   0.0860  -6.1147\n",
       "1351    Topic5   12.395511         deep   75.824783   0.1599  -6.3927\n",
       "442     Topic5   23.360374         like  172.865601  -0.0305  -5.7590\n",
       "799     Topic5   20.957947          use  150.967682  -0.0035  -5.8675\n",
       "685     Topic5    9.291674    something   52.643471   0.2366  -6.6809\n",
       "1494    Topic5   13.574039       neural   86.244614   0.1220  -6.3019\n",
       "1043    Topic5    9.712922        let’s   55.885986   0.2211  -6.6366\n",
       "309     Topic5   11.419909        first   69.800766   0.1607  -6.4747\n",
       "1483    Topic5   19.699089        model  145.552551  -0.0290  -5.9295\n",
       "534     Topic5   27.716034          one  232.230743  -0.1547  -5.5880\n",
       "842     Topic5   20.166248        would  159.670761  -0.0981  -5.9060\n",
       "1218    Topic5   13.722994        value   92.848022   0.0591  -6.2910\n",
       "853     Topic5   22.747271            —  197.060074  -0.1881  -5.7856\n",
       "791     Topic5   14.695051            u  102.747299   0.0262  -6.2225\n",
       "419     Topic5   18.287058         it’s  146.085159  -0.1070  -6.0038\n",
       "1889    Topic5   13.162892       really   88.120872   0.0697  -6.3326\n",
       "1278    Topic5   15.566808    algorithm  116.290840  -0.0400  -6.1649\n",
       "1092    Topic5   15.364650         part  114.275658  -0.0355  -6.1780\n",
       "468     Topic5   16.797432         make  136.185867  -0.1218  -6.0888\n",
       "803     Topic5   16.473774        using  136.408401  -0.1429  -6.1083\n",
       "188     Topic5   15.292923        could  117.778290  -0.0704  -6.1826\n",
       "584     Topic5   14.722880      problem  111.377495  -0.0525  -6.2206\n",
       "45      Topic5   15.971017         also  139.937027  -0.1994  -6.1393\n",
       "1384    Topic5   14.861506      feature  118.140984  -0.1021  -6.2113\n",
       "\n",
       "[420 rows x 6 columns], token_table=       Topic      Freq                                               Term\n",
       "term                                                                     \n",
       "9174       1  0.241128                                                (b)\n",
       "9174       2  0.401880                                                (b)\n",
       "9174       3  0.160752                                                (b)\n",
       "9174       4  0.160752                                                (b)\n",
       "9174       5  0.080376                                                (b)\n",
       "11344      5  0.665231                                                *in\n",
       "8391       1  0.231234                                                  /\n",
       "8391       2  0.346851                                                  /\n",
       "8391       3  0.192695                                                  /\n",
       "8391       4  0.115617                                                  /\n",
       "8391       5  0.077078                                                  /\n",
       "11105      1  0.388410                                               1/(1\n",
       "11105      2  0.388410                                               1/(1\n",
       "11105      3  0.388410                                               1/(1\n",
       "9214       1  0.242419                                              21.4%\n",
       "9214       2  0.484837                                              21.4%\n",
       "9214       3  0.242419                                              21.4%\n",
       "9214       4  0.242419                                              21.4%\n",
       "9215       1  0.262739                                              28.6%\n",
       "9215       2  0.394109                                              28.6%\n",
       "9215       3  0.131370                                              28.6%\n",
       "9215       4  0.131370                                              28.6%\n",
       "9215       5  0.131370                                              28.6%\n",
       "10429      2  0.595504                                          6.2mpath2\n",
       "1271       1  0.219937                                        aggregation\n",
       "1271       2  0.219937                                        aggregation\n",
       "1271       4  0.439874                                        aggregation\n",
       "1271       5  0.219937                                        aggregation\n",
       "39         1  0.250982                                                 ai\n",
       "39         2  0.268909                                                 ai\n",
       "...      ...       ...                                                ...\n",
       "818        5  0.096245                                                way\n",
       "838        1  0.219127                                               work\n",
       "838        2  0.242193                                               work\n",
       "838        3  0.242193                                               work\n",
       "838        4  0.161462                                               work\n",
       "838        5  0.126863                                               work\n",
       "842        1  0.288093                                              would\n",
       "842        2  0.263041                                              would\n",
       "842        3  0.194150                                              would\n",
       "842        4  0.131521                                              would\n",
       "842        5  0.125258                                              would\n",
       "6169       2  0.392013                                          zero-shot\n",
       "6169       3  0.392013                                          zero-shot\n",
       "853        1  0.248655                                                  —\n",
       "853        2  0.274028                                                  —\n",
       "853        3  0.253730                                                  —\n",
       "853        4  0.101492                                                  —\n",
       "853        5  0.116716                                                  —\n",
       "11361      5  0.662299                                             “book”\n",
       "3988       1  0.314653                                              “from\n",
       "3988       2  0.314653                                              “from\n",
       "3988       5  0.314653                                              “from\n",
       "11239      1  0.392245                                             “use”,\n",
       "11239      3  0.392245                                             “use”,\n",
       "7768       3  0.566637  一开始直接就下了blei的原始的那篇论文来看,但是看了个开头就被dirichlet分布和几个...\n",
       "7769       3  0.566515  发现作为工程师来说,还是看代码比较有感觉,看实际应用的实例比较有感觉,看来不能把大部分时间花...\n",
       "7770       3  0.568986  基本上这样一圈下来,基本概念和算法实现都应该搞定了,当然,数学证明其实没那么容易就搞定,但是...\n",
       "7771       3  0.568651                                  生命如此短暂,掌握技艺却要如此长久\n",
       "7772       3  0.570242  这一阵为了工作上的关系,花了点时间学习了一下lda算法,说实话,对于我这个学cs而非学数学的...\n",
       "7773       3  0.567981  这样前前后后,也过去了三个月,其实不少时间都是浪费掉的,比如blei的论文在没有任何相关知识...\n",
       "\n",
       "[1008 rows x 3 columns], R=30, lambda_step=0.01, plot_opts={'xlab': 'PC1', 'ylab': 'PC2'}, topic_order=[4, 1, 2, 5, 3])"
      ]
     },
     "execution_count": 95,
     "metadata": {},
     "output_type": "execute_result"
    }
   ],
   "source": [
    "pyLDAvis.enable_notebook()\n",
    "pyLDAvis.gensim.prepare(ldamodel, corpus, dictionary)"
   ]
  },
  {
   "cell_type": "code",
   "execution_count": 96,
   "metadata": {},
   "outputs": [],
   "source": [
    "import sklearn\n",
    "from sklearn.feature_extraction.text import TfidfVectorizer, CountVectorizer\n",
    "from sklearn.datasets import fetch_20newsgroups\n",
    "from sklearn.decomposition import NMF, LatentDirichletAllocation"
   ]
  },
  {
   "cell_type": "code",
   "execution_count": 98,
   "metadata": {},
   "outputs": [],
   "source": [
    "documents = main_data.text.tolist()"
   ]
  },
  {
   "cell_type": "code",
   "execution_count": 102,
   "metadata": {},
   "outputs": [],
   "source": [
    "def display_topics(model, feature_names, no_top_words):\n",
    "    for topic_idx, topic in enumerate(model.components_):\n",
    "        print(\"Topic %d:\" % (topic_idx))\n",
    "        print(\" \".join([feature_names[i]\n",
    "                        for i in topic.argsort()[:-no_top_words - 1:-1]]))"
   ]
  },
  {
   "cell_type": "code",
   "execution_count": 108,
   "metadata": {},
   "outputs": [],
   "source": [
    "hdptopics = [[word for word, prob in topic] for topicid, topic in hdpmodel.show_topics(formatted=False)]\n",
    "\n",
    "ldatopics = [[word for word, prob in topic] for topicid, topic in ldamodel.show_topics(formatted=False)]"
   ]
  },
  {
   "cell_type": "code",
   "execution_count": 109,
   "metadata": {},
   "outputs": [],
   "source": [
    "hdp_coherence = CoherenceModel(topics=hdptopics[:10], texts=texts, dictionary=dictionary, window_size=10).get_coherence()\n",
    "\n",
    "lda_coherence = CoherenceModel(topics=ldatopics, texts=texts, dictionary=dictionary, window_size=10).get_coherence()"
   ]
  },
  {
   "cell_type": "code",
   "execution_count": 113,
   "metadata": {},
   "outputs": [],
   "source": [
    "def evaluate_bar_graph(coherences, indices):\n",
    "    \"\"\"\n",
    "    Function to plot bar graph.\n",
    "    \n",
    "    coherences: list of coherence values\n",
    "    indices: Indices to be used to mark bars. Length of this and coherences should be equal.\n",
    "    \"\"\"\n",
    "    assert len(coherences) == len(indices)\n",
    "    n = len(coherences)\n",
    "    x = np.arange(n)\n",
    "    plt.bar(x, coherences, tick_label=indices, align='center')\n",
    "    plt.xlabel('Models')\n",
    "    plt.ylabel('Coherence Value')"
   ]
  },
  {
   "cell_type": "code",
   "execution_count": 114,
   "metadata": {},
   "outputs": [
    {
     "data": {
      "image/png": "[encoded data removed]",
      "text/plain": [
       "<Figure size 432x288 with 1 Axes>"
      ]
     },
     "metadata": {},
     "output_type": "display_data"
    }
   ],
   "source": [
    "evaluate_bar_graph([hdp_coherence, lda_coherence], ['HDP', 'LDA'])"
   ]
  },
  {
   "cell_type": "code",
   "execution_count": null,
   "metadata": {},
   "outputs": [],
   "source": []
  }
 ],
 "metadata": {
  "kernelspec": {
   "display_name": "Python 3",
   "language": "python",
   "name": "python3"
  },
  "language_info": {
   "codemirror_mode": {
    "name": "ipython",
    "version": 3
   },
   "file_extension": ".py",
   "mimetype": "text/x-python",
   "name": "python",
   "nbconvert_exporter": "python",
   "pygments_lexer": "ipython3",
   "version": "3.6.5"
  }
 },
 "nbformat": 4,
 "nbformat_minor": 2
}
